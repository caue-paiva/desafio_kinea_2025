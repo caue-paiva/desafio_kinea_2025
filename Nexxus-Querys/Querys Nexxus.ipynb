{
 "cells": [
  {
   "cell_type": "code",
   "execution_count": 0,
   "metadata": {
    "application/vnd.databricks.v1+cell": {
     "cellMetadata": {
      "byteLimit": 2048000,
      "rowLimit": 10000
     },
     "inputWidgets": {},
     "nuid": "7c2a997d-3c43-4db3-a5c3-d2b542e38bfd",
     "showTitle": false,
     "tableResultSettingsMap": {},
     "title": ""
    }
   },
   "outputs": [],
   "source": [
    "query = '''\n",
    "        select * from NxEnq_ResultadoEnquadramentoHist\n",
    "        where status = 1\n",
    "        data = '2025-01-29'\n",
    "        order by data desc\n",
    "        '''\n",
    "\n",
    "token =  dbutils.secrets.get(scope=\"akvdesafiokinea\", key=\"pwd-nexxus-sim\")\n",
    "\n",
    "remote_table = (spark.read \\\n",
    "  .format(\"sqlserver\") \\\n",
    "  .option(\"host\", \"knanexxus.database.windows.net\") \\\n",
    "  .option(\"user\", \"desafio_user\") \\\n",
    "  .option(\"password\", token) \\\n",
    "  .option(\"database\", \"sqldb-nexxus-sim-001\") \\\n",
    "  .option(\"query\", \"query\") # (if schemaName not provided, default to \"dbo\") \\\n",
    "  .load()\n",
    ")\n",
    "\n",
    "display(remote_table)"
   ]
  },
  {
   "cell_type": "code",
   "execution_count": 0,
   "metadata": {
    "application/vnd.databricks.v1+cell": {
     "cellMetadata": {
      "byteLimit": 2048000,
      "implicitDf": true,
      "rowLimit": 10000
     },
     "inputWidgets": {},
     "nuid": "13e732f9-c46c-4fef-978d-4146fa7360e6",
     "showTitle": false,
     "tableResultSettingsMap": {},
     "title": ""
    }
   },
   "outputs": [],
   "source": [
    "%sql\n",
    "-- select * from desafio_kinea.boletagem_cp.nxenq_resultadoenquadramentohist\n",
    "--     where status = 1\n",
    "--     and DataHoraVersao = (select MAX(DataHoraVersao) from desafio_kinea.boletagem_cp.nxenq_resultadoenquadramentohist where status = 1);\n",
    "\n",
    "select * from desafio_kinea.boletagem_cp.nxenq_regrasporconcentracao;\n",
    "\n",
    "-- SELECT \n",
    "--     desafio_kinea.boletagem_cp.coluna,  -- Coluna da tabela origem\n",
    "--     COALESCE(a.id, b.id) AS id,  -- ID correspondente das tabelas A ou B\n",
    "--     COALESCE(a.outra_coluna, b.outra_coluna) AS outra_coluna -- Exemplo de outra coluna relevante\n",
    "-- FROM origem o\n",
    "-- LEFT JOIN A a \n",
    "--     ON a.id = CAST(SUBSTRING(o.coluna FROM '[0-9]+') AS INTEGER) \n",
    "--     AND o.coluna LIKE 'L%'  -- Garante que apenas 'L' case com A\n",
    "-- LEFT JOIN B b \n",
    "--     ON b.id = CAST(SUBSTRING(o.coluna FROM '[0-9]+') AS INTEGER) \n",
    "--     AND (o.coluna LIKE 'CM%' OR o.coluna LIKE 'CD%'); -- Garante que 'CM' ou 'CD' casem com B"
   ]
  },
  {
   "cell_type": "code",
   "execution_count": 0,
   "metadata": {
    "application/vnd.databricks.v1+cell": {
     "cellMetadata": {
      "byteLimit": 2048000,
      "implicitDf": true,
      "rowLimit": 10000
     },
     "inputWidgets": {},
     "nuid": "acbb98e9-17d2-476a-a501-34461b9d2677",
     "showTitle": false,
     "tableResultSettingsMap": {},
     "title": ""
    }
   },
   "outputs": [],
   "source": [
    "%sql\n",
    "WITH UltimoHistorico AS (\n",
    "    SELECT MAX(DataHoraVersao) AS UltimaData\n",
    "    FROM desafio_kinea.boletagem_cp.nxenq_resultadoenquadramentohist\n",
    "    WHERE status = 1\n",
    ")\n",
    "\n",
    "SELECT \n",
    "    nxe.IdFundo as IdFundo,\n",
    "    nxe.IdRegra AS IdRegra_resultado_enquadramento,  \n",
    "    nxe.TipoEnquadramento as TipoEnquadramento,\n",
    "    nxe.SaldoBaseCalculo as SaldoBaseCalculo,\n",
    "    nxe.ValorExposicao as ValorExposicao,\n",
    "    nxe.SaldoObjeto as SaldoObjeto,\n",
    "    nxe.LimiteMin as LimiteMin,\n",
    "    nxe.LimiteMax as LimiteMax,\n",
    "    nxr.IdRegra as IdRegra_nexusregras,\n",
    "    nxr.ValorMin as ValorMin_nexusregras,\n",
    "    nxr.ValorMax as ValorMax_nexusregras,\n",
    "    nxr.Descricao as Descricao_nexusregras,\n",
    "    nxr.DescricaoDetalhada as DescricaoDetalhada_nexusregras,\n",
    "    nxrc.IdRegra as IdRegra_concentracao,\n",
    "    nxrc.Descricao as Descricao_concentracao,\n",
    "    nxrc.LimiteMin as LimiteMin_concentracao,\n",
    "    nxrc.LimiteMax as LimiteMax_concentracao,\n",
    "    nxrc.DescricaoDetalhada as DescricaoDetalhada_concentracao\n",
    "FROM desafio_kinea.boletagem_cp.nxenq_resultadoenquadramentohist nxe\n",
    "INNER JOIN UltimoHistorico uh \n",
    "    ON nxe.DataHoraVersao = uh.UltimaData  \n",
    "LEFT JOIN desafio_kinea.boletagem_cp.nxenq_regras nxr \n",
    "    ON nxr.IdRegra = CAST(REGEXP_REPLACE(nxe.IdRegra, '[^0-9]', '', 'g') AS INTEGER)  \n",
    "    AND nxe.IdRegra LIKE 'L%'  \n",
    "LEFT JOIN desafio_kinea.boletagem_cp.nxenq_regrasporconcentracao nxrc\n",
    "    ON nxrc.IdRegra = CAST(REGEXP_REPLACE(nxe.IdRegra, '[^0-9]', '', 'g') AS INTEGER)  \n",
    "    AND (nxe.IdRegra LIKE 'CM%' OR nxe.IdRegra LIKE 'CD%')\n",
    "where nxe.status = 1;"
   ]
  }
 ],
 "metadata": {
  "application/vnd.databricks.v1+notebook": {
   "computePreferences": null,
   "dashboards": [],
   "environmentMetadata": {
    "base_environment": "",
    "client": "1"
   },
   "language": "python",
   "notebookMetadata": {
    "mostRecentlyExecutedCommandWithImplicitDF": {
     "commandId": 7024431554350336,
     "dataframes": [
      "_sqldf"
     ]
    },
    "pythonIndentUnit": 4
   },
   "notebookName": "Querys Nexxus",
   "widgets": {}
  },
  "language_info": {
   "name": "python"
  }
 },
 "nbformat": 4,
 "nbformat_minor": 0
}
