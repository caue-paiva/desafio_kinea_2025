{
 "cells": [
  {
   "cell_type": "code",
   "execution_count": 0,
   "metadata": {
    "application/vnd.databricks.v1+cell": {
     "cellMetadata": {
      "byteLimit": 2048000,
      "rowLimit": 10000
     },
     "inputWidgets": {},
     "nuid": "7c2a997d-3c43-4db3-a5c3-d2b542e38bfd",
     "showTitle": false,
     "tableResultSettingsMap": {},
     "title": ""
    }
   },
   "outputs": [],
   "source": [
    "query = '''\n",
    "        select * from NxEnq_ResultadoEnquadramentoHist\n",
    "        where status = 1\n",
    "        data = '2025-01-29'\n",
    "        order by data desc\n",
    "        '''\n",
    "\n",
    "token =  dbutils.secrets.get(scope=\"akvdesafiokinea\", key=\"pwd-nexxus-sim\")\n",
    "\n",
    "remote_table = (spark.read \\\n",
    "  .format(\"sqlserver\") \\\n",
    "  .option(\"host\", \"knanexxus.database.windows.net\") \\\n",
    "  .option(\"user\", \"desafio_user\") \\\n",
    "  .option(\"password\", token) \\\n",
    "  .option(\"database\", \"sqldb-nexxus-sim-001\") \\\n",
    "  .option(\"query\", \"query\") # (if schemaName not provided, default to \"dbo\") \\\n",
    "  .load()\n",
    ")\n",
    "\n",
    "display(remote_table)"
   ]
  }
 ],
 "metadata": {
  "application/vnd.databricks.v1+notebook": {
   "computePreferences": null,
   "dashboards": [],
   "environmentMetadata": {
    "base_environment": "",
    "client": "1"
   },
   "language": "python",
   "notebookMetadata": {
    "pythonIndentUnit": 4
   },
   "notebookName": "Querys Nexxus",
   "widgets": {}
  },
  "language_info": {
   "name": "python"
  }
 },
 "nbformat": 4,
 "nbformat_minor": 0
}
