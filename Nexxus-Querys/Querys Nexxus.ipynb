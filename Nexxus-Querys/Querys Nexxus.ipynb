{
 "cells": [
  {
   "cell_type": "code",
   "execution_count": 0,
   "metadata": {
    "application/vnd.databricks.v1+cell": {
     "cellMetadata": {
      "byteLimit": 2048000,
      "rowLimit": 10000
     },
     "inputWidgets": {},
     "nuid": "7c2a997d-3c43-4db3-a5c3-d2b542e38bfd",
     "showTitle": false,
     "tableResultSettingsMap": {},
     "title": ""
    }
   },
   "outputs": [],
   "source": [
    "query = '''\n",
    "        select * from NxEnq_ResultadoEnquadramentoHist\n",
    "        where status = 1\n",
    "        data = '2025-01-29'\n",
    "        order by data desc\n",
    "        '''\n",
    "\n",
    "token =  dbutils.secrets.get(scope=\"akvdesafiokinea\", key=\"pwd-nexxus-sim\")\n",
    "\n",
    "remote_table = (spark.read \\\n",
    "  .format(\"sqlserver\") \\\n",
    "  .option(\"host\", \"knanexxus.database.windows.net\") \\\n",
    "  .option(\"user\", \"desafio_user\") \\\n",
    "  .option(\"password\", token) \\\n",
    "  .option(\"database\", \"sqldb-nexxus-sim-001\") \\\n",
    "  .option(\"query\", \"query\") # (if schemaName not provided, default to \"dbo\") \\\n",
    "  .load()\n",
    ")\n",
    "\n",
    "display(remote_table)"
   ]
  },
  {
   "cell_type": "code",
   "execution_count": 0,
   "metadata": {
    "application/vnd.databricks.v1+cell": {
     "cellMetadata": {
      "byteLimit": 2048000,
      "implicitDf": true,
      "rowLimit": 10000
     },
     "inputWidgets": {},
     "nuid": "4e9e7ee2-70c5-4493-8565-16f7921eb69a",
     "showTitle": false,
     "tableResultSettingsMap": {},
     "title": ""
    }
   },
   "outputs": [],
   "source": [
    "%sql\n",
    "-- Query para buscar e relacionar os dados das tabelas do nexxus, puxando a última data da tabela de histórico de enquadramento, e relacionando as regras específicas (like L% com a tabela nxenq_regras e like CM% ou CD% com a tabela nxenq_regrasconcentracao), além de puxar a memória de cálculo da tabela referente ao cálculo dos desenquadramentos\n",
    "\n",
    "\n",
    "-- busca a última data relativa à uma simulação no nexxus\n",
    "WITH UltimoHistorico AS (\n",
    "    SELECT MAX(DataHoraVersao) AS UltimaData\n",
    "    FROM desafio_kinea.boletagem_cp.nxenq_resultadoenquadramentohist\n",
    "    WHERE status = 1\n",
    ")\n",
    "\n",
    "SELECT \n",
    "    nxe.IdFundo as IdFundo,\n",
    "    nxe.IdRegra AS IdRegra_resultado_enquadramento,  \n",
    "    nxe.DataHoraVersao as DataHoraVersao,\n",
    "    nxe.SaldoBaseCalculo as SaldoBaseCalculo,\n",
    "    nxe.ValorExposicao as ValorExposicao,\n",
    "    nxe.SaldoObjeto as SaldoObjeto,\n",
    "    nxe.LimiteMin as LimiteMin,\n",
    "    nxe.LimiteMax as LimiteMax,\n",
    "    nxr.ValorMin as ValorMin_nexusregras,\n",
    "    nxr.ValorMax as ValorMax_nexusregras,\n",
    "    nxr.Descricao as Descricao_nexusregras,\n",
    "    nxr.DescricaoDetalhada as DescricaoDetalhada_nexusregras,\n",
    "    nxrc.LimiteMin as LimiteMin_concentracao,\n",
    "    nxrc.LimiteMax as LimiteMax_concentracao,\n",
    "    nxrc.Descricao as Descricao_concentracao,\n",
    "    nxrc.DescricaoDetalhada as DescricaoDetalhada_concentracao,\n",
    "    nxmc.MemoriaCalculo as MemoriaCalculo\n",
    "FROM desafio_kinea.boletagem_cp.nxenq_resultadoenquadramentohist nxe \n",
    "INNER JOIN UltimoHistorico uh \n",
    "    ON nxe.DataHoraVersao = uh.UltimaData -- join para filtrar apenas para o último timestamp de simulação (nxe.DataHoraVersao)\n",
    "LEFT JOIN desafio_kinea.boletagem_cp.nxenq_regras nxr \n",
    "    ON nxr.IdRegra = CAST(regexp_replace(nxe.IdRegra, '[^0-9]', '') AS INT) -- join para a tabela de regras do tipo L%\n",
    "    AND nxe.IdRegra LIKE 'L%'  \n",
    "LEFT JOIN desafio_kinea.boletagem_cp.nxenq_regrasporconcentracao nxrc\n",
    "    ON nxrc.IdRegra = CAST(regexp_replace(nxe.IdRegra, '[^0-9]', '') AS INT)\n",
    "    AND (nxe.IdRegra LIKE 'CM%' OR nxe.IdRegra LIKE 'CD%') -- join para a tabela de regras de concentração (CM%/CD%)\n",
    "LEFT JOIN desafio_kinea.boletagem_cp.nxenq_memoriacalculo nxmc --join com tabela de memoria de cálculo\n",
    "    ON nxmc.DataHoraVersao = uh.UltimaData --join pela DataHoraVersao(última simulação), pelo Id do fundo e Id da regra\n",
    "    AND nxe.IdRegra = nxmc.IdRegra\n",
    "    AND nxe.IdFundo = nxmc.IdFundo\n",
    "where nxe.status = 1; -- filtro para apenas quando há algum desenquadramento"
   ]
  }
 ],
 "metadata": {
  "application/vnd.databricks.v1+notebook": {
   "computePreferences": null,
   "dashboards": [],
   "environmentMetadata": {
    "base_environment": "",
    "environment_version": "1"
   },
   "language": "python",
   "notebookMetadata": {
    "mostRecentlyExecutedCommandWithImplicitDF": {
     "commandId": 5969094066478661,
     "dataframes": [
      "_sqldf"
     ]
    },
    "pythonIndentUnit": 4
   },
   "notebookName": "Querys Nexxus",
   "widgets": {}
  },
  "language_info": {
   "name": "python"
  }
 },
 "nbformat": 4,
 "nbformat_minor": 0
}
