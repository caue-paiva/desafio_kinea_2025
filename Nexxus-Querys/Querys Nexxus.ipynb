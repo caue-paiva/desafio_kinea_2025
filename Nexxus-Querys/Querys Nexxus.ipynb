{
 "cells": [
  {
   "cell_type": "code",
   "execution_count": 0,
   "metadata": {
    "application/vnd.databricks.v1+cell": {
     "cellMetadata": {
      "byteLimit": 2048000,
      "rowLimit": 10000
     },
     "inputWidgets": {},
     "nuid": "7c2a997d-3c43-4db3-a5c3-d2b542e38bfd",
     "showTitle": false,
     "tableResultSettingsMap": {},
     "title": ""
    }
   },
   "outputs": [],
   "source": [
    "query = '''\n",
    "        select * from NxEnq_ResultadoEnquadramentoHist\n",
    "        where status = 1\n",
    "        data = '2025-01-29'\n",
    "        order by data desc\n",
    "        '''\n",
    "\n",
    "token =  dbutils.secrets.get(scope=\"akvdesafiokinea\", key=\"pwd-nexxus-sim\")\n",
    "\n",
    "remote_table = (spark.read \\\n",
    "  .format(\"sqlserver\") \\\n",
    "  .option(\"host\", \"knanexxus.database.windows.net\") \\\n",
    "  .option(\"user\", \"desafio_user\") \\\n",
    "  .option(\"password\", token) \\\n",
    "  .option(\"database\", \"sqldb-nexxus-sim-001\") \\\n",
    "  .option(\"query\", \"query\") # (if schemaName not provided, default to \"dbo\") \\\n",
    "  .load()\n",
    ")\n",
    "\n",
    "display(remote_table)"
   ]
  },
  {
   "cell_type": "code",
   "execution_count": 0,
   "metadata": {
    "application/vnd.databricks.v1+cell": {
     "cellMetadata": {
      "byteLimit": 2048000,
      "implicitDf": true,
      "rowLimit": 10000
     },
     "inputWidgets": {},
     "nuid": "13e732f9-c46c-4fef-978d-4146fa7360e6",
     "showTitle": false,
     "tableResultSettingsMap": {},
     "title": ""
    }
   },
   "outputs": [],
   "source": [
    "%sql\n",
    "-- select * from desafio_kinea.boletagem_cp.nxenq_resultadoenquadramentohist\n",
    "--     where status = 1\n",
    "--     and DataHoraVersao = (select MAX(DataHoraVersao) from desafio_kinea.boletagem_cp.nxenq_resultadoenquadramentohist where status = 1);\n",
    "\n",
    "select * from desafio_kinea.boletagem_cp.nxenq_regrasporconcentracao;\n",
    "\n",
    "-- SELECT \n",
    "--     desafio_kinea.boletagem_cp.coluna,  -- Coluna da tabela origem\n",
    "--     COALESCE(a.id, b.id) AS id,  -- ID correspondente das tabelas A ou B\n",
    "--     COALESCE(a.outra_coluna, b.outra_coluna) AS outra_coluna -- Exemplo de outra coluna relevante\n",
    "-- FROM origem o\n",
    "-- LEFT JOIN A a \n",
    "--     ON a.id = CAST(SUBSTRING(o.coluna FROM '[0-9]+') AS INTEGER) \n",
    "--     AND o.coluna LIKE 'L%'  -- Garante que apenas 'L' case com A\n",
    "-- LEFT JOIN B b \n",
    "--     ON b.id = CAST(SUBSTRING(o.coluna FROM '[0-9]+') AS INTEGER) \n",
    "--     AND (o.coluna LIKE 'CM%' OR o.coluna LIKE 'CD%'); -- Garante que 'CM' ou 'CD' casem com B"
   ]
  },
  {
   "cell_type": "code",
   "execution_count": 0,
   "metadata": {
    "application/vnd.databricks.v1+cell": {
     "cellMetadata": {
      "byteLimit": 2048000,
      "implicitDf": true,
      "rowLimit": 10000
     },
     "inputWidgets": {},
     "nuid": "acbb98e9-17d2-476a-a501-34461b9d2677",
     "showTitle": false,
     "tableResultSettingsMap": {},
     "title": ""
    }
   },
   "outputs": [],
   "source": [
    "%sql\n",
    "\n",
    "WITH UltimoHistorico AS (\n",
    "    SELECT MAX(DataHoraVersao) AS UltimaData\n",
    "    FROM desafio_kinea.boletagem_cp.nxenq_resultadoenquadramentohist\n",
    "    WHERE status = 1\n",
    ")\n",
    "\n",
    "SELECT \n",
    "    nxe.IdFundo as IdFundo,\n",
    "    nxe.IdRegra AS IdRegra_resultado_enquadramento,  \n",
    "    nxe.TipoEnquadramento as TipoEnquadramento,\n",
    "    nxe.SaldoBaseCalculo as SaldoBaseCalculo,\n",
    "    nxe.ValorExposicao as ValorExposicao,\n",
    "    nxe.SaldoObjeto as SaldoObjeto,\n",
    "    nxe.LimiteMin as LimiteMin,\n",
    "    nxe.LimiteMax as LimiteMax,\n",
    "    nxr.IdRegra as IdRegra_nexusregras,\n",
    "    nxr.ValorMin as ValorMin_nexusregras,\n",
    "    nxr.ValorMax as ValorMax_nexusregras,\n",
    "    nxr.Descricao as Descricao_nexusregras,\n",
    "    nxr.DescricaoDetalhada as DescricaoDetalhada_nexusregras,\n",
    "    nxrc.IdRegra as IdRegra_concentracao,\n",
    "    nxrc.Descricao as Descricao_concentracao,\n",
    "    nxrc.LimiteMin as LimiteMin_concentracao,\n",
    "    nxrc.LimiteMax as LimiteMax_concentracao,\n",
    "    nxrc.DescricaoDetalhada as DescricaoDetalhada_concentracao\n",
    "FROM desafio_kinea.boletagem_cp.nxenq_resultadoenquadramentohist nxe\n",
    "INNER JOIN UltimoHistorico uh \n",
    "    ON nxe.DataHoraVersao = uh.UltimaData  \n",
    "LEFT JOIN desafio_kinea.boletagem_cp.nxenq_regras nxr \n",
    "    ON nxr.IdRegra = CAST(regexp_replace(nxe.IdRegra, '[^0-9]', '') AS INT) \n",
    "    AND nxe.IdRegra LIKE 'L%'  \n",
    "LEFT JOIN desafio_kinea.boletagem_cp.nxenq_regrasporconcentracao nxrc\n",
    "    ON nxrc.IdRegra = CAST(regexp_replace(nxe.IdRegra, '[^0-9]', '') AS INT)  \n",
    "    AND (nxe.IdRegra LIKE 'CM%' OR nxe.IdRegra LIKE 'CD%')\n",
    "where nxe.status = 1;"
   ]
  },
  {
   "cell_type": "code",
   "execution_count": 0,
   "metadata": {
    "application/vnd.databricks.v1+cell": {
     "cellMetadata": {
      "byteLimit": 2048000,
      "implicitDf": true,
      "rowLimit": 10000
     },
     "inputWidgets": {},
     "nuid": "4e9e7ee2-70c5-4493-8565-16f7921eb69a",
     "showTitle": false,
     "tableResultSettingsMap": {},
     "title": ""
    }
   },
   "outputs": [],
   "source": [
    "%sql\n",
    "-- Query similar à anterior, mas com também fazendo join com a tabela de memoria de cálculo\n",
    "--OBS Essa query não funciona por que as datas da tabela de memória estão desatualizadas (apenas de 2025 apenas)\n",
    "\n",
    "\n",
    "WITH UltimoHistorico AS (\n",
    "    SELECT MAX(DataHoraVersao) AS UltimaData\n",
    "    FROM desafio_kinea.boletagem_cp.nxenq_resultadoenquadramentohist\n",
    "    WHERE status = 1\n",
    ")\n",
    "\n",
    "SELECT \n",
    "    nxe.IdFundo as IdFundo,\n",
    "    nxe.IdRegra AS IdRegra_resultado_enquadramento,  \n",
    "    nxe.TipoEnquadramento as TipoEnquadramento,\n",
    "    nxe.SaldoBaseCalculo as SaldoBaseCalculo,\n",
    "    nxe.ValorExposicao as ValorExposicao,\n",
    "    nxe.SaldoObjeto as SaldoObjeto,\n",
    "    nxe.LimiteMin as LimiteMin,\n",
    "    nxe.LimiteMax as LimiteMax,\n",
    "    nxr.IdRegra as IdRegra_nexusregras,\n",
    "    nxr.ValorMin as ValorMin_nexusregras,\n",
    "    nxr.ValorMax as ValorMax_nexusregras,\n",
    "    nxr.Descricao as Descricao_nexusregras,\n",
    "    nxr.DescricaoDetalhada as DescricaoDetalhada_nexusregras,\n",
    "    nxrc.IdRegra as IdRegra_concentracao,\n",
    "    nxrc.Descricao as Descricao_concentracao,\n",
    "    nxrc.LimiteMin as LimiteMin_concentracao,\n",
    "    nxrc.LimiteMax as LimiteMax_concentracao,\n",
    "    nxrc.DescricaoDetalhada as DescricaoDetalhada_concentracao,\n",
    "    nxmc.MemoriaCalculo as MemoriaCalculo\n",
    "FROM desafio_kinea.boletagem_cp.nxenq_resultadoenquadramentohist nxe\n",
    "INNER JOIN UltimoHistorico uh \n",
    "    ON nxe.DataHoraVersao = uh.UltimaData  \n",
    "LEFT JOIN desafio_kinea.boletagem_cp.nxenq_regras nxr \n",
    "    ON nxr.IdRegra = CAST(regexp_replace(nxe.IdRegra, '[^0-9]', '') AS INT) \n",
    "    AND nxe.IdRegra LIKE 'L%'  \n",
    "LEFT JOIN desafio_kinea.boletagem_cp.nxenq_regrasporconcentracao nxrc\n",
    "    ON nxrc.IdRegra = CAST(regexp_replace(nxe.IdRegra, '[^0-9]', '') AS INT)  \n",
    "    AND (nxe.IdRegra LIKE 'CM%' OR nxe.IdRegra LIKE 'CD%')\n",
    "LEFT JOIN desafio_kinea.boletagem_cp.nxenq_memoriacalculo nxmc --join com tabela de memoria de cálculo\n",
    "    ON nxe.DataHoraVersao = nxmc.DataHoraVersao  --join pela hora e pelo ID da regra\n",
    "    AND nxe.IdRegra = nxmc.IdRegra\n",
    "where nxe.status = 1;"
   ]
  },
  {
   "cell_type": "code",
   "execution_count": 0,
   "metadata": {
    "application/vnd.databricks.v1+cell": {
     "cellMetadata": {
      "byteLimit": 2048000,
      "implicitDf": true,
      "rowLimit": 10000
     },
     "inputWidgets": {},
     "nuid": "f154a05c-4d14-4eca-9869-9f0be7c1ecd6",
     "showTitle": false,
     "tableResultSettingsMap": {},
     "title": ""
    }
   },
   "outputs": [],
   "source": [
    "%sql\n",
    "SELECT \n",
    "  *\n",
    "FROM desafio_kinea.boletagem_cp.nxenq_resultadoenquadramentohist AS nxe\n",
    "INNER JOIN desafio_kinea.boletagem_cp.nxenq_memoriacalculo AS nxmc \n",
    "  ON nxe.DataHoraVersao = nxmc.DataHoraVersao  --join pela hora e pelo ID da regra\n",
    "  AND nxe.IdRegra = nxmc.IdRegra\n",
    "WHERE nxe.Status = 1;"
   ]
  },
  {
   "cell_type": "code",
   "execution_count": 0,
   "metadata": {
    "application/vnd.databricks.v1+cell": {
     "cellMetadata": {
      "byteLimit": 2048000,
      "implicitDf": true,
      "rowLimit": 10000
     },
     "inputWidgets": {},
     "nuid": "96549ed3-4ad9-4a5c-ade5-c018e8525e9e",
     "showTitle": false,
     "tableResultSettingsMap": {},
     "title": ""
    }
   },
   "outputs": [],
   "source": [
    "%sql\n",
    "SELECT \n",
    " nxmc.DataHoraVersao,\n",
    " nxmc.IdRegra,\n",
    " nxmc.IdFundo,\n",
    " nxmc.MemoriaCalculo,\n",
    " nxe.SaldoBaseCalculo,\n",
    " nxe.ValorExposicao,\n",
    " nxe.SaldoObjeto\n",
    "FROM desafio_kinea.boletagem_cp.nxenq_memoriacalculo AS nxmc\n",
    "JOIN (\n",
    "  SELECT \n",
    "    IdRegra,\n",
    "    DataHoraVersao,\n",
    "    IdFundo,\n",
    "    IdRegra,\n",
    "    SaldoBaseCalculo,\n",
    "    ValorExposicao,\n",
    "    SaldoObjeto\n",
    "  FROM desafio_kinea.boletagem_cp.nxenq_resultadoenquadramentohist\n",
    "  WHERE Status = 1\n",
    ") AS nxe\n",
    "ON \n",
    "nxmc.DataHoraVersao = nxe.DataHoraVersao\n",
    "AND nxmc.IdRegra = nxe.IdRegra"
   ]
  },
  {
   "cell_type": "code",
   "execution_count": 0,
   "metadata": {
    "application/vnd.databricks.v1+cell": {
     "cellMetadata": {
      "byteLimit": 2048000,
      "implicitDf": true,
      "rowLimit": 10000
     },
     "inputWidgets": {},
     "nuid": "0773e274-5cc9-4ca9-9f1b-28bc6e2a0acc",
     "showTitle": false,
     "tableResultSettingsMap": {},
     "title": ""
    }
   },
   "outputs": [],
   "source": [
    "%sql\n",
    "SELECT DataHoraVersao FROM desafio_kinea.boletagem_cp.nxenq_resultadoenquadramentohist\n",
    "ORDER BY DataHoraVersao ASC\n",
    "LIMIT 10"
   ]
  },
  {
   "cell_type": "code",
   "execution_count": 0,
   "metadata": {
    "application/vnd.databricks.v1+cell": {
     "cellMetadata": {
      "byteLimit": 2048000,
      "implicitDf": true,
      "rowLimit": 10000
     },
     "inputWidgets": {},
     "nuid": "13b8e54a-cc9c-45dd-b0f0-7258431d1d9e",
     "showTitle": false,
     "tableResultSettingsMap": {},
     "title": ""
    }
   },
   "outputs": [],
   "source": [
    "%sql\n",
    "SELECT DataHoraVersao FROM desafio_kinea.boletagem_cp.nxenq_memoriacalculo\n",
    "ORDER BY DataHoraVersao DESC\n",
    "LIMIT 10"
   ]
  },
  {
   "cell_type": "code",
   "execution_count": 0,
   "metadata": {
    "application/vnd.databricks.v1+cell": {
     "cellMetadata": {
      "byteLimit": 2048000,
      "implicitDf": true,
      "rowLimit": 10000
     },
     "inputWidgets": {},
     "nuid": "469c4f5c-ff81-4121-8554-b3fc5b6be6e1",
     "showTitle": false,
     "tableResultSettingsMap": {},
     "title": ""
    }
   },
   "outputs": [],
   "source": []
  },
  {
   "cell_type": "code",
   "execution_count": 0,
   "metadata": {
    "application/vnd.databricks.v1+cell": {
     "cellMetadata": {
      "byteLimit": 2048000,
      "implicitDf": true,
      "rowLimit": 10000
     },
     "inputWidgets": {},
     "nuid": "1812cbd0-6250-4231-91b2-877850e497e5",
     "showTitle": false,
     "tableResultSettingsMap": {},
     "title": ""
    }
   },
   "outputs": [],
   "source": [
    "%sql\n",
    "SELECT \n",
    "  *\n",
    "FROM desafio_kinea.boletagem_cp.nxenq_memoriacalculo AS nxmc2 --tabela de memória de calculo do nexxus\n",
    "INNER JOIN desafio_kinea.boletagem_cp.nxenq_resultadoenquadramentohist AS nxe2--inner join com tabela de histórico do nexxus\n",
    "ON nxmc2.DataHoraVersao = nxe2.DataHoraVersao --join nas datas serem iguais\n",
    "AND nxmc2.IdRegra = nxe2.IdRegra --e na regra ser igual\n",
    "WHERE nxe2.Status = 1 --filtra pelas entradas com desenquadramento"
   ]
  }
 ],
 "metadata": {
  "application/vnd.databricks.v1+notebook": {
   "computePreferences": null,
   "dashboards": [],
   "environmentMetadata": {
    "base_environment": "",
    "client": "1"
   },
   "language": "python",
   "notebookMetadata": {
    "mostRecentlyExecutedCommandWithImplicitDF": {
     "commandId": 5969094066478627,
     "dataframes": [
      "_sqldf"
     ]
    },
    "pythonIndentUnit": 4
   },
   "notebookName": "Querys Nexxus",
   "widgets": {}
  },
  "language_info": {
   "name": "python"
  }
 },
 "nbformat": 4,
 "nbformat_minor": 0
}
