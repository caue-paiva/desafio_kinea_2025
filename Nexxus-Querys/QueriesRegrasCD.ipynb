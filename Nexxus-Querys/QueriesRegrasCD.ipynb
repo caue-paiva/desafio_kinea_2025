{
 "cells": [
  {
   "cell_type": "code",
   "execution_count": 0,
   "metadata": {
    "application/vnd.databricks.v1+cell": {
     "cellMetadata": {
      "byteLimit": 2048000,
      "implicitDf": true,
      "rowLimit": 10000
     },
     "inputWidgets": {},
     "nuid": "ee9bc209-e0eb-418d-a718-e72ba67c102c",
     "showTitle": false,
     "tableResultSettingsMap": {},
     "title": ""
    }
   },
   "outputs": [],
   "source": [
    "%sql\n",
    "\n",
    "WITH UltimoHistorico AS (\n",
    "    SELECT MAX(DataHoraVersao) AS UltimaData\n",
    "    FROM desafio_kinea.boletagem_cp.nxenq_resultadoenquadramentohist\n",
    "    WHERE status = 1\n",
    ")\n",
    "\n",
    "SELECT \n",
    "    nxe.IdFundo as IdFundo,\n",
    "    nxe.IdRegra AS IdRegra_resultado_enquadramento,  \n",
    "    nxe.TipoEnquadramento as TipoEnquadramento,\n",
    "    nxe.SaldoBaseCalculo as SaldoBaseCalculo,\n",
    "    nxe.ValorExposicao as ValorExposicao,\n",
    "    nxe.SaldoObjeto as SaldoObjeto,\n",
    "    nxe.LimiteMin as LimiteMin,\n",
    "    nxe.LimiteMax as LimiteMax,\n",
    "    nxe.ComplementoID as IdRegraAtivo,\n",
    "    nxe.Observacoes as ObsAtivos,\n",
    "    nxrc.IdRegra as IdRegra_concentracao,\n",
    "    nxrc.Descricao as Descricao_concentracao,\n",
    "    nxrc.LimiteMin as LimiteMin_concentracao,\n",
    "    nxrc.LimiteMax as LimiteMax_concentracao,\n",
    "    nxrc.DescricaoDetalhada as DescricaoDetalhada_concentracao\n",
    "FROM desafio_kinea.boletagem_cp.nxenq_resultadoenquadramentohist nxe\n",
    "INNER JOIN desafio_kinea.boletagem_cp.nxenq_regrasporconcentracao nxrc\n",
    "    ON nxrc.IdRegra = CAST(regexp_replace(nxe.IdRegra, '[^0-9]', '') AS INT)  \n",
    "    AND (nxe.IdRegra LIKE 'CD%')\n",
    "where nxe.status = 1;"
   ]
  },
  {
   "cell_type": "code",
   "execution_count": 0,
   "metadata": {
    "application/vnd.databricks.v1+cell": {
     "cellMetadata": {
      "byteLimit": 2048000,
      "implicitDf": true,
      "rowLimit": 10000
     },
     "inputWidgets": {},
     "nuid": "85ed28df-7052-4cff-83f3-2d1c2ef5a668",
     "showTitle": false,
     "tableResultSettingsMap": {},
     "title": ""
    }
   },
   "outputs": [],
   "source": [
    "%sql\n",
    "SELECT *\n",
    "FROM desafio_kinea.boletagem_cp.nxenq_resultadoenquadramentohist\n",
    "WHERE IdRegra LIKE 'CD%' and Status = 1;"
   ]
  },
  {
   "cell_type": "code",
   "execution_count": 0,
   "metadata": {
    "application/vnd.databricks.v1+cell": {
     "cellMetadata": {
      "byteLimit": 2048000,
      "implicitDf": true,
      "rowLimit": 10000
     },
     "inputWidgets": {},
     "nuid": "e244e471-a6aa-49ba-adce-ceb9e3111c9f",
     "showTitle": false,
     "tableResultSettingsMap": {},
     "title": ""
    }
   },
   "outputs": [],
   "source": [
    "%sql\n",
    "WITH tab_booksoverview AS (\n",
    " SELECT\n",
    "   DISTINCT\n",
    "   PositionDate,\n",
    "   Book,\n",
    "   Product,\n",
    "   ProductClass,\n",
    "   TradingDesk,\n",
    "   Position\n",
    " FROM\n",
    "   desafio_kinea.boletagem_cp.booksoverviewposicao_fechamento\n",
    " WHERE\n",
    "   (LOWER(ProductClass) LIKE '%debenture%' OR\n",
    "    LOWER(ProductClass) LIKE '%bonds%' OR\n",
    "    LOWER(ProductClass) LIKE '%cra%' OR\n",
    "    LOWER(ProductClass) LIKE '%cri%' OR\n",
    "    LOWER(ProductClass) LIKE '%funds%' OR\n",
    "    LOWER(ProductClass) LIKE '%letra%' OR\n",
    "    LOWER(ProductClass) LIKE '%nota%')\n",
    "   AND (LOWER(Book) LIKE '%ivan%')\n",
    "   AND TradingDesk IN ('KCP','RFA','KOP', '846', '134', '678','FRA', 'CPI','PAL','ID2','PID','APO','APP','IRF','KAT','PEM','PDA',\"KRF\",\"652\",\"389\",\"348\",\"BVP\")\n",
    "),\n",
    "tab_pl AS (\n",
    " SELECT\n",
    "   DISTINCT\n",
    "   Data AS PositionDate,\n",
    "   Codigo AS TradingDesk,\n",
    "   PL\n",
    " FROM\n",
    "   desafio_kinea.boletagem_cp.cotas\n",
    "),\n",
    "tab_fundos AS (\n",
    " SELECT\n",
    "   DISTINCT\n",
    "   tab_booksoverview.*,\n",
    "   tab_pl.PL\n",
    " FROM\n",
    "   tab_booksoverview\n",
    " LEFT JOIN\n",
    "   tab_pl\n",
    " ON\n",
    "   tab_pl.PositionDate = tab_booksoverview.PositionDate\n",
    "   AND tab_pl.TradingDesk = tab_booksoverview.TradingDesk\n",
    ") \n",
    "SELECT * FROM tab_fundos\n",
    "WHERE Product LIKE 'BR0005CTF001'"
   ]
  },
  {
   "cell_type": "code",
   "execution_count": 0,
   "metadata": {
    "application/vnd.databricks.v1+cell": {
     "cellMetadata": {},
     "inputWidgets": {},
     "nuid": "0d4079fe-59b8-4bc0-bea4-86966755ebf7",
     "showTitle": false,
     "tableResultSettingsMap": {},
     "title": ""
    }
   },
   "outputs": [],
   "source": []
  }
 ],
 "metadata": {
  "application/vnd.databricks.v1+notebook": {
   "computePreferences": null,
   "dashboards": [],
   "environmentMetadata": {
    "base_environment": "",
    "environment_version": "2"
   },
   "language": "python",
   "notebookMetadata": {
    "mostRecentlyExecutedCommandWithImplicitDF": {
     "commandId": 5771017605121528,
     "dataframes": [
      "_sqldf"
     ]
    },
    "pythonIndentUnit": 4
   },
   "notebookName": "QueriesRegrasCD",
   "widgets": {}
  },
  "language_info": {
   "name": "python"
  }
 },
 "nbformat": 4,
 "nbformat_minor": 0
}
