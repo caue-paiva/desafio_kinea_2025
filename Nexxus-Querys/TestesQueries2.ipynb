{
 "cells": [
  {
   "cell_type": "code",
   "execution_count": 0,
   "metadata": {
    "application/vnd.databricks.v1+cell": {
     "cellMetadata": {
      "byteLimit": 2048000,
      "implicitDf": true,
      "rowLimit": 10000
     },
     "inputWidgets": {},
     "nuid": "b43dff41-e499-47f2-bd4c-f3da7126bf05",
     "showTitle": false,
     "tableResultSettingsMap": {},
     "title": ""
    }
   },
   "outputs": [],
   "source": [
    "%sql\n",
    "SELECT \n",
    "*\n",
    "FROM desafio_kinea.boletagem_cp.nxenq_memoriacalculo AS nxmc2 --tabela de memória de calculo do nexxus\n",
    "INNER JOIN desafio_kinea.boletagem_cp.nxenq_resultadoenquadramentohist AS nxe2--inner join com tabela de histórico do nexxus\n",
    "ON nxmc2.DataHoraVersao = nxe2.DataHoraVersao --join nas datas serem iguais\n",
    "AND nxmc2.IdRegra = nxe2.IdRegra --e na regra ser igual\n",
    "AND nxmc2.IdFundo = nxe2.IdFundo --e fundo ser igual \n",
    "WHERE nxe2.Status = 1 --filtra pelas entradas com desenquadramento"
   ]
  },
  {
   "cell_type": "code",
   "execution_count": 0,
   "metadata": {
    "application/vnd.databricks.v1+cell": {
     "cellMetadata": {
      "byteLimit": 2048000,
      "implicitDf": true,
      "rowLimit": 10000
     },
     "inputWidgets": {},
     "nuid": "7c170c92-fa55-460b-afb3-9cf03ad92e93",
     "showTitle": false,
     "tableResultSettingsMap": {},
     "title": ""
    }
   },
   "outputs": [],
   "source": [
    "%sql\n",
    "SELECT MemoriaCalculo FROM desafio_kinea.boletagem_cp.nxenq_memoriacalculo\n",
    "--WHERE MemoriaCalculo LIKE '%libra%'\n",
    "WHERE IdFundo IN ('KCP','RFA','KOP', '846', '134', '678','FRA', 'CPI','PAL','ID2','PID','APO','APP','IRF','KAT','PEM','PDA',\"KRF\",\"652\",\"348\",\"BVP\")\n",
    " "
   ]
  },
  {
   "cell_type": "code",
   "execution_count": 0,
   "metadata": {
    "application/vnd.databricks.v1+cell": {
     "cellMetadata": {
      "byteLimit": 2048000,
      "implicitDf": true,
      "rowLimit": 10000
     },
     "inputWidgets": {},
     "nuid": "e35e6e7c-1dbf-40c2-814d-8e9155f93f86",
     "showTitle": false,
     "tableResultSettingsMap": {},
     "title": ""
    }
   },
   "outputs": [],
   "source": [
    "%sql\n",
    "SELECT  * FROM desafio_kinea.boletagem_cp.nxenq_regras\n",
    "WHERE IdRegra = '1576'"
   ]
  }
 ],
 "metadata": {
  "application/vnd.databricks.v1+notebook": {
   "computePreferences": null,
   "dashboards": [],
   "environmentMetadata": {
    "base_environment": "",
    "environment_version": "2"
   },
   "language": "python",
   "notebookMetadata": {
    "mostRecentlyExecutedCommandWithImplicitDF": {
     "commandId": 7942455793927031,
     "dataframes": [
      "_sqldf"
     ]
    },
    "pythonIndentUnit": 4
   },
   "notebookName": "TestesQueries2",
   "widgets": {}
  },
  "language_info": {
   "name": "python"
  }
 },
 "nbformat": 4,
 "nbformat_minor": 0
}
