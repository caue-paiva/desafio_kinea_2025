{
 "cells": [
  {
   "cell_type": "markdown",
   "metadata": {
    "application/vnd.databricks.v1+cell": {
     "cellMetadata": {},
     "inputWidgets": {},
     "nuid": "ac7c1e15-31d5-42a9-9f7d-dca542feae44",
     "showTitle": false,
     "tableResultSettingsMap": {},
     "title": ""
    }
   },
   "source": [
    "## [Link para documento overleaf](https://www.overleaf.com/project/677fe7fd4bf7cc5092992e57) "
   ]
  },
  {
   "cell_type": "code",
   "execution_count": 0,
   "metadata": {
    "application/vnd.databricks.v1+cell": {
     "cellMetadata": {
      "byteLimit": 2048000,
      "rowLimit": 10000
     },
     "inputWidgets": {},
     "nuid": "f3fc4714-1b11-4e60-84a1-6736cb27f3da",
     "showTitle": true,
     "tableResultSettingsMap": {},
     "title": "Importando Bibliotecas"
    }
   },
   "outputs": [],
   "source": [
    "#Bibliotecas\n",
    "import pandas as pd\n",
    "from typing import List,Callable\n",
    "import matplotlib.pyplot as plt\n",
    "import seaborn as sns\n",
    "import time\n"
   ]
  },
  {
   "cell_type": "code",
   "execution_count": 0,
   "metadata": {
    "application/vnd.databricks.v1+cell": {
     "cellMetadata": {
      "byteLimit": 2048000,
      "rowLimit": 10000
     },
     "inputWidgets": {},
     "nuid": "fb7b3388-1575-4966-b902-bddaa46d474a",
     "showTitle": true,
     "tableResultSettingsMap": {},
     "title": "Funções Intermédiarias"
    }
   },
   "outputs": [],
   "source": [
    "#Funções Intermédiarias da Função Principal\n",
    "def query(arquivo:str) -> pd.DataFrame:\n",
    "    caminho_base = \"/Workspace/Users/joaopedroalexandrino6@hotmail.com/desafio_kinea_2025/ScriptsSQL\"\n",
    "    caminho = caminho_base +'/' + arquivo + '.sql'\n",
    "    with open(caminho, 'r') as f:\n",
    "        query = f.read()\n",
    "    df = spark.sql(query).toPandas()\n",
    "    return df\n",
    "\n",
    "def extrair_informacoes() -> List[pd.DataFrame]:\n",
    "    '''\n",
    "    Objetivo:\n",
    "        Extrair informações necessárias para o Cálculo da Régua\n",
    "    Inputs:\n",
    "        None\n",
    "    Output:\n",
    "        0. inf_fundos: DataFrame com Patrimônio Líquido, Range Mínimo e Máximo de Crédito para cada fundo ['fundo','PL','l_min','l_max','v_min','v_max']\n",
    "        1. peso_book_fundos: DataFrame com Percentual de Alocação de cada Book (Esse perccentual é referente a parte disponivel para crédito) para cada fundo ['fundo','book_macro','peso_book_macro']\n",
    "        2. credito_aportado: DataFrame com valor de crédito alocado em cada book em cada fundo ['fundo','book','produto',alocado']\n",
    "        3. restricoes_book_micro: DataFrame com as restrições book micro [book','fundo','flag']\n",
    "        4. restricoes_fundo_restrito: Dataframe com restrições fundo restrito ['ativo',fundo','flag']\n",
    "        5. ativos_books: DataFrame com ativos e seus books ['ativo','book_micro'] (Pode ser que não tenhamos todos cadastrados)\n",
    "    '''\n",
    "    #Tabela Base\n",
    "    tabela_base = query(\"verificacao_range_e_book\")\n",
    "    tabela_base_aportado = query(\"credito_aportado\")\n",
    "\n",
    "\n",
    "    #Filtrando inf_fundos ['fundo','PL','l_min','l_max','v_min','v_max']\n",
    "    inf_fundos = tabela_base[['fundo','PL','alocacao_min_porcen','alocacao_max_porcen','alocacao_min','alocacao_max']].drop_duplicates('fundo').rename(columns={'alocacao_min':'v_min','alocacao_max':'v_max','alocacao_min_porcen':'l_min','alocacao_max_porcen':'l_max'})\n",
    "    \n",
    "    #Filtrando peso_book_fundos ['fundo','book_macro','peso']\n",
    "    peso_book_fundos = tabela_base[['fundo','peso_book','book_macro']].drop_duplicates(['fundo','book_macro']).rename(columns={'peso_book':'peso'})\n",
    "\n",
    "    #Filtrando Crédito Aportado ['fundo','ativo',alocado']\n",
    "    credito_aportado = tabela_base_aportado.rename(columns={'TradingDesk':'fundo','Product':'ativo','Position':'alocado'}).drop(columns=[\"PositionDate\"])\n",
    "\n",
    "    #Filtrando restricoes_book_micro ['fundo','book_micro','flag']\n",
    "    restricoes_book_micro = tabela_base[['fundo','book_micro','flag']].drop_duplicates(['fundo','book_micro'])\n",
    "\n",
    "    #Filtrando restricoes_fundo_restrito ['ativo','fundo_restrito']\n",
    "    restricoes_fundo_restrito = tabela_base[['ativo','fundo_restrito']].drop_duplicates(['ativo']) #Procurar Entender por que nessa query tem 303 e direto na tabela 305\n",
    "\n",
    "    #Filtrando ativos_books ['ativo',book_micro']\n",
    "    ativos_books = tabela_base[['ativo','book_micro']].drop_duplicates(['ativo'])\n",
    "\n",
    "    return [inf_fundos,peso_book_fundos,credito_aportado,restricoes_book_micro,restricoes_fundo_restrito,ativos_books]\n",
    "\n",
    "def calculo_regua_macro(inf_fundos: pd.DataFrame, peso_books_fundos:pd.DataFrame,credito_total:float) -> pd.DataFrame:\n",
    "    '''\n",
    "    Objetivo:\n",
    "        Cálculo da Régua\n",
    "    Inputs:\n",
    "        inf_fundos: DataFrame com Patrimônio Líquido, Range Mínimo e Máximo de Crédito para cada fundo ['fundo','PL','l_min','l_max']\n",
    "        peso_books_fundos: DataFrame com Percentual de Alocação de cada Book (Esse perccentual é referente a parte disponivel para crédito) para cada fundo ['fundo','book','peso']\n",
    "    Output:\n",
    "        regua: DataFrame com as informações da régua que contém as alocações ideais ['fundo','book','percentual_alocacao']\n",
    "    '''\n",
    "\n",
    "    #Funções Auxiliares\n",
    "    def percentual_alocacao_range_total(credito_total:float,inf_fundos: pd.DataFrame) -> float:\n",
    "        return (credito_total - inf_fundos['v_min'].sum())/ (inf_fundos['v_max'].sum() - inf_fundos['v_min'].sum())\n",
    "    \n",
    "    def percentual_credito_relativo_pl(percentual_alocacao_range_total:float,inf_fundo: pd.Series) -> dict:\n",
    "        return inf_fundo['l_min'] + percentual_alocacao_range_total * (inf_fundo['l_max'] - inf_fundo['l_min'])\n",
    "    \n",
    "    def percentual_book_relativo_pl(percentual_credito_relativo_pl:float,peso_book_fundo: float) -> float:\n",
    "        return percentual_credito_relativo_pl * peso_book_fundo\n",
    "    \n",
    "    def valor_book_relativo_pl(percentual_book_relativo_pl:float,pl:float) -> float:\n",
    "        return pl *percentual_book_relativo_pl\n",
    "\n",
    "    #Cálculo da Régua\n",
    "    percentual_alocacao_range_total = percentual_alocacao_range_total(credito_total,inf_fundos)\n",
    "   \n",
    "    percentuais_credito_relativo_pl = {}\n",
    "    for index,row in inf_fundos.iterrows():\n",
    "        percentuais_credito_relativo_pl[row['fundo']] = percentual_credito_relativo_pl(percentual_alocacao_range_total,row)\n",
    "\n",
    "    percentuais_books_relativo_pl = pd.DataFrame(columns=['fundo','book','percentual'])\n",
    "    for fundo,percentual_credito_relativo_pl in percentuais_credito_relativo_pl.items():\n",
    "        for index,row in peso_books_fundos[peso_books_fundos['fundo'] == fundo].iterrows():\n",
    "            percentuais_books_relativo_pl.loc[len(percentuais_books_relativo_pl)] = [fundo,row['book_macro'],percentual_book_relativo_pl(percentual_credito_relativo_pl,row['peso'])]\n",
    "\n",
    "    \n",
    "    valores_books_relativos_pl = pd.DataFrame(columns=['fundo','book','valor'])\n",
    "    for index,row in percentuais_books_relativo_pl.iterrows():\n",
    "        valores_books_relativos_pl.loc[len(valores_books_relativos_pl)] = [row['fundo'],row['book'],valor_book_relativo_pl(row['percentual'],inf_fundos[inf_fundos['fundo'] == row['fundo']]['PL'].values[0])]\n",
    "   \n",
    "    regua = pd.DataFrame(columns=['fundo','book','percentual_alocacao'])\n",
    "    books = valores_books_relativos_pl['book'].unique()\n",
    "    fundos = valores_books_relativos_pl['fundo'].unique()\n",
    "    somas_books = {}\n",
    "    for book in books:\n",
    "        somas_books[book] = valores_books_relativos_pl[valores_books_relativos_pl['book'] == book]['valor'].sum()\n",
    "    for fundo in fundos:\n",
    "        for index,row in valores_books_relativos_pl[valores_books_relativos_pl['fundo'] == fundo].iterrows():\n",
    "            regua.loc[len(regua)] = [fundo,row['book'],row['valor']/somas_books[row['book']]]\n",
    "\n",
    "    return regua\n",
    "\n",
    "def encontrar_book_macro(book_micro:str) -> str:\n",
    "    if book_micro.split('_')[0] == \"HG\":\n",
    "        book_macro = 'HG'\n",
    "    elif book_micro.split('_')[0] == \"HY\":\n",
    "        book_macro = 'HY'\n",
    "    elif book_micro.split('_')[0] == \"MY\":\n",
    "        book_macro = 'MY'\n",
    "    elif book_micro.split('_')[0] == \"Debenture\":\n",
    "        if book_micro.split('_')[3] == \"HG\":\n",
    "            book_macro = \"Debenture_Fechada_HG\"\n",
    "        else:\n",
    "             book_macro = \"Debenture_Fechada_HY\"\n",
    "    elif book_micro.split('_')[0] == \"Estruturado\":\n",
    "        if book_micro.split('_')[1] == \"HG\":\n",
    "            book_macro = \"Estruturado_HG\"\n",
    "        else:\n",
    "             book_macro = \"Estruturado_HY\"\n",
    "    else:\n",
    "        book_macro = \"OFFSHORE\"\n",
    "    return book_macro\n",
    "\n",
    "def verificar_restricoes(ativo:str,book_ativo:str,regua_macro:pd.DataFrame,restricoes_book_micro:pd.DataFrame,restricoes_fundo_restrito:pd.DataFrame) -> dict:\n",
    "    \n",
    "    restricoes_book_micro = restricoes_book_micro[restricoes_book_micro['book_micro'] == book_ativo]\n",
    "    restricoes_book_micro = restricoes_book_micro.merge(regua_macro,on='fundo')\n",
    "    fundo_restrito = restricoes_fundo_restrito[restricoes_fundo_restrito['ativo'] == ativo]['fundo_restrito'].values[0]\n",
    "\n",
    "    restricoes = regua_macro[regua_macro['fundo'] == fundo_restrito]\n",
    "    restricoes = pd.concat([restricoes,restricoes_book_micro[restricoes_book_micro['flag'] == False]], axis=0).drop(columns=['book','book_micro','flag'])\n",
    "\n",
    "    return restricoes\n",
    "    \n",
    "def redistribuir(regua_macro:pd.DataFrame,restritos:pd.DataFrame) -> pd.DataFrame:\n",
    "    fundos_nao_restritos = regua_macro[regua_macro['fundo'].isin(restritos['fundo'].unique()) == False]\n",
    "    excedente_distribuido = (fundos_nao_restritos['percentual_alocacao']/fundos_nao_restritos['percentual_alocacao'].sum()) *restritos['percentual_alocacao'].sum()\n",
    "    regua_macro['percentual_alocacao'] = fundos_nao_restritos['percentual_alocacao'] + excedente_distribuido\n",
    "    return regua_macro\n",
    "\n"
   ]
  },
  {
   "cell_type": "code",
   "execution_count": 0,
   "metadata": {
    "application/vnd.databricks.v1+cell": {
     "cellMetadata": {
      "byteLimit": 2048000,
      "rowLimit": 10000
     },
     "inputWidgets": {},
     "nuid": "6ae1333f-6e62-4ec3-9299-4e5bc2b3ee64",
     "showTitle": false,
     "tableResultSettingsMap": {},
     "title": ""
    }
   },
   "outputs": [],
   "source": [
    "#Extraindo Informações Necessárias\n",
    "dataframes = extrair_informacoes()"
   ]
  },
  {
   "cell_type": "code",
   "execution_count": 0,
   "metadata": {
    "application/vnd.databricks.v1+cell": {
     "cellMetadata": {
      "byteLimit": 2048000,
      "rowLimit": 10000
     },
     "inputWidgets": {},
     "nuid": "91168b6f-c885-4552-a941-03f78d079cd5",
     "showTitle": true,
     "tableResultSettingsMap": {},
     "title": "Função Principal"
    }
   },
   "outputs": [
    {
     "output_type": "stream",
     "name": "stdout",
     "output_type": "stream",
     "text": [
      "    fundo            book  percentual_alocacao\n17    FRA  Estruturado_HY             0.000429\n24    APP  Estruturado_HY             0.011389\n45    PDA  Estruturado_HY             0.001584\n59    PID  Estruturado_HY             0.005319\n66    678  Estruturado_HY             0.465412\n108   134  Estruturado_HY             0.515867\n"
     ]
    }
   ],
   "source": [
    "#Função Principal\n",
    "def solucao(checagens: List[Callable],ordens: pd.DataFrame,informacoes: List[pd.DataFrame]) -> pd.DataFrame:\n",
    "    '''\n",
    "    Função principal que recebe como input:\n",
    "    1. checagens: Lista de funções geradas pelo ChatGPT\n",
    "    2. ordens: DataFrame ['Ticker','Amount','Price'] representando uma grupo de ordens a serem boletadas\n",
    "    e retorna:\n",
    "    1. ordens_final: DatFrame ['Ticker','Amount','Price','Fundo'] representando quanto irá para cada fundo\n",
    "    '''\n",
    "    #Essas  etapas são para 1 ordem -> 1 linha do dataframe ordens\n",
    "    \n",
    "\n",
    "    #Extrair ativo da ordem\n",
    "    ativo = 'INDIGO FIAGRO DCA EMISSAO 1 SERIE 1 SENIOR'\n",
    "\n",
    "    #Extrair dataframes necessários\n",
    "    inf_fundos = dataframes[0]\n",
    "    peso_books = dataframes[1]\n",
    "    credito_aportado = dataframes[2]\n",
    "    restricoes = dataframes[3:5]\n",
    "    book_ativos = dataframes[5]   \n",
    "   \n",
    "    #Qual o book referente ao ativo da ordem\n",
    "    book_ativo = book_ativos[book_ativos['ativo'] == ativo]['book_micro'].values[0]\n",
    "    book_macro = encontrar_book_macro(book_ativo)\n",
    "\n",
    "    #Calcular a Régua Book Macro \n",
    "    regua_macro = calculo_regua_macro(dataframes[0],dataframes[1],credito_aportado['alocado'].sum())\n",
    "   \n",
    "    #Filtrar Régua pelo Book do Ativo\n",
    "    regua_macro = regua_macro[regua_macro['book'] == book_macro]\n",
    "    \n",
    "    #Aplicar Restrição de book micro e fundo restrito\n",
    "    alocacoes_restritos= verificar_restricoes(ativo,book_ativo,regua_macro,restricoes[0],restricoes[1])\n",
    "   \n",
    "    #Redistribuir \n",
    "    regua = redistribuir(regua_macro,alocacoes_restritos)\n",
    "    regua = regua[regua['percentual_alocacao'] != 0].dropna()\n",
    "\n",
    "    #Retornar Regua\n",
    "    return regua\n",
    "   \n",
    "\n",
    "teste = solucao([],pd.DataFrame(),dataframes)\n",
    "print(teste)"
   ]
  },
  {
   "cell_type": "code",
   "execution_count": 0,
   "metadata": {
    "application/vnd.databricks.v1+cell": {
     "cellMetadata": {},
     "inputWidgets": {},
     "nuid": "00251d10-b4e6-48ec-a93c-15890b3209ad",
     "showTitle": true,
     "tableResultSettingsMap": {},
     "title": "Testes Cálculo Régua"
    }
   },
   "outputs": [],
   "source": [
    "#Teste Cálculo Régua - Exemplo feito pelo Ali na Reunião do dia 09/01/2025 (https://drive.google.com/file/d/1O-bVrF1At0xZNQIGmIOQ1Oi7YiSkGD0u/view?usp=sharing)\n",
    "#Apenas um teste não precisa rodas\n",
    "''''credito_total = 40\n",
    "teste_inf_fundos = pd.DataFrame({\n",
    "        'fundo':['RFA','APO','ID2'],\n",
    "        'PL':[100,50,70],\n",
    "        'l_min':[0.1,0.1,0.1],\n",
    "        'l_max':[0.2,0.2,0.4]\n",
    "})\n",
    "teste_books_fundos  = pd.DataFrame({\n",
    "        'fundo':['RFA','RFA','RFA','APO','APO','APO','ID2','ID2','ID2'],\n",
    "        'book':['HG','MY','HY','HG','MY','HY','HG','MY','HY'],\n",
    "        'peso_book':[0.53778,0.1634,0.29882,0.23006,0.433212,0.336729,0.41028,0.20813,0.38159]\n",
    "})\n",
    "resposta_nossa = calculo_regua(teste_inf_fundos,teste_books_fundos,credito_total)\n",
    "resposta_ali = pd.DataFrame({\n",
    "        'fundo':['RFA','RFA','RFA','APO','APO','APO','ID2','ID2','ID2'],\n",
    "        'book':['HG','MY','HY','HG','MY','HY','HG','MY','HY'],\n",
    "        'dist_regua':[0.4753,0.2623,0.3275,0.1017,0.3478,0.1845,0.4230,0.3899,0.4879]\n",
    "        \n",
    "})\n",
    "print(resposta_nossa['percentual_alocacao'])\n",
    "print(resposta_ali['dist_regua'])''''"
   ]
  }
 ],
 "metadata": {
  "application/vnd.databricks.v1+notebook": {
   "computePreferences": null,
   "dashboards": [],
   "environmentMetadata": null,
   "language": "python",
   "notebookMetadata": {
    "pythonIndentUnit": 4
   },
   "notebookName": "Modelo",
   "widgets": {}
  },
  "language_info": {
   "name": "python"
  }
 },
 "nbformat": 4,
 "nbformat_minor": 0
}