{
 "cells": [
  {
   "cell_type": "markdown",
   "metadata": {
    "application/vnd.databricks.v1+cell": {
     "cellMetadata": {},
     "inputWidgets": {},
     "nuid": "b651057e-6239-4a6b-800a-3f92a0ba829f",
     "showTitle": false,
     "tableResultSettingsMap": {},
     "title": ""
    }
   },
   "source": [
    "## [Link para documento overleaf](https://www.overleaf.com/project/677fe7fd4bf7cc5092992e57) "
   ]
  },
  {
   "cell_type": "code",
   "execution_count": 0,
   "metadata": {
    "application/vnd.databricks.v1+cell": {
     "cellMetadata": {
      "byteLimit": 2048000,
      "rowLimit": 10000
     },
     "inputWidgets": {},
     "nuid": "0c15ebcd-365d-45bd-923c-7796e50b3c7d",
     "showTitle": false,
     "tableResultSettingsMap": {},
     "title": ""
    }
   },
   "outputs": [],
   "source": [
    "#Bibliotecas\n",
    "import pandas as pd\n",
    "from typing import List,Callable"
   ]
  },
  {
   "cell_type": "code",
   "execution_count": 0,
   "metadata": {
    "application/vnd.databricks.v1+cell": {
     "cellMetadata": {
      "byteLimit": 2048000,
      "rowLimit": 10000
     },
     "inputWidgets": {},
     "nuid": "f7aa7b51-9b97-434c-9622-9a7d247fa01b",
     "showTitle": false,
     "tableResultSettingsMap": {},
     "title": ""
    }
   },
   "outputs": [],
   "source": [
    "#Funções Intermédiarias da Função Principal\n",
    "#Pendência -> Trocar as várias querys por a query única feita pelo Cauê e pelo Cícero\n",
    "def extrair_informacoes(ativo: str) -> List[pd.DataFrame]:\n",
    "    '''\n",
    "    Objetivo:\n",
    "        Extrair informações necessárias para o Cálculo da Régua\n",
    "    Inputs:\n",
    "        ativo: Código do ativo que servirá para extrair informações em relação ao book micro e fundo restrito\n",
    "    Output:\n",
    "        inf_fundos: DataFrame com Patrimônio Líquido, Range Mínimo e Máximo de Crédito para cada fundo ['fundo','PL','l_min','l_max']\n",
    "        peso_book_fundos: DataFrame com Percentual de Alocação de cada Book (Esse perccentual é referente a parte disponivel para crédito) para cada fundo ['fundo','book','peso_book']\n",
    "        credito_aportado: DataFrame com valor de crédito alocado em cada book em cada fundo ['fundo','book','produto',alocado']\n",
    "        restricoes_book_micro: DataFrame com as restrições book micro [book','fundo',','flag']\n",
    "        restricoes_fundo_restrito: Dataframe com restrições fundo restrito ['ativo',fundo','flag']\n",
    "    '''\n",
    "    #Extraindo inf_fundos\n",
    "    #Patrimônio Líquido -> Tabela cotas\n",
    "    pls = spark.sql(\n",
    "        \"SELECT t.Codigo,t.PL,t.Data FROM desafio_kinea.boletagem_cp.cotas t JOIN (SELECT Codigo, MAX(Data) AS data_mais_recente FROM desafio_kinea.boletagem_cp.cotas GROUP BY Codigo) sub ON t.Codigo = sub.Codigo AND t.Data = sub.data_mais_recente;\"\n",
    "    ).toPandas()\n",
    "    \n",
    "    #Range mínimo e máximo de crédito -> Tabela range_alocacao\n",
    "    ranges = spark.sql(\n",
    "        \"SELECT * FROM desafio_kinea.boletagem_cp.range_alocacao\"\n",
    "    ).toPandas()\n",
    "\n",
    "    #Formando inf_fundos\n",
    "    pls = pls.rename(columns={'Codigo':'fundo'})\n",
    "    ranges = ranges.rename(columns={'Fundo':'fundo'})\n",
    "    inf_fundos = pd.merge(pls,ranges,on='fundo')\n",
    "    inf_fundos.drop(columns=['Data'],inplace=True)\n",
    "    \n",
    "    #Extraindo book_fundos\n",
    "    peso_book_fundos = spark.sql(\n",
    "        \"SELECT * FROM desafio_kinea.boletagem_cp.pesos_classes\"\n",
    "    ).toPandas().rename(columns={'Fundo':'fundo','classe':'book','peso':'peso_book'})\n",
    "    peso_book_fundos = peso_book_fundos\n",
    "\n",
    "    #Extraindo credito_aportado \n",
    "    tabela_base = spark.sql(\"\"\"\n",
    "        WITH \n",
    "        tab_booksoverview AS (\n",
    "\n",
    "        SELECT\n",
    "        distinct\n",
    "        PositionDate\n",
    "        ,Book          --Book: Classificacao organizacional dos ativos dos fundos\n",
    "        ,Product       --Product: Produto, é o prório ativo\n",
    "        ,ProductClass  --ProductClass: Tipo de Produto (Debenture,Fidc, Cri/Cra, etc)\n",
    "        ,TradingDesk   --Fundo\n",
    "        ,Position      --Posicao em valor financeiro total do ativo\n",
    "\n",
    "        FROM\n",
    "        desafio_kinea.boletagem_cp. booksoverviewposicao_fechamento--Tabela com as posicoes dos fundos\n",
    "\n",
    "\n",
    "        where (  LOWER(ProductClass) like '%debenture%'  --Apenas Ativos de Crédito Privado\n",
    "            or LOWER(ProductClass) like '%bonds%' \n",
    "            or LOWER(ProductClass) like '%cra%' \n",
    "            or LOWER(ProductClass) like '%cri%' \n",
    "            or LOWER(ProductClass) like '%funds%' \n",
    "            or LOWER(ProductClass) like '%letra%' \n",
    "            or LOWER(ProductClass) like '%nota%'\n",
    "            )\n",
    "\n",
    "        and (  LOWER(Book) like '%ivan%') --Filtra Books Ivan (gestor do fundo) - Apenas Crédito Privado\n",
    "\n",
    "        and TradingDesk in ('KCP','RFA','KOP', '846', '134', '678','FRA', 'CPI','PAL','ID2','PID','APO','APP','IRF','KAT','PEM','PDA',\"KRF\",\"652\",\"389\",\"348\",\"BVP\") --Apenas fundos finais\n",
    "\n",
    "        )\n",
    "\n",
    "        , tab_pl as (\n",
    "\n",
    "        SELECT\n",
    "        distinct\n",
    "        Data as PositionDate\n",
    "        ,Codigo as TradingDesk\n",
    "        ,PL\n",
    "        from  desafio_kinea.boletagem_cp.cotas --Tabela com o PL dos fundos\n",
    "        )\n",
    "\n",
    "        ,tab_fundos as (\n",
    "        SELECT\n",
    "        DISTINCT\n",
    "        tab_booksoverview.*\n",
    "        ,tab_pl.PL\n",
    "        FROM\n",
    "        tab_booksoverview\n",
    "        LEFT JOIN\n",
    "        tab_pl\n",
    "        ON tab_pl.PositionDate = tab_booksoverview.PositionDate and tab_pl.TradingDesk = tab_booksoverview.TradingDesk\n",
    "        ) \n",
    "        select PositionDate,Book,Product,t.TradingDesk,Position,PL from tab_fundos t JOIN (\n",
    "        select TradingDesk,MAX(PositionDate) as MaxDate from tab_fundos group by TradingDesk\n",
    "        ) sub ON t.TradingDesk = sub.TradingDesk AND t.PositionDate = sub.MaxDate\n",
    "        \"\"\"\n",
    "    ).toPandas().groupby(['TradingDesk','Book','Product']).agg({'Position':'sum'}).reset_index().rename(columns={\"TradingDesk\":'fundo','Book':'book','Product':'produto','Position':'alocado'})\n",
    "\n",
    "    #Extraindo restricoes_books_micro\n",
    "\n",
    "    #Extraindo restricao_fundos\n",
    "    \n",
    "\n",
    "\n",
    "    #return [inf_fundos,peso_book_fundos,credito_aportado]\n",
    "    return []\n",
    "\n",
    "#Fazer essa Função\n",
    "def redistribuir(alocacao):\n",
    "    return\n",
    "\n",
    "#Fazer essa Função\n",
    "def calculo_posicao(inf_fundos: pd.DataFrame,book_micro: str,) -> pd.DataFrame:\n",
    "    return\n",
    "\n",
    "def calculo_regua(inf_fundos: pd.DataFrame, peso_books_fundos:pd.DataFrame, restricoes_books_micro:pd.DataFrame, restrioces_fundo_restrito:pd.DataFrame,credito_total:float) -> pd.DataFrame:\n",
    "    '''\n",
    "    Objetivo:\n",
    "        Cálculo da Régua\n",
    "    Inputs:\n",
    "        inf_fundos: DataFrame com Patrimônio Líquido, Range Mínimo e Máximo de Crédito para cada fundo ['fundo','PL','l_min','l_max']\n",
    "        peso_books_fundos: DataFrame com Percentual de Alocação de cada Book (Esse perccentual é referente a parte disponivel para crédito) para cada fundo ['fundo','book','peso_book']\n",
    "        credito_total: float com o valor total do crédito \n",
    "    Output:\n",
    "        regua: DataFrame com as informações da régua que contém as alocações ideais ['fundo','book','percentual_alocacao']\n",
    "    '''\n",
    "\n",
    "    #Funções Auxiliares\n",
    "    def percentual_alocacao_range_total(credito_total:float,inf_fundos: pd.DataFrame) -> float:\n",
    "        inf_fundos['v_min'] = inf_fundos['PL'] * inf_fundos['l_min']\n",
    "        inf_fundos['v_max'] = inf_fundos['PL'] * inf_fundos['l_max']\n",
    "        return (credito_total - inf_fundos['v_min'].sum())/ (inf_fundos['v_max'].sum() - inf_fundos['v_min'].sum())\n",
    "    \n",
    "    def percentual_credito_relativo_pl(percentual_alocacao_range_total:float,inf_fundo: pd.Series) -> dict:\n",
    "        return inf_fundo['l_min'] + percentual_alocacao_range_total * (inf_fundo['l_max'] - inf_fundo['l_min'])\n",
    "    \n",
    "    def percentual_book_relativo_pl(percentual_credito_relativo_pl:float,peso_book_fundo: float) -> float:\n",
    "        return percentual_credito_relativo_pl * peso_book_fundo\n",
    "    \n",
    "    def valor_book_relativo_pl(percentual_book_relativo_pl:float,pl:float) -> float:\n",
    "        return pl *percentual_book_relativo_pl\n",
    "\n",
    "    #Cálculo da Régua\n",
    "    percentual_alocacao_range_total = percentual_alocacao_range_total(credito_total,inf_fundos)\n",
    "    \n",
    "    percentuais_credito_relativo_pl = {}\n",
    "    for index,row in inf_fundos.iterrows():\n",
    "        percentuais_credito_relativo_pl[row['fundo']] = percentual_credito_relativo_pl(percentual_alocacao_range_total,row)\n",
    "\n",
    "    percentuais_books_relativo_pl = pd.DataFrame(columns=['fundo','book','percentual'])\n",
    "    for fundo,percentual_credito_relativo_pl in percentuais_credito_relativo_pl.items():\n",
    "        for index,row in peso_books_fundos[peso_books_fundos['fundo'] == fundo].iterrows():\n",
    "            percentuais_books_relativo_pl.loc[len(percentuais_books_relativo_pl)] = [fundo,row['book'],percentual_book_relativo_pl(percentual_credito_relativo_pl,row['peso_book'])]\n",
    "    \n",
    "    valores_books_relativos_pl = pd.DataFrame(columns=['fundo','book','valor'])\n",
    "    for index,row in percentuais_books_relativo_pl.iterrows():\n",
    "        valores_books_relativos_pl.loc[len(valores_books_relativos_pl)] = [row['fundo'],row['book'],valor_book_relativo_pl(row['percentual'],inf_fundos[inf_fundos['fundo'] == row['fundo']]['PL'].values[0])]\n",
    "   \n",
    "    regua = pd.DataFrame(columns=['fundo','book','percentual_alocacao'])\n",
    "    books = valores_books_relativos_pl['book'].unique()\n",
    "    fundos = valores_books_relativos_pl['fundo'].unique()\n",
    "    somas_books = {}\n",
    "    for book in books:\n",
    "        somas_books[book] = valores_books_relativos_pl[valores_books_relativos_pl['book'] == book]['valor'].sum()\n",
    "    for fundo in fundos:\n",
    "        for index,row in valores_books_relativos_pl[valores_books_relativos_pl['fundo'] == fundo].iterrows():\n",
    "            regua.loc[len(regua)] = [fundo,row['book'],row['valor']/somas_books[row['book']]]\n",
    "    \n",
    "    #Passar por verificações de book micro e fundo restrito\n",
    "    #Redistribuir\n",
    "    return regua"
   ]
  },
  {
   "cell_type": "code",
   "execution_count": 0,
   "metadata": {
    "application/vnd.databricks.v1+cell": {
     "cellMetadata": {
      "byteLimit": 2048000,
      "rowLimit": 10000
     },
     "inputWidgets": {},
     "nuid": "a81c5195-082c-4163-8808-e67bc2c0ba5f",
     "showTitle": false,
     "tableResultSettingsMap": {},
     "title": ""
    },
    "jupyter": {
     "outputs_hidden": true
    }
   },
   "outputs": [
    {
     "output_type": "stream",
     "name": "stdout",
     "output_type": "stream",
     "text": [
      "{'RFA': [6165720738.95119], 'APO': [2279627646.384785], 'ID2': [3488179932.21023], 'APP': [8430325498.580385], 'PID': [3937179801.4903502], 'KAT': [3004467197.6176753], 'KCP': [3424900701.5180855], 'CPI': [54355074.65991], 'BVP': [1191376868.3027952], 'PAL': [18720368.46087], 'IRF': [168954523.486945], '846': [3130395619.174485], '134': [7003331463.740895], '678': [6318358039.8425455], 'KOP': [733760002.8074601], 'FRA': [78590201.440485], 'PDA': [1172652382.054455], 'KRF': [2061515384.744035], '652': [2496049914.0221553], '389': [94841789.981635]}\n"
     ]
    }
   ],
   "source": [
    "#Função Principal\n",
    "def solucao(checagens: List[Callable],ordens: pd.DataFrame) -> pd.DataFrame:\n",
    "    '''\n",
    "    Função principal que recebe como input:\n",
    "    1. checagens: Lista de funções geradas pelo ChatGPT\n",
    "    2. ordens: DataFrame ['Ticker','Amount','Price'] representando uma grupo de ordens a serem boletadas\n",
    "    e retorna:\n",
    "    1. ordens_final: DatFrame ['Ticker','Amount','Price','Fundo'] representando quanto irá para cada fundo\n",
    "    '''\n",
    "    #1.Etapa - Extrair Informações dos Fundos (Patrimônio Líquido, Range Mínimo e Máximo de Crédito, Pesos de cada Book em cada Fundo)\n",
    "    extrair_informacoes()\n",
    "    #2.Etapa -> Calcular a Régua Book Macro\n",
    "    \n",
    "\n",
    "    #3 Etapa -> Aplicar Restição de book micro e fundo restrito\n",
    "   \n",
    "\n",
    "   #4. etapa -> Passar por funções de verificação\n",
    "\n",
    "   #4.1 -> Calcular quanto está errado e redistribuir\n",
    "   #4.1.1 -> Precisamos de um método de otimização? Gradiente ou outrca coisa? Se sim Desenvolver teórioco\n",
    "\n",
    "   #5 -> Reverificar  e caso passe entregar o resultado final\n"
   ]
  },
  {
   "cell_type": "code",
   "execution_count": 0,
   "metadata": {
    "application/vnd.databricks.v1+cell": {
     "cellMetadata": {
      "byteLimit": 2048000,
      "rowLimit": 10000
     },
     "inputWidgets": {},
     "nuid": "c6b791fa-b86e-4069-9c6e-37e760f9b4c9",
     "showTitle": false,
     "tableResultSettingsMap": {},
     "title": ""
    }
   },
   "outputs": [
    {
     "output_type": "execute_result",
     "data": {
      "text/html": [
       "<div>\n",
       "<style scoped>\n",
       "    .dataframe tbody tr th:only-of-type {\n",
       "        vertical-align: middle;\n",
       "    }\n",
       "\n",
       "    .dataframe tbody tr th {\n",
       "        vertical-align: top;\n",
       "    }\n",
       "\n",
       "    .dataframe thead th {\n",
       "        text-align: right;\n",
       "    }\n",
       "</style>\n",
       "<table border=\"1\" class=\"dataframe\">\n",
       "  <thead>\n",
       "    <tr style=\"text-align: right;\">\n",
       "      <th></th>\n",
       "      <th>TradingDesk</th>\n",
       "      <th>Book</th>\n",
       "      <th>Product</th>\n",
       "      <th>Position</th>\n",
       "    </tr>\n",
       "  </thead>\n",
       "  <tbody>\n",
       "    <tr>\n",
       "      <th>0</th>\n",
       "      <td>134</td>\n",
       "      <td>Ivan_CRI_DI+_HTM</td>\n",
       "      <td>CRA CORPORATIVO 6.7282% EMISSÃO 85 SÉRIE 3 28D...</td>\n",
       "      <td>3.124919e+06</td>\n",
       "    </tr>\n",
       "    <tr>\n",
       "      <th>1</th>\n",
       "      <td>134</td>\n",
       "      <td>Ivan_CRI_DI+_HTM</td>\n",
       "      <td>CRA MONTE CARLO 7.5% EMISSÃO 86 SÉRIE 1 22FEB2029</td>\n",
       "      <td>9.693173e+06</td>\n",
       "    </tr>\n",
       "    <tr>\n",
       "      <th>2</th>\n",
       "      <td>134</td>\n",
       "      <td>Ivan_CRI_DI+_HTM</td>\n",
       "      <td>CRA MONTE CARLO 7.5% EMISSÃO 87 SÉRIE 1 22FEB2029</td>\n",
       "      <td>1.830199e+06</td>\n",
       "    </tr>\n",
       "    <tr>\n",
       "      <th>3</th>\n",
       "      <td>134</td>\n",
       "      <td>Ivan_CRI_DI+_HTM</td>\n",
       "      <td>CRI 1.25 TRUE SECURITIZADORA SERIE 247 19DEC2029</td>\n",
       "      <td>1.881733e+07</td>\n",
       "    </tr>\n",
       "    <tr>\n",
       "      <th>4</th>\n",
       "      <td>134</td>\n",
       "      <td>Ivan_CRI_DI+_HTM</td>\n",
       "      <td>CRI BARI 1.45 22Nov2029</td>\n",
       "      <td>2.325924e+07</td>\n",
       "    </tr>\n",
       "  </tbody>\n",
       "</table>\n",
       "</div>"
      ],
      "text/plain": [
       "  TradingDesk  ...      Position\n",
       "0         134  ...  3.124919e+06\n",
       "1         134  ...  9.693173e+06\n",
       "2         134  ...  1.830199e+06\n",
       "3         134  ...  1.881733e+07\n",
       "4         134  ...  2.325924e+07\n",
       "\n",
       "[5 rows x 4 columns]"
      ]
     },
     "execution_count": 10,
     "metadata": {},
     "output_type": "execute_result"
    }
   ],
   "source": [
    "#Teste da extração de informações\n",
    "df = extrair_informacoes()[0]\n",
    "df.head()\n"
   ]
  },
  {
   "cell_type": "code",
   "execution_count": 0,
   "metadata": {
    "application/vnd.databricks.v1+cell": {
     "cellMetadata": {
      "byteLimit": 2048000,
      "rowLimit": 10000
     },
     "inputWidgets": {},
     "nuid": "3fcab31f-083e-4e31-bbe5-fa30b7fc2d1a",
     "showTitle": false,
     "tableResultSettingsMap": {},
     "title": ""
    },
    "jupyter": {
     "outputs_hidden": true
    }
   },
   "outputs": [
    {
     "output_type": "stream",
     "name": "stdout",
     "output_type": "stream",
     "text": [
      "0    0.475293\n1    0.262353\n2    0.327520\n3    0.101664\n4    0.347780\n5    0.184535\n6    0.423043\n7    0.389866\n8    0.487946\nName: percentual_alocacao, dtype: float64\n0    0.4753\n1    0.2623\n2    0.3275\n3    0.1017\n4    0.3478\n5    0.1845\n6    0.4230\n7    0.3899\n8    0.4879\nName: dist_regua, dtype: float64\n"
     ]
    }
   ],
   "source": [
    "#Teste Cálculo Régua - Exemplo feito pelo Ali na Reunião do dia 09/01/2025 (https://drive.google.com/file/d/1O-bVrF1At0xZNQIGmIOQ1Oi7YiSkGD0u/view?usp=sharing)\n",
    "credito_total = 40\n",
    "teste_inf_fundos = pd.DataFrame({\n",
    "        'fundo':['RFA','APO','ID2'],\n",
    "        'PL':[100,50,70],\n",
    "        'l_min':[0.1,0.1,0.1],\n",
    "        'l_max':[0.2,0.2,0.4]\n",
    "})\n",
    "teste_books_fundos  = pd.DataFrame({\n",
    "        'fundo':['RFA','RFA','RFA','APO','APO','APO','ID2','ID2','ID2'],\n",
    "        'book':['HG','MY','HY','HG','MY','HY','HG','MY','HY'],\n",
    "        'peso_book':[0.53778,0.1634,0.29882,0.23006,0.433212,0.336729,0.41028,0.20813,0.38159]\n",
    "})\n",
    "resposta_nossa = calculo_regua(teste_inf_fundos,teste_books_fundos,credito_total)\n",
    "resposta_ali = pd.DataFrame({\n",
    "        'fundo':['RFA','RFA','RFA','APO','APO','APO','ID2','ID2','ID2'],\n",
    "        'book':['HG','MY','HY','HG','MY','HY','HG','MY','HY'],\n",
    "        'dist_regua':[0.4753,0.2623,0.3275,0.1017,0.3478,0.1845,0.4230,0.3899,0.4879]\n",
    "        \n",
    "})\n",
    "print(resposta_nossa['percentual_alocacao'])\n",
    "print(resposta_ali['dist_regua'])"
   ]
  }
 ],
 "metadata": {
  "application/vnd.databricks.v1+notebook": {
   "computePreferences": null,
   "dashboards": [],
   "environmentMetadata": null,
   "language": "python",
   "notebookMetadata": {
    "mostRecentlyExecutedCommandWithImplicitDF": {
     "commandId": 3541718863298647,
     "dataframes": [
      "_sqldf"
     ]
    },
    "pythonIndentUnit": 4
   },
   "notebookName": "Modelo_v1_JP",
   "widgets": {}
  },
  "kernelspec": {
   "display_name": "Python 3",
   "language": "python",
   "name": "python3"
  },
  "language_info": {
   "name": "python"
  }
 },
 "nbformat": 4,
 "nbformat_minor": 0
}