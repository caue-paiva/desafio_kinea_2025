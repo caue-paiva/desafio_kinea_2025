{
 "cells": [
  {
   "cell_type": "markdown",
   "metadata": {
    "application/vnd.databricks.v1+cell": {
     "cellMetadata": {},
     "inputWidgets": {},
     "nuid": "b651057e-6239-4a6b-800a-3f92a0ba829f",
     "showTitle": false,
     "tableResultSettingsMap": {},
     "title": ""
    }
   },
   "source": [
    "## [Link para documento overleaf](https://www.overleaf.com/project/677fe7fd4bf7cc5092992e57) "
   ]
  },
  {
   "cell_type": "code",
   "execution_count": 44,
   "metadata": {},
   "outputs": [],
   "source": [
    "#Bibliotecas\n",
    "import pandas as pd\n",
    "from typing import List,Callable"
   ]
  },
  {
   "cell_type": "code",
   "execution_count": 65,
   "metadata": {},
   "outputs": [],
   "source": [
    "#Funções Intermédiarias da Função Principal\n",
    "def extrair_informacoes() -> pd.DataFrame:\n",
    "    '''\n",
    "    Inputs:\n",
    "        None\n",
    "    Output:\n",
    "        inf_fundos: DataFrame com Patrimônio Líquido, Range Mínimo e Máximo de Crédito para cada fundo ['fundo','PL','l_min','l_max']\n",
    "        book_fundos: DataFrame com Percentual de Alocação de cada Book (Esse perccentual é referente a parte disponivel para crédito) para cada fundo ['fundo','book']\n",
    "    '''\n",
    "    \n",
    "\n",
    "def calculo_regua(inf_fundos: pd.DataFrame, books_fundos:pd.DataFrame, credito_total:float) -> pd.DataFrame:\n",
    "    '''\n",
    "    Inputs:\n",
    "        inf_fundos: DataFrame com Patrimônio Líquido, Range Mínimo e Máximo de Crédito para cada fundo ['fundo','PL','l_min','l_max']\n",
    "        books_fundos: DataFrame com Percentual de Alocação de cada Book (Esse perccentual é referente a parte disponivel para crédito) para cada fundo ['fundo','books']\n",
    "        credito_total: float com o valor total do crédito \n",
    "    Output:\n",
    "        regua: DataFrame com as informações da régua que contém as alocações ideais ['fundo','book','percentual_alocacao']\n",
    "    '''\n",
    "\n",
    "    #Funções Auxiliares\n",
    "    def percentual_alocacao_range_total(credito_total:float,inf_fundos: pd.DataFrame) -> float:\n",
    "        inf_fundos['v_min'] = inf_fundos['PL'] * inf_fundos['l_min']\n",
    "        inf_fundos['v_max'] = inf_fundos['PL'] * inf_fundos['l_max']\n",
    "        return (credito_total - inf_fundos['v_min'].sum())/ (inf_fundos['v_max'].sum() - inf_fundos['v_min'].sum())\n",
    "    \n",
    "    def percentual_credito_relativo_pl(percentual_alocacao_range_total:float,inf_fundo: pd.Series) -> dict:\n",
    "        return inf_fundo['l_min'] + percentual_alocacao_range_total * (inf_fundo['l_max'] - inf_fundo['l_min'])\n",
    "    \n",
    "    def percentual_book_relativo_pl(percentual_credito_relativo_pl:float,peso_book_fundo: float) -> float:\n",
    "        return percentual_credito_relativo_pl * peso_book_fundo\n",
    "    \n",
    "    def valor_book_relativo_pl(percentual_book_relativo_pl:float,pl:float) -> float:\n",
    "        return pl *percentual_book_relativo_pl\n",
    "\n",
    "    #Cálculo da Régua\n",
    "    percentual_alocacao_range_total = percentual_alocacao_range_total(credito_total,inf_fundos)\n",
    "    \n",
    "    percentuais_credito_relativo_pl = {}\n",
    "    for index,row in inf_fundos.iterrows():\n",
    "        percentuais_credito_relativo_pl[row['fundo']] = percentual_credito_relativo_pl(percentual_alocacao_range_total,row)\n",
    "\n",
    "    percentuais_books_relativo_pl = pd.DataFrame(columns=['fundo','book','percentual'])\n",
    "    for fundo,percentual_credito_relativo_pl in percentuais_credito_relativo_pl.items():\n",
    "        for index,row in books_fundos[books_fundos['fundo'] == fundo].iterrows():\n",
    "            percentuais_books_relativo_pl.loc[len(percentuais_books_relativo_pl)] = [fundo,row['book'],percentual_book_relativo_pl(percentual_credito_relativo_pl,row['peso_book'])]\n",
    "    \n",
    "    valores_books_relativos_pl = pd.DataFrame(columns=['fundo','book','valor'])\n",
    "    for index,row in percentuais_books_relativo_pl.iterrows():\n",
    "        valores_books_relativos_pl.loc[len(valores_books_relativos_pl)] = [row['fundo'],row['book'],valor_book_relativo_pl(row['percentual'],inf_fundos[inf_fundos['fundo'] == row['fundo']]['PL'].values[0])]\n",
    "   \n",
    "    regua = pd.DataFrame(columns=['fundo','book','percentual_alocacao'])\n",
    "    books = valores_books_relativos_pl['book'].unique()\n",
    "    fundos = valores_books_relativos_pl['fundo'].unique()\n",
    "    somas_books = {}\n",
    "    for book in books:\n",
    "        somas_books[book] = valores_books_relativos_pl[valores_books_relativos_pl['book'] == book]['valor'].sum()\n",
    "    for fundo in fundos:\n",
    "        for index,row in valores_books_relativos_pl[valores_books_relativos_pl['fundo'] == fundo].iterrows():\n",
    "            regua.loc[len(regua)] = [fundo,row['book'],row['valor']/somas_books[row['book']]]\n",
    "    \n",
    "    return regua"
   ]
  },
  {
   "cell_type": "code",
   "execution_count": null,
   "metadata": {},
   "outputs": [
    {
     "name": "stdout",
     "output_type": "stream",
     "text": [
      "  fundo book  percentual_alocacao\n",
      "0   RFA   HG             0.475293\n",
      "1   RFA   MY             0.262353\n",
      "2   RFA   HY             0.327520\n",
      "3   APO   HG             0.101664\n",
      "4   APO   MY             0.347780\n",
      "5   APO   HY             0.184535\n",
      "6   ID2   HG             0.423043\n",
      "7   ID2   MY             0.389866\n",
      "8   ID2   HY             0.487946\n"
     ]
    }
   ],
   "source": [
    "#Testes Funções Intermédiarias\n",
    "\n",
    "#Teste Cálculo Régua - Exemplo feito pelo Ali na Reunião do dia 09/01/2025 (https://drive.google.com/file/d/1O-bVrF1At0xZNQIGmIOQ1Oi7YiSkGD0u/view?usp=sharing)\n",
    "credito_total = 40\n",
    "teste_inf_fundos = pd.DataFrame({\n",
    "        'fundo':['RFA','APO','ID2'],\n",
    "        'PL':[100,50,70],\n",
    "        'l_min':[0.1,0.1,0.1],\n",
    "        'l_max':[0.2,0.2,0.4]\n",
    "})\n",
    "teste_books_fundos  = pd.DataFrame({\n",
    "        'fundo':['RFA','RFA','RFA','APO','APO','APO','ID2','ID2','ID2'],\n",
    "        'book':['HG','MY','HY','HG','MY','HY','HG','MY','HY'],\n",
    "        'peso_book':[0.53778,0.1634,0.29882,0.23006,0.433212,0.336729,0.41028,0.20813,0.38159]\n",
    "})\n",
    "#print(calculo_regua(teste_inf_fundos,teste_books_fundos,credito_total)) -> Funcionando\n",
    "\n",
    "\n",
    "\n",
    "\n",
    "\n"
   ]
  },
  {
   "cell_type": "code",
   "execution_count": 0,
   "metadata": {
    "application/vnd.databricks.v1+cell": {
     "cellMetadata": {
      "byteLimit": 2048000,
      "rowLimit": 10000
     },
     "inputWidgets": {},
     "nuid": "a81c5195-082c-4163-8808-e67bc2c0ba5f",
     "showTitle": false,
     "tableResultSettingsMap": {},
     "title": ""
    }
   },
   "outputs": [
    {
     "name": "stdout",
     "output_type": "stream",
     "text": [
      "{'RFA': [6165720738.95119], 'APO': [2279627646.384785], 'ID2': [3488179932.21023], 'APP': [8430325498.580385], 'PID': [3937179801.4903502], 'KAT': [3004467197.6176753], 'KCP': [3424900701.5180855], 'CPI': [54355074.65991], 'BVP': [1191376868.3027952], 'PAL': [18720368.46087], 'IRF': [168954523.486945], '846': [3130395619.174485], '134': [7003331463.740895], '678': [6318358039.8425455], 'KOP': [733760002.8074601], 'FRA': [78590201.440485], 'PDA': [1172652382.054455], 'KRF': [2061515384.744035], '652': [2496049914.0221553], '389': [94841789.981635]}\n"
     ]
    }
   ],
   "source": [
    "#Função Principal\n",
    "def solucao(checagens: List[Callable],ordens: pd.DataFrame) -> pd.DataFrame:\n",
    "    '''\n",
    "    Função principal que recebe como input:\n",
    "    1. checagens: Lista de funções geradas pelo ChatGPT\n",
    "    2. ordens: DataFrame ['Ticker','Amount','Price'] representando uma grupo de ordens a serem boletadas\n",
    "    e retorna:\n",
    "    1. ordens_final: DatFrame ['Ticker','Amount','Price','Fundo'] representando quanto irá para cada fundo\n",
    "    '''\n",
    "    #1.Etapa - Extrair Informações dos Fundos (Patrimônio Líquido, Range Mínimo e Máximo de Crédito, Pesos de cada Book em cada Fundo)\n",
    "    inf_fundos = pd.DataFrame()\n",
    "    book_fundos = pd.DataFrame()\n",
    "    #2Etapa -> Calcular a Régua\n",
    "    regua = calculo_regua(inf_fundos,books_fundos,credito_total)\n",
    "   "
   ]
  }
 ],
 "metadata": {
  "application/vnd.databricks.v1+notebook": {
   "computePreferences": null,
   "dashboards": [],
   "environmentMetadata": null,
   "language": "python",
   "notebookMetadata": {
    "mostRecentlyExecutedCommandWithImplicitDF": {
     "commandId": 2630517743187907,
     "dataframes": [
      "_sqldf"
     ]
    },
    "pythonIndentUnit": 4
   },
   "notebookName": "Modelo_v1_JP",
   "widgets": {}
  },
  "kernelspec": {
   "display_name": "Python 3",
   "language": "python",
   "name": "python3"
  },
  "language_info": {
   "codemirror_mode": {
    "name": "ipython",
    "version": 3
   },
   "file_extension": ".py",
   "mimetype": "text/x-python",
   "name": "python",
   "nbconvert_exporter": "python",
   "pygments_lexer": "ipython3",
   "version": "3.11.9"
  }
 },
 "nbformat": 4,
 "nbformat_minor": 0
}
