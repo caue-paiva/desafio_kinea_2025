{
 "cells": [
  {
   "cell_type": "markdown",
   "metadata": {
    "application/vnd.databricks.v1+cell": {
     "cellMetadata": {},
     "inputWidgets": {},
     "nuid": "b651057e-6239-4a6b-800a-3f92a0ba829f",
     "showTitle": false,
     "tableResultSettingsMap": {},
     "title": ""
    }
   },
   "source": [
    "## [Link para documento overleaf](https://www.overleaf.com/project/677fe7fd4bf7cc5092992e57) "
   ]
  },
  {
   "cell_type": "code",
   "execution_count": 0,
   "metadata": {
    "application/vnd.databricks.v1+cell": {
     "cellMetadata": {
      "byteLimit": 2048000,
      "rowLimit": 10000
     },
     "inputWidgets": {},
     "nuid": "a81c5195-082c-4163-8808-e67bc2c0ba5f",
     "showTitle": false,
     "tableResultSettingsMap": {},
     "title": ""
    }
   },
   "outputs": [
    {
     "output_type": "stream",
     "name": "stdout",
     "output_type": "stream",
     "text": [
      "{'RFA': [6165720738.95119], 'APO': [2279627646.384785], 'ID2': [3488179932.21023], 'APP': [8430325498.580385], 'PID': [3937179801.4903502], 'KAT': [3004467197.6176753], 'KCP': [3424900701.5180855], 'CPI': [54355074.65991], 'BVP': [1191376868.3027952], 'PAL': [18720368.46087], 'IRF': [168954523.486945], '846': [3130395619.174485], '134': [7003331463.740895], '678': [6318358039.8425455], 'KOP': [733760002.8074601], 'FRA': [78590201.440485], 'PDA': [1172652382.054455], 'KRF': [2061515384.744035], '652': [2496049914.0221553], '389': [94841789.981635]}\n"
     ]
    }
   ],
   "source": [
    "from typing import Callable, List, Dict\n",
    "import pandas as pd\n",
    "ordem = pd.DataFrame({'Ticker':['ITSA16'],'Amount':[100],'Price':[100]})\n",
    "\n",
    "def solucao(checagens: List[Callable],ordens: pd.DataFrame) -> pd.DataFrame:\n",
    "    '''\n",
    "    Função principal que recebe como input:\n",
    "    1. checagens: Lista de funções geradas pelo ChatGPT\n",
    "    2. ordens: DataFrame ['Ticker','Amount','Price'] representando uma grupo de ordens a serem boletadas\n",
    "    e retorna:\n",
    "    1. ordens_final: DatFrame ['Ticker','Amount','Price','Fundo'] representando quanto irá para cada fundo\n",
    "    '''\n",
    "    alocacoes = pd.DataFrame(columns=['Ativo', 'Código do Fundo', 'Alocação'])\n",
    "    # Cálculo da Regua\n",
    "    # Iterar sobre todas as ordens utilizando alocacao homogenea\n",
    "    # Em cada ordem iterar sobre as checagens\n",
    "    # Checagens retornam em quanto está sendo ultrapassada aquela restrição\n",
    "    # Funcao matematica para corrigir alocacao\n",
    "\n",
    "def calculo_regua(ordem: pd.Series) -> pd.Series:\n",
    "  '''\n",
    "  ordem: Series ['Ticker','Amount','Price'] representando uma ordem a ser boletada\n",
    "  '''\n",
    "  #Resgatando nome do ativo\n",
    "  ticker = ordem['Ticker']\n",
    "  #Pesquisando qual book (estratégia)  está relacionada a esse fundo\n",
    "  query_book_ativo = spark.sql(f\"SELECT * FROM desafio_kinea.boletagem_cp.book_ativos where ativo = '{ticker}'\").collect()\n",
    "  book = query_book_ativo[0]['book'] \n",
    "  #Pesquisando quais fundos tem essa estratégia\n",
    "  query_fundos = spark.sql(f\"SELECT * FROM desafio_kinea.boletagem_cp.restricao_book where book_micro = '{book}'\").collect()\n",
    "  fundos= [i['fundo'] for i in query_fundos]\n",
    "  #Pesquisando P.L de cada fundo\n",
    "  fundos_str= ','.join([f\"'{i['fundo']}'\" for i in query_fundos]) #Tratamento necessário para busca sql\n",
    "  fundos_str= fundos_str[:0] +'(' + fundos_str[:] + ')'\n",
    "  query_PL = spark.sql(f\"SELECT Codigo, PL, Data FROM desafio_kinea.boletagem_cp.cotas WHERE Codigo IN {fundos_str} ORDER BY Data DESC\").collect()\n",
    "  PLs = {}\n",
    "  for codigo_fundo in fundos:\n",
    "    for i in query_PL:\n",
    "      if i['Codigo'] == codigo_fundo:\n",
    "        PLs[codigo_fundo] = [i['PL']]\n",
    "        break\n",
    "  print(PLs)\n",
    "calculo_regua(ordem.iloc[0])"
   ]
  },
  {
   "cell_type": "code",
   "execution_count": 0,
   "metadata": {
    "application/vnd.databricks.v1+cell": {
     "cellMetadata": {
      "byteLimit": 2048000,
      "rowLimit": 10000
     },
     "inputWidgets": {},
     "nuid": "84a7cda3-26f2-410f-adf3-236de44da6d4",
     "showTitle": false,
     "tableResultSettingsMap": {},
     "title": ""
    }
   },
   "outputs": [
    {
     "output_type": "display_data",
     "data": {
      "text/plain": [
       "\u001B[0;31m---------------------------------------------------------------------------\u001B[0m\n",
       "\u001B[0;31mKeyError\u001B[0m                                  Traceback (most recent call last)\n",
       "File \u001B[0;32m/databricks/python/lib/python3.11/site-packages/pandas/core/indexes/base.py:3802\u001B[0m, in \u001B[0;36mIndex.get_loc\u001B[0;34m(self, key, method, tolerance)\u001B[0m\n",
       "\u001B[1;32m   3801\u001B[0m \u001B[38;5;28;01mtry\u001B[39;00m:\n",
       "\u001B[0;32m-> 3802\u001B[0m     \u001B[38;5;28;01mreturn\u001B[39;00m \u001B[38;5;28mself\u001B[39m\u001B[38;5;241m.\u001B[39m_engine\u001B[38;5;241m.\u001B[39mget_loc(casted_key)\n",
       "\u001B[1;32m   3803\u001B[0m \u001B[38;5;28;01mexcept\u001B[39;00m \u001B[38;5;167;01mKeyError\u001B[39;00m \u001B[38;5;28;01mas\u001B[39;00m err:\n",
       "\n",
       "File \u001B[0;32m/databricks/python/lib/python3.11/site-packages/pandas/_libs/index.pyx:138\u001B[0m, in \u001B[0;36mpandas._libs.index.IndexEngine.get_loc\u001B[0;34m()\u001B[0m\n",
       "\n",
       "File \u001B[0;32m/databricks/python/lib/python3.11/site-packages/pandas/_libs/index.pyx:165\u001B[0m, in \u001B[0;36mpandas._libs.index.IndexEngine.get_loc\u001B[0;34m()\u001B[0m\n",
       "\n",
       "File \u001B[0;32mpandas/_libs/hashtable_class_helper.pxi:5745\u001B[0m, in \u001B[0;36mpandas._libs.hashtable.PyObjectHashTable.get_item\u001B[0;34m()\u001B[0m\n",
       "\n",
       "File \u001B[0;32mpandas/_libs/hashtable_class_helper.pxi:5753\u001B[0m, in \u001B[0;36mpandas._libs.hashtable.PyObjectHashTable.get_item\u001B[0;34m()\u001B[0m\n",
       "\n",
       "\u001B[0;31mKeyError\u001B[0m: 'P_L'\n",
       "\n",
       "The above exception was the direct cause of the following exception:\n",
       "\n",
       "\u001B[0;31mKeyError\u001B[0m                                  Traceback (most recent call last)\n",
       "File \u001B[0;32m<command-2630517743187964>, line 20\u001B[0m\n",
       "\u001B[1;32m     18\u001B[0m     inf_fundos[\u001B[38;5;124m'\u001B[39m\u001B[38;5;124mv_min\u001B[39m\u001B[38;5;124m'\u001B[39m] \u001B[38;5;241m=\u001B[39m v(inf_fundos[\u001B[38;5;124m'\u001B[39m\u001B[38;5;124mP_L\u001B[39m\u001B[38;5;124m'\u001B[39m],inf_fundos[\u001B[38;5;124m'\u001B[39m\u001B[38;5;124ml_min\u001B[39m\u001B[38;5;124m'\u001B[39m])\n",
       "\u001B[1;32m     19\u001B[0m     \u001B[38;5;28mprint\u001B[39m(inf_fundos)\n",
       "\u001B[0;32m---> 20\u001B[0m \u001B[38;5;28mprint\u001B[39m(r(C,teste_fundos))\n",
       "\n",
       "File \u001B[0;32m<command-2630517743187964>, line 18\u001B[0m, in \u001B[0;36mr\u001B[0;34m(C, inf_fundos)\u001B[0m\n",
       "\u001B[1;32m     17\u001B[0m \u001B[38;5;28;01mdef\u001B[39;00m \u001B[38;5;21mr\u001B[39m(C:\u001B[38;5;28mfloat\u001B[39m,inf_fundos: pd\u001B[38;5;241m.\u001B[39mDataFrame):\n",
       "\u001B[0;32m---> 18\u001B[0m     inf_fundos[\u001B[38;5;124m'\u001B[39m\u001B[38;5;124mv_min\u001B[39m\u001B[38;5;124m'\u001B[39m] \u001B[38;5;241m=\u001B[39m v(inf_fundos[\u001B[38;5;124m'\u001B[39m\u001B[38;5;124mP_L\u001B[39m\u001B[38;5;124m'\u001B[39m],inf_fundos[\u001B[38;5;124m'\u001B[39m\u001B[38;5;124ml_min\u001B[39m\u001B[38;5;124m'\u001B[39m])\n",
       "\u001B[1;32m     19\u001B[0m     \u001B[38;5;28mprint\u001B[39m(inf_fundos)\n",
       "\n",
       "File \u001B[0;32m/databricks/python/lib/python3.11/site-packages/pandas/core/frame.py:3807\u001B[0m, in \u001B[0;36mDataFrame.__getitem__\u001B[0;34m(self, key)\u001B[0m\n",
       "\u001B[1;32m   3805\u001B[0m \u001B[38;5;28;01mif\u001B[39;00m \u001B[38;5;28mself\u001B[39m\u001B[38;5;241m.\u001B[39mcolumns\u001B[38;5;241m.\u001B[39mnlevels \u001B[38;5;241m>\u001B[39m \u001B[38;5;241m1\u001B[39m:\n",
       "\u001B[1;32m   3806\u001B[0m     \u001B[38;5;28;01mreturn\u001B[39;00m \u001B[38;5;28mself\u001B[39m\u001B[38;5;241m.\u001B[39m_getitem_multilevel(key)\n",
       "\u001B[0;32m-> 3807\u001B[0m indexer \u001B[38;5;241m=\u001B[39m \u001B[38;5;28mself\u001B[39m\u001B[38;5;241m.\u001B[39mcolumns\u001B[38;5;241m.\u001B[39mget_loc(key)\n",
       "\u001B[1;32m   3808\u001B[0m \u001B[38;5;28;01mif\u001B[39;00m is_integer(indexer):\n",
       "\u001B[1;32m   3809\u001B[0m     indexer \u001B[38;5;241m=\u001B[39m [indexer]\n",
       "\n",
       "File \u001B[0;32m/databricks/python/lib/python3.11/site-packages/pandas/core/indexes/base.py:3804\u001B[0m, in \u001B[0;36mIndex.get_loc\u001B[0;34m(self, key, method, tolerance)\u001B[0m\n",
       "\u001B[1;32m   3802\u001B[0m     \u001B[38;5;28;01mreturn\u001B[39;00m \u001B[38;5;28mself\u001B[39m\u001B[38;5;241m.\u001B[39m_engine\u001B[38;5;241m.\u001B[39mget_loc(casted_key)\n",
       "\u001B[1;32m   3803\u001B[0m \u001B[38;5;28;01mexcept\u001B[39;00m \u001B[38;5;167;01mKeyError\u001B[39;00m \u001B[38;5;28;01mas\u001B[39;00m err:\n",
       "\u001B[0;32m-> 3804\u001B[0m     \u001B[38;5;28;01mraise\u001B[39;00m \u001B[38;5;167;01mKeyError\u001B[39;00m(key) \u001B[38;5;28;01mfrom\u001B[39;00m \u001B[38;5;21;01merr\u001B[39;00m\n",
       "\u001B[1;32m   3805\u001B[0m \u001B[38;5;28;01mexcept\u001B[39;00m \u001B[38;5;167;01mTypeError\u001B[39;00m:\n",
       "\u001B[1;32m   3806\u001B[0m     \u001B[38;5;66;03m# If we have a listlike key, _check_indexing_error will raise\u001B[39;00m\n",
       "\u001B[1;32m   3807\u001B[0m     \u001B[38;5;66;03m#  InvalidIndexError. Otherwise we fall through and re-raise\u001B[39;00m\n",
       "\u001B[1;32m   3808\u001B[0m     \u001B[38;5;66;03m#  the TypeError.\u001B[39;00m\n",
       "\u001B[1;32m   3809\u001B[0m     \u001B[38;5;28mself\u001B[39m\u001B[38;5;241m.\u001B[39m_check_indexing_error(key)\n",
       "\n",
       "\u001B[0;31mKeyError\u001B[0m: 'P_L'"
      ]
     },
     "metadata": {
      "application/vnd.databricks.v1+output": {
       "addedWidgets": {},
       "arguments": {},
       "datasetInfos": [],
       "jupyterProps": {
        "ename": "KeyError",
        "evalue": "'P_L'"
       },
       "metadata": {
        "errorSummary": "<span class='ansi-red-fg'>KeyError</span>: 'P_L'"
       },
       "removedWidgets": [],
       "sqlProps": null,
       "stackFrames": [
        "\u001B[0;31m---------------------------------------------------------------------------\u001B[0m",
        "\u001B[0;31mKeyError\u001B[0m                                  Traceback (most recent call last)",
        "File \u001B[0;32m/databricks/python/lib/python3.11/site-packages/pandas/core/indexes/base.py:3802\u001B[0m, in \u001B[0;36mIndex.get_loc\u001B[0;34m(self, key, method, tolerance)\u001B[0m\n\u001B[1;32m   3801\u001B[0m \u001B[38;5;28;01mtry\u001B[39;00m:\n\u001B[0;32m-> 3802\u001B[0m     \u001B[38;5;28;01mreturn\u001B[39;00m \u001B[38;5;28mself\u001B[39m\u001B[38;5;241m.\u001B[39m_engine\u001B[38;5;241m.\u001B[39mget_loc(casted_key)\n\u001B[1;32m   3803\u001B[0m \u001B[38;5;28;01mexcept\u001B[39;00m \u001B[38;5;167;01mKeyError\u001B[39;00m \u001B[38;5;28;01mas\u001B[39;00m err:\n",
        "File \u001B[0;32m/databricks/python/lib/python3.11/site-packages/pandas/_libs/index.pyx:138\u001B[0m, in \u001B[0;36mpandas._libs.index.IndexEngine.get_loc\u001B[0;34m()\u001B[0m\n",
        "File \u001B[0;32m/databricks/python/lib/python3.11/site-packages/pandas/_libs/index.pyx:165\u001B[0m, in \u001B[0;36mpandas._libs.index.IndexEngine.get_loc\u001B[0;34m()\u001B[0m\n",
        "File \u001B[0;32mpandas/_libs/hashtable_class_helper.pxi:5745\u001B[0m, in \u001B[0;36mpandas._libs.hashtable.PyObjectHashTable.get_item\u001B[0;34m()\u001B[0m\n",
        "File \u001B[0;32mpandas/_libs/hashtable_class_helper.pxi:5753\u001B[0m, in \u001B[0;36mpandas._libs.hashtable.PyObjectHashTable.get_item\u001B[0;34m()\u001B[0m\n",
        "\u001B[0;31mKeyError\u001B[0m: 'P_L'",
        "\nThe above exception was the direct cause of the following exception:\n",
        "\u001B[0;31mKeyError\u001B[0m                                  Traceback (most recent call last)",
        "File \u001B[0;32m<command-2630517743187964>, line 20\u001B[0m\n\u001B[1;32m     18\u001B[0m     inf_fundos[\u001B[38;5;124m'\u001B[39m\u001B[38;5;124mv_min\u001B[39m\u001B[38;5;124m'\u001B[39m] \u001B[38;5;241m=\u001B[39m v(inf_fundos[\u001B[38;5;124m'\u001B[39m\u001B[38;5;124mP_L\u001B[39m\u001B[38;5;124m'\u001B[39m],inf_fundos[\u001B[38;5;124m'\u001B[39m\u001B[38;5;124ml_min\u001B[39m\u001B[38;5;124m'\u001B[39m])\n\u001B[1;32m     19\u001B[0m     \u001B[38;5;28mprint\u001B[39m(inf_fundos)\n\u001B[0;32m---> 20\u001B[0m \u001B[38;5;28mprint\u001B[39m(r(C,teste_fundos))\n",
        "File \u001B[0;32m<command-2630517743187964>, line 18\u001B[0m, in \u001B[0;36mr\u001B[0;34m(C, inf_fundos)\u001B[0m\n\u001B[1;32m     17\u001B[0m \u001B[38;5;28;01mdef\u001B[39;00m \u001B[38;5;21mr\u001B[39m(C:\u001B[38;5;28mfloat\u001B[39m,inf_fundos: pd\u001B[38;5;241m.\u001B[39mDataFrame):\n\u001B[0;32m---> 18\u001B[0m     inf_fundos[\u001B[38;5;124m'\u001B[39m\u001B[38;5;124mv_min\u001B[39m\u001B[38;5;124m'\u001B[39m] \u001B[38;5;241m=\u001B[39m v(inf_fundos[\u001B[38;5;124m'\u001B[39m\u001B[38;5;124mP_L\u001B[39m\u001B[38;5;124m'\u001B[39m],inf_fundos[\u001B[38;5;124m'\u001B[39m\u001B[38;5;124ml_min\u001B[39m\u001B[38;5;124m'\u001B[39m])\n\u001B[1;32m     19\u001B[0m     \u001B[38;5;28mprint\u001B[39m(inf_fundos)\n",
        "File \u001B[0;32m/databricks/python/lib/python3.11/site-packages/pandas/core/frame.py:3807\u001B[0m, in \u001B[0;36mDataFrame.__getitem__\u001B[0;34m(self, key)\u001B[0m\n\u001B[1;32m   3805\u001B[0m \u001B[38;5;28;01mif\u001B[39;00m \u001B[38;5;28mself\u001B[39m\u001B[38;5;241m.\u001B[39mcolumns\u001B[38;5;241m.\u001B[39mnlevels \u001B[38;5;241m>\u001B[39m \u001B[38;5;241m1\u001B[39m:\n\u001B[1;32m   3806\u001B[0m     \u001B[38;5;28;01mreturn\u001B[39;00m \u001B[38;5;28mself\u001B[39m\u001B[38;5;241m.\u001B[39m_getitem_multilevel(key)\n\u001B[0;32m-> 3807\u001B[0m indexer \u001B[38;5;241m=\u001B[39m \u001B[38;5;28mself\u001B[39m\u001B[38;5;241m.\u001B[39mcolumns\u001B[38;5;241m.\u001B[39mget_loc(key)\n\u001B[1;32m   3808\u001B[0m \u001B[38;5;28;01mif\u001B[39;00m is_integer(indexer):\n\u001B[1;32m   3809\u001B[0m     indexer \u001B[38;5;241m=\u001B[39m [indexer]\n",
        "File \u001B[0;32m/databricks/python/lib/python3.11/site-packages/pandas/core/indexes/base.py:3804\u001B[0m, in \u001B[0;36mIndex.get_loc\u001B[0;34m(self, key, method, tolerance)\u001B[0m\n\u001B[1;32m   3802\u001B[0m     \u001B[38;5;28;01mreturn\u001B[39;00m \u001B[38;5;28mself\u001B[39m\u001B[38;5;241m.\u001B[39m_engine\u001B[38;5;241m.\u001B[39mget_loc(casted_key)\n\u001B[1;32m   3803\u001B[0m \u001B[38;5;28;01mexcept\u001B[39;00m \u001B[38;5;167;01mKeyError\u001B[39;00m \u001B[38;5;28;01mas\u001B[39;00m err:\n\u001B[0;32m-> 3804\u001B[0m     \u001B[38;5;28;01mraise\u001B[39;00m \u001B[38;5;167;01mKeyError\u001B[39;00m(key) \u001B[38;5;28;01mfrom\u001B[39;00m \u001B[38;5;21;01merr\u001B[39;00m\n\u001B[1;32m   3805\u001B[0m \u001B[38;5;28;01mexcept\u001B[39;00m \u001B[38;5;167;01mTypeError\u001B[39;00m:\n\u001B[1;32m   3806\u001B[0m     \u001B[38;5;66;03m# If we have a listlike key, _check_indexing_error will raise\u001B[39;00m\n\u001B[1;32m   3807\u001B[0m     \u001B[38;5;66;03m#  InvalidIndexError. Otherwise we fall through and re-raise\u001B[39;00m\n\u001B[1;32m   3808\u001B[0m     \u001B[38;5;66;03m#  the TypeError.\u001B[39;00m\n\u001B[1;32m   3809\u001B[0m     \u001B[38;5;28mself\u001B[39m\u001B[38;5;241m.\u001B[39m_check_indexing_error(key)\n",
        "\u001B[0;31mKeyError\u001B[0m: 'P_L'"
       ],
       "type": "baseError"
      }
     },
     "output_type": "display_data"
    }
   ],
   "source": [
    "#Testes Cálculo de Régua\n",
    "C = 35\n",
    "P_L_1 = 100\n",
    "l_max_1 = 0.2\n",
    "l_min_1 = 0.1\n",
    "P_L_2 = 50\n",
    "l_max_2 = 0.2\n",
    "l_min_2 = 0.1\n",
    "P_L_3 = 70\n",
    "l_max_3 = 0.4\n",
    "l_min_3 = 0.1\n",
    "teste_fundos = pd.DataFrame({'fundo':['F1','F2','F3'],'PL':[P_L_1,P_L_2,P_L_3],'l_min':[l_min_1,l_min_2,l_min_3],'l_max':[l_max_1,l_max_2,l_max_3]})\n",
    "def delta_l(l_max,l_min):\n",
    "    return l_max - l_min_1\n",
    "def v(P_L,l_):\n",
    "    return  P_L * l_\n",
    "def r(C:float,inf_fundos: pd.DataFrame):\n",
    "    inf_fundos['v_min'] = v(inf_fundos['P_L'],inf_fundos['l_min'])\n",
    "\n"
   ]
  },
  {
   "cell_type": "code",
   "execution_count": 0,
   "metadata": {
    "application/vnd.databricks.v1+cell": {
     "cellMetadata": {},
     "inputWidgets": {},
     "nuid": "d79069b0-71e3-4753-95ec-8c921f3ebc22",
     "showTitle": false,
     "tableResultSettingsMap": {},
     "title": ""
    }
   },
   "outputs": [],
   "source": [
    "#Exemplo de Uso de funções geradas pelo Cicero e Caue\n",
    "alocacao = [ 0.5,0.2,0.3]\n",
    "#Função para verificar books_micro\n",
    "def restricao_books_micro(alocacao,tipo_book_micro):\n",
    "    diferencas = [0,0,0]\n",
    "    #Supondo que o fundo 2 (alocacao[1]) não pode receber nada de book micro HG_XP\n",
    "    if tipo_book_micro == 'HG_XP':\n",
    "        diferencas[2] -= alocacao[2]\n",
    "    return diferencas\n",
    "\n",
    "#Utilização\n",
    "diferencas = restricao_books_micro(alocacao,'HG_XP')\n",
    "#Com esse vetor de diferença o otimizador meu e da sarah redistribuirá as alocações minimizando a função objetivo\n"
   ]
  }
 ],
 "metadata": {
  "application/vnd.databricks.v1+notebook": {
   "computePreferences": null,
   "dashboards": [],
   "environmentMetadata": null,
   "language": "python",
   "notebookMetadata": {
    "mostRecentlyExecutedCommandWithImplicitDF": {
     "commandId": 2630517743187907,
     "dataframes": [
      "_sqldf"
     ]
    },
    "pythonIndentUnit": 4
   },
   "notebookName": "Modelo_v1_JP",
   "widgets": {}
  },
  "language_info": {
   "name": "python"
  }
 },
 "nbformat": 4,
 "nbformat_minor": 0
}