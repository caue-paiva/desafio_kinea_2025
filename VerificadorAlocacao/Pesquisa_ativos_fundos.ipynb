{
 "cells": [
  {
   "cell_type": "code",
   "execution_count": 0,
   "metadata": {
    "application/vnd.databricks.v1+cell": {
     "cellMetadata": {
      "byteLimit": 2048000,
      "implicitDf": true,
      "rowLimit": 10000
     },
     "inputWidgets": {},
     "nuid": "da281f2d-1821-4e24-9add-48fa8598124c",
     "showTitle": false,
     "tableResultSettingsMap": {},
     "title": ""
    }
   },
   "outputs": [],
   "source": [
    "%sql\n",
    "\n",
    "--join da query antiga com os ativos de book_ativos para ver quantos estão coincidindo (56)\n",
    "\n",
    "with exp_anos as (SELECT DISTINCT \n",
    "  Emissor, \n",
    "  Ativo, \n",
    "  FLOOR(DATEDIFF(Vencimento,CURRENT_DATE) / 360) AS ExpiracaoAnos,\n",
    "  RatingOp,\n",
    "  RatingGrupo \n",
    "FROM desafio_kinea.boletagem_cp.agendacp\n",
    "JOIN desafio_kinea.boletagem_cp.cadastroativo ON TickerOp = Ativo --join para ter a coluna de Vencimento\n",
    "JOIN desafio_kinea.boletagem_cp.ratingopatual ON ratingopatual.TickerOp = Ativo--join para ter coluna de rating\n",
    "JOIN desafio_kinea.boletagem_cp.ratinggrupoatual ON NomeGrupo = Emissor)\n",
    "\n",
    "select DISTINCT exp_anos.Ativo from exp_anos\n",
    "  join desafio_kinea.boletagem_cp.book_ativos ON exp_anos.Ativo = desafio_kinea.boletagem_cp.book_ativos.ativo;\n",
    "\n",
    "-- select DISTINCT ativo from desafio_kinea.boletagem_cp.book_ativos\n",
    "--     where ativo not in (select DISTINCT Ativo from exp_anos);"
   ]
  },
  {
   "cell_type": "code",
   "execution_count": 0,
   "metadata": {
    "application/vnd.databricks.v1+cell": {
     "cellMetadata": {
      "byteLimit": 2048000,
      "implicitDf": true,
      "rowLimit": 10000
     },
     "inputWidgets": {},
     "nuid": "953f9708-5435-48d1-a245-d79c93109b37",
     "showTitle": false,
     "tableResultSettingsMap": {},
     "title": ""
    }
   },
   "outputs": [],
   "source": [
    "%sql\n",
    "\n",
    "--query nova, mas está dando um ativo com dois emissores diferentes, exemplo: ELET23, LCAMD2, LCAMB4\n",
    "\n",
    "SELECT DISTINCT\n",
    "  Emissor, \n",
    "  Ativo, \n",
    "  FLOOR(DATEDIFF(Vencimento,CURRENT_DATE) / 360) AS ExpiracaoAnos,\n",
    "  RatingOp,\n",
    "  RatingGrupo  from desafio_kinea.boletagem_cp.agendacp\n",
    "join desafio_kinea.boletagem_cp.cadastroativo on TickerOp = Ativo\n",
    "join desafio_kinea.boletagem_cp.grupoeconomico on grupoeconomico.IDGrupo = cadastroativo.IDEmissor\n",
    "JOIN desafio_kinea.boletagem_cp.ratingopatual ON ratingopatual.TickerOp = Ativo --join para ter coluna de rating\n",
    "JOIN desafio_kinea.boletagem_cp.ratinggrupoatual ON ratinggrupoatual.NomeGrupo = grupoeconomico.NomeGrupo;"
   ]
  },
  {
   "cell_type": "code",
   "execution_count": 0,
   "metadata": {
    "application/vnd.databricks.v1+cell": {
     "cellMetadata": {
      "byteLimit": 2048000,
      "implicitDf": true,
      "rowLimit": 10000
     },
     "inputWidgets": {},
     "nuid": "96bee145-0cb5-4d6a-911a-90c737a489eb",
     "showTitle": false,
     "tableResultSettingsMap": {},
     "title": ""
    }
   },
   "outputs": [],
   "source": [
    "%sql\n",
    "--join da query nova com os ativos de book_ativos para ver quantos estão coincidindo (196)\n",
    "\n",
    "-- select * from desafio_kinea.boletagem_cp.cadastroativo\n",
    "--   where IDGrupo = '374';\n",
    "\n",
    "select DISTINCT count(Ativo) from desafio_kinea.boletagem_cp.agendacp;\n",
    "\n",
    "-- \"VIBR14\" \"CEMR13\""
   ]
  }
 ],
 "metadata": {
  "application/vnd.databricks.v1+notebook": {
   "computePreferences": null,
   "dashboards": [],
   "environmentMetadata": {
    "base_environment": "",
    "client": "1"
   },
   "language": "python",
   "notebookMetadata": {
    "mostRecentlyExecutedCommandWithImplicitDF": {
     "commandId": 6501617624891072,
     "dataframes": [
      "_sqldf"
     ]
    },
    "pythonIndentUnit": 4
   },
   "notebookName": "Pesquisa_ativos_fundos",
   "widgets": {}
  },
  "language_info": {
   "name": "python"
  }
 },
 "nbformat": 4,
 "nbformat_minor": 0
}
