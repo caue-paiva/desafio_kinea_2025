{
 "cells": [
  {
   "cell_type": "markdown",
   "metadata": {
    "application/vnd.databricks.v1+cell": {
     "cellMetadata": {},
     "inputWidgets": {},
     "nuid": "b651057e-6239-4a6b-800a-3f92a0ba829f",
     "showTitle": false,
     "tableResultSettingsMap": {},
     "title": ""
    }
   },
   "source": [
    "## [Link para documento overleaf](https://www.overleaf.com/project/677fe7fd4bf7cc5092992e57) "
   ]
  },
  {
   "cell_type": "code",
   "execution_count": 0,
   "metadata": {
    "application/vnd.databricks.v1+cell": {
     "cellMetadata": {},
     "inputWidgets": {},
     "nuid": "a81c5195-082c-4163-8808-e67bc2c0ba5f",
     "showTitle": false,
     "tableResultSettingsMap": {},
     "title": ""
    }
   },
   "outputs": [],
   "source": [
    "from typing import Callable, List, Dict\n",
    "import pandas as pd\n",
    "\n",
    "def solucao(checagens: List[Callable],ordem: pd.DataFrame) -> pd.DataFrame:\n",
    "    '''\n",
    "    Função principal que recebe como input:\n",
    "    1. checagens: Lista de funções geradas pelo ChatGPT\n",
    "    2. ordem: DataFrame ['Ticker','Amount','Price'] representando uma ordem a ser boletada\n",
    "    e retorna:\n",
    "    1. ordem_final: DatFrame ['Ticker','Amount','Price','Fundo'] representando quanto irá para cada fundo\n",
    "    '''\n",
    "    alocacoes = pd.DataFrame(columns=['Ativo', 'Código do Fundo', 'Alocação'])\n",
    "    #Cálculo da Regua\n",
    "    # Iterar sobre todas as ordens utilizando alocacao homogenea\n",
    "    # Em cada ordem iterar sobre as checagens\n",
    "    # Checagens retornam em quanto está sendo ultrapassada aquela restrição\n",
    "    # Funcao matematica para corrigir alocacao\n",
    "\n",
    "def checagem_exemplo_alocao(x,alocacao_minima,alocacao_maxima):\n",
    "    if x > alocacao_minima and x < 200:\n",
    "        return  0\n",
    "    elif x > 200:\n",
    "        return x - 200\n",
    "    elif x < 100:\n",
    "        return \n",
    "    \n"
   ]
  },
  {
   "cell_type": "code",
   "execution_count": 0,
   "metadata": {
    "application/vnd.databricks.v1+cell": {
     "cellMetadata": {},
     "inputWidgets": {},
     "nuid": "d79069b0-71e3-4753-95ec-8c921f3ebc22",
     "showTitle": false,
     "tableResultSettingsMap": {},
     "title": ""
    }
   },
   "outputs": [],
   "source": [
    "#Exemplo de Uso de funções geradas pelo Cicero e Caue\n",
    "alocacao = [ 0.5,0.2,0.3]\n",
    "#Função para verificar books_micro\n",
    "def restricao_books_micro(alocacao,tipo_book_micro):\n",
    "    diferencas = [0,0,0]\n",
    "    #Supondo que o fundo 2 (alocacao[1]) não pode receber nada de book micro HG_XP\n",
    "    if tipo_book_micro == 'HG_XP':\n",
    "        diferencas[2] -= alocacao[2]\n",
    "    return diferencas\n",
    "\n",
    "#Utilização\n",
    "diferencas = restricao_books_micro(alocacao,'HG_XP')\n",
    "#Com esse vetor de diferença o otimizador meu e da sarah redistribuirá as alocações minimizando a função objetivo\n"
   ]
  }
 ],
 "metadata": {
  "application/vnd.databricks.v1+notebook": {
   "computePreferences": null,
   "dashboards": [],
   "environmentMetadata": null,
   "language": "python",
   "notebookMetadata": {
    "pythonIndentUnit": 4
   },
   "notebookName": "Modelo_v1_JP",
   "widgets": {}
  },
  "language_info": {
   "name": "python"
  }
 },
 "nbformat": 4,
 "nbformat_minor": 0
}