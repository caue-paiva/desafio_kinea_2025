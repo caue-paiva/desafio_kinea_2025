{
 "cells": [
  {
   "cell_type": "code",
   "execution_count": 0,
   "metadata": {
    "application/vnd.databricks.v1+cell": {
     "cellMetadata": {
      "byteLimit": 2048000,
      "rowLimit": 10000
     },
     "inputWidgets": {},
     "nuid": "162b779a-62f3-42a1-9709-3e710377686a",
     "showTitle": false,
     "tableResultSettingsMap": {},
     "title": ""
    }
   },
   "outputs": [],
   "source": [
    "%sh\n",
    "\n",
    "\n",
    "awk"
   ]
  },
  {
   "cell_type": "code",
   "execution_count": 0,
   "metadata": {
    "application/vnd.databricks.v1+cell": {
     "cellMetadata": {
      "byteLimit": 2048000,
      "rowLimit": 10000
     },
     "inputWidgets": {},
     "nuid": "3aa77c51-5d48-4aa4-a62e-8f96c8eb6d68",
     "showTitle": false,
     "tableResultSettingsMap": {},
     "title": ""
    }
   },
   "outputs": [],
   "source": [
    "%python\n",
    "from pyspark.sql import Row\n",
    "\n",
    "initial_input = \"\"\"\n",
    "Visualização da memória de cálculo\n",
    "\n",
    "MEMÓRIA DE CÁLCULO (PROCESSAMENTO)\n",
    "\n",
    "TÍTULO                   NOME                   POSIÇÃO         %PL     GRUPO                                EMISSOR\n",
    "---------------------------------------------------------------------------------------------------------------\n",
    "CRI_19K0059589           CRI_19K0059589         4.442.546,23    0,12    10429 - Títulos Privados-Cert.Receb. Imobiliários (CRI)      ASTE - BARI SECURITIZADORA S.A\n",
    "CRI_19K0059589           CRI_19K0059589         44.499,63       0,00    10429 - Títulos Privados-Cert.Receb. Imobiliários (CRI)      ASTE - BARI SECURITIZADORA S.A\n",
    "DEBN AEGPA7_092026       DEBN AEGPA7            1445412         7.434,03  0,00    10403 - Títulos Privados-Debêntures simples        AEGP - AEGEA SANEAMENTO PARTICIPAC\n",
    "DEBN ENGIB1_092029       DEBN ENGIB1            1979541         2.089.971,16 0,06  10403 - Títulos Privados-Debêntures simples        ENGI - ENERGISA SA\n",
    "DEBN ENGIBG_062028       DEBN ENGIBG            1263178         8.248.768,76 0,23  10403 - Títulos Privados-Debêntures simples        ENGI - ENERGISA SA\n",
    "DEBN ENGIC6_042027       DEBN ENGIC6            749258          29.526,56   0,00    10403 - Títulos Privados-Debêntures simples        ENGI - ENERGISA SA\n",
    "\"\"\"\n",
    "\n",
    "dados_tabela = {\n",
    "    \"TITULO\": [],\n",
    "    \"NOME\": [],\n",
    "    \"POSIÇÃO\": [],\n",
    "    \"%PL\": [],\n",
    "    \"GRUPO\": [],\n",
    "    \"EMISSOR\": []\n",
    "}\n",
    "\n",
    "linhas = initial_input.strip().split('\\n')[6:] #pula as linhas antes dos conteúdos\n",
    "\n",
    "MAX_ESPACOS_SEGUIDOS = 4 #se temos 3 espaços seguidos, então é uma divisão entre colunas\n",
    "\n",
    "\n",
    "for linha in linhas:\n",
    "    espacos_anteriores = 0\n",
    "    espaco_entre_colunas = False\n",
    "    valores_coluna = []\n",
    "    valor_campo = \"\"\n",
    "    \n",
    "    for char in linha:\n",
    "        if char.isspace():\n",
    "            espacos_anteriores += 1\n",
    "            if espacos_anteriores == MAX_ESPACOS_SEGUIDOS:\n",
    "                espaco_entre_colunas = True\n",
    "        elif espaco_entre_colunas: #chegamos ao primeiro char depois de um espaço\n",
    "            valores_coluna.append(valor_campo)\n",
    "            valor_campo = char\n",
    "            espacos_anteriores = 0\n",
    "            espaco_entre_colunas = False\n",
    "        else: #char normal sem se espaço e sem ter espaço antes\n",
    "            valor_campo += char\n",
    "\n",
    "    valores_coluna.append(valor_campo.strip())  # Append the last value after the loop ends\n",
    "    dados_tabela[\"TITULO\"].append(valores_coluna[0])\n",
    "    dados_tabela[\"NOME\"].append(valores_coluna[1])\n",
    "    dados_tabela[\"POSIÇÃO\"].append(valores_coluna[2])\n",
    "    dados_tabela[\"%PL\"].append(valores_coluna[3])\n",
    "    dados_tabela[\"GRUPO\"].append(valores_coluna[4])\n",
    "    dados_tabela[\"EMISSOR\"].append(valores_coluna[5])\n",
    "\n",
    "\n",
    "for key in dados_tabela:\n",
    "    print(\"\\n\\n\")\n",
    "    print(dados_tabela[key])\n",
    "\n",
    "#print(dados_tabela)\n",
    "    "
   ]
  },
  {
   "cell_type": "code",
   "execution_count": 0,
   "metadata": {
    "application/vnd.databricks.v1+cell": {
     "cellMetadata": {
      "byteLimit": 2048000,
      "implicitDf": true,
      "rowLimit": 10000
     },
     "inputWidgets": {},
     "nuid": "dfa00d6d-6d2d-4fd6-9cc2-0d9b6461a915",
     "showTitle": false,
     "tableResultSettingsMap": {},
     "title": ""
    }
   },
   "outputs": [],
   "source": [
    "%sql\n",
    "SELECT MemoriaCalculo FROM desafio_kinea.boletagem_cp.nxenq_memoriacalculo\n",
    "LIMIT 10"
   ]
  },
  {
   "cell_type": "code",
   "execution_count": 0,
   "metadata": {
    "application/vnd.databricks.v1+cell": {
     "cellMetadata": {
      "byteLimit": 2048000,
      "rowLimit": 10000
     },
     "inputWidgets": {},
     "nuid": "f3f2010e-72fe-476d-9fa8-474ff01e778b",
     "showTitle": false,
     "tableResultSettingsMap": {},
     "title": ""
    }
   },
   "outputs": [],
   "source": [
    "df = _sqldf.toPandas()\n",
    "\n",
    "texts = list(df[\"MemoriaCalculo\"])"
   ]
  },
  {
   "cell_type": "code",
   "execution_count": 0,
   "metadata": {
    "application/vnd.databricks.v1+cell": {
     "cellMetadata": {
      "byteLimit": 2048000,
      "rowLimit": 10000
     },
     "inputWidgets": {},
     "nuid": "32d7ec6d-ec12-4c84-a89e-578f7b80cff8",
     "showTitle": false,
     "tableResultSettingsMap": {},
     "title": ""
    }
   },
   "outputs": [],
   "source": [
    "\n",
    "def chega_final_texto(texto_memoria:str)->str:\n",
    "    index1 = texto_memoria.find(\"MEMÓRIA DE CÁLCULO (PROCESSAMENTO)\") #index do final da string, perto das colunas\n",
    "    index_coluna = texto_memoria.find(\"TÍTULO\",index1) #index da primeira coluna (TITULO)\n",
    "    texto_final = texto_memoria[index_coluna:]\n",
    "\n",
    "    linhas = texto_final.splitlines()\n",
    "    apenas_linhas_dados = \"\\n\".join(linhas[2:]) #pula linha de coluna e linhas tracejadas\n",
    "    #print(apenas_linhas_dados)\n",
    "\n",
    "    return apenas_linhas_dados\n",
    "\n",
    "\n",
    "textos_processados = list(map(chega_final_texto,texts))\n",
    "\n",
    "print(textos_processados[3])\n",
    "\n",
    "\n",
    "prim_linha = textos_processados[3].splitlines()[0]\n",
    "#print(len(prim_linha))\n",
    "#print(prim_linha)\n",
    "\n",
    "def printa_indice_comeco_coluna()->None:\n",
    "    is_word = False\n",
    "    for i,char in enumerate(prim_linha):\n",
    "        if is_word and not char.isspace():\n",
    "            print(i)\n",
    "            is_word = False\n",
    "        if char.isspace():\n",
    "            is_word = True"
   ]
  },
  {
   "cell_type": "code",
   "execution_count": 0,
   "metadata": {
    "application/vnd.databricks.v1+cell": {
     "cellMetadata": {
      "byteLimit": 2048000,
      "rowLimit": 10000
     },
     "inputWidgets": {},
     "nuid": "28219c04-ddb6-4aac-9774-86629ef2360f",
     "showTitle": false,
     "tableResultSettingsMap": {},
     "title": ""
    }
   },
   "outputs": [],
   "source": [
    "from io import StringIO\n",
    "import pandas as pd\n",
    "\n",
    "colspecs = [\n",
    "    (0, 20),   # TÍTULO\n",
    "    (21, 51),  # NOME\n",
    "    (52, 72),  # POSIÇÃO\n",
    "    (73, 83),  # %PL\n",
    "    (84, 144), # GRUPO\n",
    "    (144, None) # EMISSOR \n",
    "]\n",
    "\n",
    "df = pd.read_fwf(\n",
    "    StringIO(textos_processados[4]),\n",
    "    colspecs=colspecs,\n",
    "    skiprows=0, \n",
    "    header=0\n",
    ")\n",
    "\n",
    "df.columns = [\"TÍTULO\",\"NOME\",\"POSIÇÃO\",\"%PL\",\"GRUPO\",\"EMISSOR\"]\n",
    "\n",
    "df = df.apply(lambda col: col.str.strip())\n",
    "\n",
    "\n",
    "#limpa whitespace\n",
    "df = df.apply(lambda col: col.str.strip())\n",
    "\n",
    "def para_float_br(x):\n",
    "    return float(x.replace('.', '').replace(',', '.'))\n",
    "\n",
    "df[\"POSIÇÃO\"] = df[\"POSIÇÃO\"].apply(para_float_br)\n",
    "df[\"%PL\"] = df[\"%PL\"].apply(para_float_br)\n",
    "\n",
    "display(df)"
   ]
  }
 ],
 "metadata": {
  "application/vnd.databricks.v1+notebook": {
   "computePreferences": null,
   "dashboards": [],
   "environmentMetadata": {
    "base_environment": "",
    "client": "2"
   },
   "language": "python",
   "notebookMetadata": {
    "mostRecentlyExecutedCommandWithImplicitDF": {
     "commandId": 7024431554350366,
     "dataframes": [
      "_sqldf"
     ]
    },
    "pythonIndentUnit": 4
   },
   "notebookName": "ParsingMemoriaCalculo",
   "widgets": {}
  },
  "language_info": {
   "name": "python"
  }
 },
 "nbformat": 4,
 "nbformat_minor": 0
}
