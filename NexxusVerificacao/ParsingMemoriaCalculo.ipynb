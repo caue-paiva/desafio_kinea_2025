{
 "cells": [
  {
   "cell_type": "code",
   "execution_count": 0,
   "metadata": {
    "application/vnd.databricks.v1+cell": {
     "cellMetadata": {
      "byteLimit": 2048000,
      "implicitDf": true,
      "rowLimit": 10000
     },
     "inputWidgets": {},
     "nuid": "fbdbc8e9-9885-4b24-bd46-ff391c282e3e",
     "showTitle": false,
     "tableResultSettingsMap": {},
     "title": ""
    }
   },
   "outputs": [],
   "source": [
    "%sql\n",
    "SELECT MemoriaCalculo FROM desafio_kinea.boletagem_cp.nxenq_memoriacalculo\n",
    "LIMIT 10"
   ]
  },
  {
   "cell_type": "code",
   "execution_count": 0,
   "metadata": {
    "application/vnd.databricks.v1+cell": {
     "cellMetadata": {
      "byteLimit": 2048000,
      "rowLimit": 10000
     },
     "inputWidgets": {},
     "nuid": "dcef8ce9-76f6-4a8a-9ca1-9bab4c69be80",
     "showTitle": false,
     "tableResultSettingsMap": {},
     "title": ""
    }
   },
   "outputs": [],
   "source": [
    "df = _sqldf.toPandas()\n",
    "\n",
    "texts = list(df[\"MemoriaCalculo\"])\n",
    "print(texts[0])"
   ]
  },
  {
   "cell_type": "code",
   "execution_count": 0,
   "metadata": {
    "application/vnd.databricks.v1+cell": {
     "cellMetadata": {
      "byteLimit": 2048000,
      "rowLimit": 10000
     },
     "inputWidgets": {},
     "nuid": "3ee81940-a968-49d3-965f-93af3a23a6c2",
     "showTitle": false,
     "tableResultSettingsMap": {},
     "title": ""
    }
   },
   "outputs": [],
   "source": [
    "def chega_final_texto(texto_memoria:str)->str:\n",
    "    index1 = texto_memoria.find(\"MEMÓRIA DE CÁLCULO (PROCESSAMENTO)\") #index do final da string, perto das colunas\n",
    "    index_coluna = texto_memoria.find(\"TÍTULO\",index1) #index da primeira coluna (TITULO)\n",
    "    texto_final = texto_memoria[index_coluna:]\n",
    "\n",
    "    linhas = texto_final.splitlines()\n",
    "    apenas_linhas_dados = \"\\n\".join(linhas[2:]) #pula linha de coluna e linhas tracejadas\n",
    "    #print(apenas_linhas_dados)\n",
    "\n",
    "    return apenas_linhas_dados\n",
    "\n",
    "\n",
    "textos_processados = list(map(chega_final_texto,texts))\n",
    "\n",
    "print(textos_processados[1])\n",
    "\n",
    "\n",
    "prim_linha = textos_processados[3].splitlines()[0]\n",
    "#print(len(prim_linha))\n",
    "#print(prim_linha)\n",
    "\n",
    "def printa_indice_comeco_coluna()->None:\n",
    "    \"\"\"\n",
    "    Função para achar os índices de começo de cada coluna, utilizado para a variável colspecs do dataframe\n",
    "    \"\"\"\n",
    "    is_word = False\n",
    "    for i,char in enumerate(prim_linha):\n",
    "        if is_word and not char.isspace():\n",
    "            print(i)\n",
    "            is_word = False\n",
    "        if char.isspace():\n",
    "            is_word = True\n",
    "     "
   ]
  },
  {
   "cell_type": "code",
   "execution_count": 0,
   "metadata": {
    "application/vnd.databricks.v1+cell": {
     "cellMetadata": {
      "byteLimit": 2048000,
      "rowLimit": 10000
     },
     "inputWidgets": {},
     "nuid": "28219c04-ddb6-4aac-9774-86629ef2360f",
     "showTitle": false,
     "tableResultSettingsMap": {},
     "title": ""
    }
   },
   "outputs": [],
   "source": [
    "from io import StringIO\n",
    "import pandas as pd\n",
    "\n",
    "colspecs = [\n",
    "    (0, 20),   # TÍTULO\n",
    "    (21, 51),  # NOME\n",
    "    (52, 72),  # POSIÇÃO\n",
    "    (73, 83),  # %PL\n",
    "    (84, 144), # GRUPO\n",
    "    (144, None) # EMISSOR \n",
    "]\n",
    "\n",
    "# Check if textos_processados[0] is not empty\n",
    "if textos_processados[0].strip():\n",
    "    print(textos_processados[0])\n",
    "\n",
    "    # Check if the input is a single line\n",
    "    if len(textos_processados[0].splitlines()) == 1:\n",
    "        data = [textos_processados[0][start:end].strip() for start, end in colspecs]\n",
    "        df = pd.DataFrame([data], columns=[\"TÍTULO\", \"NOME\", \"POSIÇÃO\", \"%PL\", \"GRUPO\", \"EMISSOR\"])\n",
    "    else:\n",
    "        df = pd.read_fwf(\n",
    "            StringIO(textos_processados[0]),\n",
    "            colspecs=colspecs,\n",
    "        )\n",
    "        df.columns = [\"TÍTULO\", \"NOME\", \"POSIÇÃO\", \"%PL\", \"GRUPO\", \"EMISSOR\"]\n",
    "\n",
    "    display(df)\n",
    "\n",
    "    df = df.apply(lambda col: col.str.strip())\n",
    "\n",
    "    def para_float_br(x):\n",
    "        return float(x.replace('.', '').replace(',', '.'))\n",
    "\n",
    "    df[\"POSIÇÃO\"] = df[\"POSIÇÃO\"].apply(para_float_br)\n",
    "    df[\"%PL\"] = df[\"%PL\"].apply(para_float_br)\n",
    "\n",
    "    display(df)\n",
    "else:\n",
    "    print(\"The dataset is empty.\")"
   ]
  },
  {
   "cell_type": "code",
   "execution_count": 0,
   "metadata": {
    "application/vnd.databricks.v1+cell": {
     "cellMetadata": {
      "byteLimit": 2048000,
      "rowLimit": 10000
     },
     "inputWidgets": {},
     "nuid": "d1650c71-348d-41d6-98d9-4966eb05e9cd",
     "showTitle": false,
     "tableResultSettingsMap": {},
     "title": ""
    }
   },
   "outputs": [],
   "source": [
    "def texto_memoria_para_df(texto:str)->pd.DataFrame:\n",
    "    final_texto = chega_final_texto(texto) #chega no final da string, onde tem as colunas de dados da memória\n",
    "    colspecs = [\n",
    "        (0, 20),   # TÍTULO\n",
    "        (21, 51),  # NOME\n",
    "        (52, 72),  # POSIÇÃO\n",
    "        (73, 83),  # %PL\n",
    "        (84, 144), # GRUPO\n",
    "        (144, None) # EMISSOR \n",
    "    ]\n",
    "\n",
    "    # Check if final_texto is not empty\n",
    "    if final_texto.strip():\n",
    "        # Check if the input is a single line\n",
    "        if len(final_texto.splitlines()) == 1:\n",
    "            data = [final_texto[start:end].strip() for start, end in colspecs]\n",
    "            df = pd.DataFrame([data], columns=[\"TÍTULO\", \"NOME\", \"POSIÇÃO\", \"%PL\", \"GRUPO\", \"EMISSOR\"])\n",
    "        else:\n",
    "            df = pd.read_fwf(\n",
    "                StringIO(final_texto),\n",
    "                colspecs=colspecs,\n",
    "            )\n",
    "            df.columns = [\"TÍTULO\", \"NOME\", \"POSIÇÃO\", \"%PL\", \"GRUPO\", \"EMISSOR\"]\n",
    "        df = df.apply(lambda col: col.str.strip())\n",
    "\n",
    "        def para_float_br(x):\n",
    "            return float(x.replace('.', '').replace(',', '.'))\n",
    "\n",
    "        df[\"POSIÇÃO\"] = df[\"POSIÇÃO\"].apply(para_float_br)\n",
    "        df[\"%PL\"] = df[\"%PL\"].apply(para_float_br)\n",
    "\n",
    "        #display(df)\n",
    "    else:\n",
    "        print(\"The dataset is empty.\")\n",
    "\n",
    "df = texto_memoria_para_df(texts[0])"
   ]
  }
 ],
 "metadata": {
  "application/vnd.databricks.v1+notebook": {
   "computePreferences": null,
   "dashboards": [],
   "environmentMetadata": {
    "base_environment": "",
    "environment_version": "2"
   },
   "language": "python",
   "notebookMetadata": {
    "mostRecentlyExecutedCommandWithImplicitDF": {
     "commandId": 5969094066478630,
     "dataframes": [
      "_sqldf"
     ]
    },
    "pythonIndentUnit": 4
   },
   "notebookName": "ParsingMemoriaCalculo",
   "widgets": {}
  },
  "language_info": {
   "name": "python"
  }
 },
 "nbformat": 4,
 "nbformat_minor": 0
}
