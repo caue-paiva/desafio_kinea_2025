{
 "cells": [
  {
   "cell_type": "code",
   "execution_count": 0,
   "metadata": {
    "application/vnd.databricks.v1+cell": {
     "cellMetadata": {
      "byteLimit": 2048000,
      "rowLimit": 10000
     },
     "inputWidgets": {},
     "nuid": "dae12b2e-65cb-43a5-aa90-206b94807f2e",
     "showTitle": true,
     "tableResultSettingsMap": {},
     "title": "Instalando OpenAI"
    }
   },
   "outputs": [],
   "source": [
    "!pip install openai==0.28"
   ]
  },
  {
   "cell_type": "code",
   "execution_count": 0,
   "metadata": {
    "application/vnd.databricks.v1+cell": {
     "cellMetadata": {
      "byteLimit": 2048000,
      "rowLimit": 10000
     },
     "inputWidgets": {},
     "nuid": "00076c6a-644e-4489-8057-71f657456e38",
     "showTitle": true,
     "tableResultSettingsMap": {},
     "title": "Reiniciando Ambiente"
    }
   },
   "outputs": [],
   "source": [
    "dbutils.library.restartPython()"
   ]
  },
  {
   "cell_type": "code",
   "execution_count": 0,
   "metadata": {
    "application/vnd.databricks.v1+cell": {
     "cellMetadata": {
      "byteLimit": 2048000,
      "rowLimit": 10000
     },
     "inputWidgets": {},
     "nuid": "5919fa24-636a-4791-bdcd-afb936ea2b45",
     "showTitle": true,
     "tableResultSettingsMap": {},
     "title": "Importações"
    }
   },
   "outputs": [],
   "source": [
    "#import openai\n",
    "from pathlib import Path\n",
    "import os\n",
    "import pandas as pd\n",
    "from ParsingMemoriaCalculo import tabela_texto_memoria_para_df\n",
    "'''openai.api_type = \"azure\"\n",
    "openai.api_base = \"https://oai-dk.openai.azure.com/\"\n",
    "openai.api_version = \"2023-12-01-preview\"\n",
    "openai.api_key = dbutils.secrets.get('akvdesafiokinea','azure-oai-dk')'''"
   ]
  },
  {
   "cell_type": "code",
   "execution_count": 0,
   "metadata": {
    "application/vnd.databricks.v1+cell": {
     "cellMetadata": {
      "byteLimit": 2048000,
      "rowLimit": 10000
     },
     "inputWidgets": {},
     "nuid": "2dfd3915-fa18-4e0f-a713-b04ec12d93ef",
     "showTitle": true,
     "tableResultSettingsMap": {},
     "title": "Função para Gerar Restrição"
    },
    "jupyter": {
     "outputs_hidden": true,
     "source_hidden": true
    }
   },
   "outputs": [],
   "source": [
    "#Função para Gerar Restrição\n",
    "#Incluir contexto de regra do tipo vedação (ex: 1181) no contexto do GPT\n",
    "def gerar_restricao(descricao,ativos,saldo_base,exposicao,l_max,l_min):   \n",
    "    contexto_gpt = '''\n",
    "        Você irá receber a descrição de uma regra, um conjunto posições de ativos que são considerados para o cálculo dessa regra, um saldo base, limite minimo e máximo em relação a esse saldo base e a porcentagem que não por essa restrição. Lembre-se de considerar se a porcentagem está acima do limite_maximo ou abaixo do limite minimo para tomar a decisão de como escrever o código\n",
    "        A partir disso você deve gerar um código de restrição no formato utilizado pelo scipy.minimize.\n",
    "        \n",
    "        Exemplo 1:\n",
    "            Descrição: Art. 45. Cumulativamente aos limites de concentração por emissor, a classe de cotas deve observar os seguintes limites de concentração por modalidade de ativo financeiro, sem prejuízo das normas aplicáveis ao seu tipo: I - ate 20% (vinte por cento) de ativos de renda fixa;\n",
    "            Posição Ativos: [0,1,4,5,6]\n",
    "            Saldo Base: 500000\n",
    "            Limite Mínimo: 0\n",
    "            Limite Máximo: 0.2\n",
    "            Porcentagem:0.25\n",
    "            def restricao(x):\n",
    "                ativos_considerados = [x[0],x[1],x[4],x[5],x[6]...]\n",
    "                return  0.2 * 500000 -  sum(ativos_considerados)\n",
    "        Exemplo 2: \n",
    "            Descrição: Regulamento - POLÍTICA DE INVESTIMENTO - O objetivo do FUNDO é aplicar, no mínimo, 80% (oitenta por cento) de seus recursos em ativos financeiros de renda fixa relacionados diretamente, ou sintetizados via derivativos, ao fator de risco que dá nome à classe, observado que a rentabilidade do FUNDO será impactada pelos custos e despesas do FUNDO, inclusive taxa de administração.\n",
    "            Posição Ativos: [0,1,4,5,6]\n",
    "            Saldo Base: 500000\n",
    "            Limite Mínimo: 0.8\n",
    "            Limite Máximo: 1\n",
    "            Porcentagem: 0.68\n",
    "            def restricao(x):\n",
    "                ativos_considerados = [x[0],x[1],x[4],x[5],x[6]...]\n",
    "                return sum(ativos_considerados) - 0.8 * 500000    \n",
    "        Exemplo 3:\n",
    "        Descrição: Vedação\n",
    "        Posição Ativos: [0,1,4,5,6]\n",
    "        Saldo Base: 500000\n",
    "        Limite Mínimo: null\n",
    "        Limite Máximo: null\n",
    "        Porcentagem: null\n",
    "        def restricao(x):\n",
    "            ativos_considerados = [x[0],x[1],x[4],x[5],x[6]...]\n",
    "            return -sum(ativos_considerados)\n",
    "    '''\n",
    "    message_text = [\n",
    "                {\"role\":\"system\",\"content\":contexto_gpt},\n",
    "                {\"role\":\"user\",\"content\":f\"Descrição: {descricao}\\n Posições Ativos: {ativos} \\n Saldo Base: {saldo_base} \\n Limite Mínimo {l_min}  \\n Limite Máximo: {l_max} \\n Porcentagem: {exposicao}\"}\n",
    "               ]\n",
    "    \n",
    "    completion = openai.ChatCompletion.create(\n",
    "        engine=\"gpt35turbo16k\",\n",
    "        messages = message_text,\n",
    "        temperature=0.0,\n",
    "        max_tokens=1200,\n",
    "        top_p=0.95,\n",
    "        frequency_penalty=0.0,\n",
    "        presence_penalty=0.0,\n",
    "        stop=None,\n",
    "        )\n",
    "\n",
    "    return completion.to_dict()['choices'][0]['message']['content']"
   ]
  },
  {
   "cell_type": "code",
   "execution_count": 0,
   "metadata": {
    "application/vnd.databricks.v1+cell": {
     "cellMetadata": {
      "byteLimit": 2048000,
      "implicitDf": true,
      "rowLimit": 10000
     },
     "inputWidgets": {},
     "nuid": "b5b75c83-bdac-4775-bfcb-8c94179b1e35",
     "showTitle": false,
     "tableResultSettingsMap": {},
     "title": ""
    }
   },
   "outputs": [],
   "source": [
    "%sql\n",
    "WITH UltimoHistorico AS (\n",
    "            SELECT '2025-02-10T11:12:37.000+00:00' AS UltimaData\n",
    "            FROM desafio_kinea.boletagem_cp.nxenq_resultadoenquadramentohist\n",
    "            WHERE status = 1\n",
    "        )\n",
    "\n",
    "        SELECT \n",
    "            nxe.IdFundo as IdFundo,\n",
    "            nxe.IdRegra AS IdRegra_resultado_enquadramento,  \n",
    "            nxe.DataHoraVersao as DataHoraVersao,\n",
    "            nxe.SaldoBaseCalculo as SaldoBaseCalculo,\n",
    "            nxe.ValorExposicao as ValorExposicao,\n",
    "            nxe.SaldoObjeto as SaldoObjeto,\n",
    "            nxe.LimiteMin as LimiteMin,\n",
    "            nxe.LimiteMax as LimiteMax,\n",
    "            nxr.ValorMin as ValorMin_nexusregras,\n",
    "            nxr.ValorMax as ValorMax_nexusregras,\n",
    "            nxr.Descricao as Descricao_nexusregras,\n",
    "            nxr.DescricaoDetalhada as DescricaoDetalhada_nexusregras,\n",
    "            nxrc.LimiteMin as LimiteMin_concentracao,\n",
    "            nxrc.LimiteMax as LimiteMax_concentracao,\n",
    "            nxrc.Descricao as Descricao_concentracao,\n",
    "            nxrc.DescricaoDetalhada as DescricaoDetalhada_concentracao,\n",
    "            nxmc.MemoriaCalculo as MemoriaCalculo\n",
    "        FROM desafio_kinea.boletagem_cp.nxenq_resultadoenquadramentohist nxe \n",
    "        INNER JOIN UltimoHistorico uh \n",
    "            ON nxe.DataHoraVersao = uh.UltimaData -- join para filtrar apenas para o último timestamp de simulação (nxe.DataHoraVersao)\n",
    "        LEFT JOIN desafio_kinea.boletagem_cp.nxenq_regras nxr \n",
    "            ON nxr.IdRegra = CAST(regexp_replace(nxe.IdRegra, '[^0-9]', '') AS INT) -- join para a tabela de regras do tipo L%\n",
    "            AND nxe.IdRegra LIKE 'L%'  \n",
    "        LEFT JOIN desafio_kinea.boletagem_cp.nxenq_regrasporconcentracao nxrc\n",
    "            ON nxrc.IdRegra = CAST(regexp_replace(nxe.IdRegra, '[^0-9]', '') AS INT)\n",
    "            AND (nxe.IdRegra LIKE 'CM%' OR nxe.IdRegra LIKE 'CD%') -- join para a tabela de regras de concentração (CM%/CD%)\n",
    "        LEFT JOIN desafio_kinea.boletagem_cp.nxenq_memoriacalculo nxmc --join com tabela de memoria de cálculo\n",
    "            ON nxmc.DataHoraVersao = uh.UltimaData --join pela DataHoraVersao(última simulação), pelo Id do fundo e Id da regra\n",
    "            AND nxe.IdRegra = nxmc.IdRegra\n",
    "            AND nxe.IdFundo = nxmc.IdFundo\n",
    "        where nxe.status = 1 and nxe.IdFundo = 'CP4';"
   ]
  },
  {
   "cell_type": "code",
   "execution_count": 0,
   "metadata": {
    "application/vnd.databricks.v1+cell": {
     "cellMetadata": {
      "byteLimit": 2048000,
      "rowLimit": 10000
     },
     "inputWidgets": {},
     "nuid": "0b48f5c2-0628-4c20-aed7-2a3473ab6e24",
     "showTitle": false,
     "tableResultSettingsMap": {},
     "title": ""
    }
   },
   "outputs": [],
   "source": [
    "import pandas as pd\n",
    "#df = pd.read_csv('/Volumes/desafio_kinea/boletagem_cp/files/InputNexxus/input_nexxus_teste_joao.csv',sep='\\t')\n",
    "with open(file='/Volumes/desafio_kinea/boletagem_cp/files/InputNexxus/input_nexxus_teste_joao.csv',mode='r') as file:\n",
    "    print(file.read())\n",
    "    "
   ]
  },
  {
   "cell_type": "code",
   "execution_count": 0,
   "metadata": {
    "application/vnd.databricks.v1+cell": {
     "cellMetadata": {
      "byteLimit": 2048000,
      "implicitDf": true,
      "rowLimit": 10000
     },
     "inputWidgets": {},
     "nuid": "c2510683-86c3-4a92-a946-695340a8333b",
     "showTitle": false,
     "tableResultSettingsMap": {},
     "title": ""
    }
   },
   "outputs": [],
   "source": [
    "%sql\n",
    "select * from desafio_kinea.boletagem_cp.nxenq_resultadoenquadramentohist where DataHoraVersao='2025-02-10T11:12:37.000+00:00' and IdRegra = 'L1206'"
   ]
  },
  {
   "cell_type": "code",
   "execution_count": 0,
   "metadata": {
    "application/vnd.databricks.v1+cell": {
     "cellMetadata": {
      "byteLimit": 2048000,
      "implicitDf": true,
      "rowLimit": 10000
     },
     "inputWidgets": {},
     "nuid": "fa963d98-8e88-4292-a126-12a527231078",
     "showTitle": false,
     "tableResultSettingsMap": {},
     "title": ""
    }
   },
   "outputs": [],
   "source": [
    "711.723.122,4708\n",
    "m = spark.sql(\"select * from desafio_kinea.boletagem_cp.nxenq_memoriacalculo where  DataHoraVersao='2025-02-10T11:12:37.000+00:00' and IdFundo = 'CP4' and IdRegra = 'L1206'\").toPandas()['MemoriaCalculo'][0]\n",
    "df = tabela_texto_memoria_para_df(m)\n",
    "df.groupby('NOME',as_index=False).agg({'POSIÇÃO':'sum'}).display()"
   ]
  },
  {
   "cell_type": "code",
   "execution_count": 0,
   "metadata": {
    "application/vnd.databricks.v1+cell": {
     "cellMetadata": {
      "byteLimit": 2048000,
      "implicitDf": true,
      "rowLimit": 10000
     },
     "inputWidgets": {},
     "nuid": "a94aa148-1038-42ae-9b58-4014523279a4",
     "showTitle": false,
     "tableResultSettingsMap": {},
     "title": ""
    }
   },
   "outputs": [],
   "source": [
    "%sql\n",
    "select * from desafio_kinea.boletagem_cp.nxenq_memoriacalculo where  DataHoraVersao ='2025-02-12T14:46:18.000+00:00' and IdFundo = 'CP3'"
   ]
  },
  {
   "cell_type": "code",
   "execution_count": 0,
   "metadata": {
    "application/vnd.databricks.v1+cell": {
     "cellMetadata": {
      "byteLimit": 2048000,
      "rowLimit": 10000
     },
     "inputWidgets": {},
     "nuid": "da5672b0-4382-4f39-b415-79c43c02d278",
     "showTitle": false,
     "tableResultSettingsMap": {},
     "title": ""
    }
   },
   "outputs": [],
   "source": [
    "from ParsingMemoriaCalculo import tabela_texto_memoria_para_df\n",
    "memoria = spark.sql(\"select * from desafio_kinea.boletagem_cp.nxenq_memoriacalculo where  DataHoraVersao ='2025-02-12T14:46:18.000+00:00' and IdFundo = 'CP3'\").toPandas()['MemoriaCalculo'][0]\n",
    "tabela_memoria = tabela_texto_memoria_para_df(memoria).groupby('NOME',as_index=False).agg({'POSIÇÃO':'sum','NOME':'first'})\n",
    "ativos = ['DEBN AEGPA0 H750651','DEBN AEGPA3 I109165','DEBN AEGPA7 I445412']\n",
    "tabela_memoria = tabela_memoria[~tabela_memoria['NOME'].isin(ativos)]\n",
    "tabela_memoria['POSIÇÃO'].sum()"
   ]
  },
  {
   "cell_type": "code",
   "execution_count": 0,
   "metadata": {
    "application/vnd.databricks.v1+cell": {
     "cellMetadata": {
      "byteLimit": 2048000,
      "rowLimit": 10000
     },
     "collapsed": true,
     "inputWidgets": {},
     "nuid": "8b224a66-8ceb-4d6c-b826-b9b83f43903b",
     "showTitle": true,
     "tableResultSettingsMap": {},
     "title": "Teste Regra L636"
    }
   },
   "outputs": [],
   "source": [
    "#Testando Função Regra L636\n",
    "df_teste = spark.sql(\"select IdRegra, SaldoBaseCalculo,SaldoObjeto,LimiteMin,LimiteMax,ValorExposicao from desafio_kinea.boletagem_cp.nxenq_resultadoenquadramentohist where IdFundo = 'CP4' and IdRegra = 'L636' and DataHoraVersao = '2025-02-07T11:22:56.000+00:00'\").toPandas()\n",
    "\n",
    "df_teste['DescricaoDetalhada'] = spark.sql(\"select DescricaoDetalhada from desafio_kinea.boletagem_cp.nxenq_regras where IdRegra = 636\").toPandas()['DescricaoDetalhada'][0]\n",
    "\n",
    "posicao_ativos = [0,2,5,8,9] #Iremos conseguir a partir da memória de cálculo \n",
    "\n",
    "\n",
    "resposta = gerar_restricao(df_teste['DescricaoDetalhada'][0],posicao_ativos,df_teste['SaldoBaseCalculo'][0],df_teste['LimiteMin'][0],df_teste['LimiteMax'][0],df_teste['ValorExposicao'][0])\n",
    "\n",
    "#Testando como adicionar um numero a função\n",
    "resposta = resposta[:13]+\"_1\"+resposta[13:]"
   ]
  },
  {
   "cell_type": "code",
   "execution_count": 0,
   "metadata": {
    "application/vnd.databricks.v1+cell": {
     "cellMetadata": {
      "byteLimit": 2048000,
      "rowLimit": 10000
     },
     "collapsed": true,
     "inputWidgets": {},
     "nuid": "bcc540d3-f85d-42e8-ad37-f550cb494645",
     "showTitle": true,
     "tableResultSettingsMap": {},
     "title": "Teste Regra C153"
    }
   },
   "outputs": [],
   "source": [
    "#Testando Função Regra L153\n",
    "df_teste = spark.sql(\"select IdRegra, SaldoBaseCalculo,SaldoObjeto,LimiteMin,LimiteMax,ValorExposicao from desafio_kinea.boletagem_cp.nxenq_resultadoenquadramentohist where IdFundo = 'CP8' and IdRegra = 'CD153' and status='1' and DataHoraVersao = '2025-02-10T11:12:37.000+00:00'\").toPandas()\n",
    "\n",
    "df_teste['DescricaoDetalhada'] = spark.sql(\"select DescricaoDetalhada from desafio_kinea.boletagem_cp.nxenq_regrasporconcentracao where IdRegra = 153\").toPandas()['DescricaoDetalhada'][0]\n",
    "\n",
    "posicao_ativos = [2,6] #Iremos conseguir a partir da Memória de Cálculo\n",
    "\n",
    "resposta = gerar_restricao(df_teste['DescricaoDetalhada'][0],posicao_ativos,df_teste['SaldoBaseCalculo'][0],df_teste['LimiteMin'][0],df_teste['LimiteMax'][0],df_teste['ValorExposicao'][0])\n",
    "print(resposta)"
   ]
  },
  {
   "cell_type": "code",
   "execution_count": 0,
   "metadata": {
    "application/vnd.databricks.v1+cell": {
     "cellMetadata": {
      "byteLimit": 2048000,
      "rowLimit": 10000
     },
     "collapsed": true,
     "inputWidgets": {},
     "nuid": "9941cfda-5e90-431a-9588-60c7b4fc9284",
     "showTitle": true,
     "tableResultSettingsMap": {},
     "title": "Teste Regra 156"
    }
   },
   "outputs": [],
   "source": [
    "#Testando Função Regra CD156\n",
    "df_teste = spark.sql(\"select IdRegra, SaldoBaseCalculo,SaldoObjeto,LimiteMin,LimiteMax,ValorExposicao from desafio_kinea.boletagem_cp.nxenq_resultadoenquadramentohist where IdFundo = 'KCP' and IdRegra = 'CD156' and status='1' and DataHoraVersao = '2025-02-10T11:44:27.000+00:00'\").toPandas()\n",
    "\n",
    "df_teste['DescricaoDetalhada'] = spark.sql(\"select DescricaoDetalhada from desafio_kinea.boletagem_cp.nxenq_regrasporconcentracao where IdRegra = 156\").toPandas()['DescricaoDetalhada'][0]\n",
    "\n",
    "posicao_ativos = [2,6] #Iremos conseguir a partir da Memória de Cálculo\n",
    "resposta = gerar_restricao(df_teste['DescricaoDetalhada'][0],posicao_ativos,df_teste['SaldoBaseCalculo'][0],df_teste['LimiteMin'][0],df_teste['LimiteMax'][0],df_teste['ValorExposicao'][0])\n",
    "print(resposta)\n"
   ]
  },
  {
   "cell_type": "code",
   "execution_count": 0,
   "metadata": {
    "application/vnd.databricks.v1+cell": {
     "cellMetadata": {
      "byteLimit": 2048000,
      "rowLimit": 10000
     },
     "collapsed": true,
     "inputWidgets": {},
     "nuid": "fe7fb6cf-94cf-41d7-95d5-ef1fb542c32e",
     "showTitle": true,
     "tableResultSettingsMap": {},
     "title": "Teste Regra Vedação"
    }
   },
   "outputs": [],
   "source": [
    "Descricao = \"Vedação - LE - CMN 4.661 - Art. 21 § 2º - RF Compromissadas Lastro Privado\"\n",
    "posicao_ativos = [2]\n",
    "resposta = gerar_restricao(Descricao,posicao_ativos,500000,None,None,0)\n",
    "print(resposta)"
   ]
  },
  {
   "cell_type": "code",
   "execution_count": 0,
   "metadata": {
    "application/vnd.databricks.v1+cell": {
     "cellMetadata": {
      "byteLimit": 2048000,
      "implicitDf": true,
      "rowLimit": 10000
     },
     "collapsed": true,
     "inputWidgets": {},
     "nuid": "b062725d-044d-4bc0-8981-227abb227ece",
     "showTitle": true,
     "tableResultSettingsMap": {},
     "title": "Historico"
    }
   },
   "outputs": [],
   "source": [
    "%sql\n",
    "select distinct IdRegra from desafio_kinea.boletagem_cp.nxenq_resultadoenquadramentohist where status = 1 order by IdRegra"
   ]
  },
  {
   "cell_type": "code",
   "execution_count": 0,
   "metadata": {
    "application/vnd.databricks.v1+cell": {
     "cellMetadata": {
      "byteLimit": 2048000,
      "implicitDf": true,
      "rowLimit": 10000
     },
     "collapsed": true,
     "inputWidgets": {},
     "nuid": "c96020e2-bf9b-45f4-80c7-edd6c023b23f",
     "showTitle": true,
     "tableResultSettingsMap": {},
     "title": "Regras C"
    }
   },
   "outputs": [],
   "source": [
    "%sql\n",
    "select * from desafio_kinea.boletagem_cp.nxenq_regrasporconcentracao "
   ]
  },
  {
   "cell_type": "code",
   "execution_count": 0,
   "metadata": {
    "application/vnd.databricks.v1+cell": {
     "cellMetadata": {
      "byteLimit": 2048000,
      "implicitDf": true,
      "rowLimit": 10000
     },
     "collapsed": true,
     "inputWidgets": {},
     "nuid": "468c8f96-0b66-4dcf-b3fb-bb9726cdec3e",
     "showTitle": true,
     "tableResultSettingsMap": {},
     "title": "Regras L"
    },
    "jupyter": {
     "source_hidden": true
    }
   },
   "outputs": [],
   "source": [
    "%sql\n",
    "select * from desafio_kinea.boletagem_cp.nxenq_regras"
   ]
  },
  {
   "cell_type": "code",
   "execution_count": 0,
   "metadata": {
    "application/vnd.databricks.v1+cell": {
     "cellMetadata": {
      "byteLimit": 2048000,
      "implicitDf": true,
      "rowLimit": 10000
     },
     "collapsed": true,
     "inputWidgets": {},
     "nuid": "3f752b5c-184d-4abe-ba30-20b12fc05d6d",
     "showTitle": true,
     "tableResultSettingsMap": {},
     "title": "Memoria Calculo"
    }
   },
   "outputs": [],
   "source": [
    "%sql\n",
    "select distinct IdRegra from desafio_kinea.boletagem_cp.nxenq_memoriacalculo "
   ]
  }
 ],
 "metadata": {
  "application/vnd.databricks.v1+notebook": {
   "computePreferences": null,
   "dashboards": [],
   "environmentMetadata": {
    "base_environment": "",
    "environment_version": "2"
   },
   "language": "python",
   "notebookMetadata": {
    "mostRecentlyExecutedCommandWithImplicitDF": {
     "commandId": 5865811303488721,
     "dataframes": [
      "_sqldf"
     ]
    },
    "pythonIndentUnit": 4
   },
   "notebookName": "Integração GPT",
   "widgets": {}
  },
  "language_info": {
   "name": "python"
  }
 },
 "nbformat": 4,
 "nbformat_minor": 0
}
