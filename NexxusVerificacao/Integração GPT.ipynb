{
 "cells": [
  {
   "cell_type": "code",
   "execution_count": 0,
   "metadata": {
    "application/vnd.databricks.v1+cell": {
     "cellMetadata": {
      "byteLimit": 2048000,
      "rowLimit": 10000
     },
     "inputWidgets": {},
     "nuid": "dae12b2e-65cb-43a5-aa90-206b94807f2e",
     "showTitle": false,
     "tableResultSettingsMap": {},
     "title": ""
    },
    "jupyter": {
     "outputs_hidden": true
    }
   },
   "outputs": [],
   "source": [
    "!pip install openai==0.28"
   ]
  },
  {
   "cell_type": "code",
   "execution_count": 0,
   "metadata": {
    "application/vnd.databricks.v1+cell": {
     "cellMetadata": {
      "byteLimit": 2048000,
      "rowLimit": 10000
     },
     "inputWidgets": {},
     "nuid": "00076c6a-644e-4489-8057-71f657456e38",
     "showTitle": false,
     "tableResultSettingsMap": {},
     "title": ""
    }
   },
   "outputs": [],
   "source": [
    "dbutils.library.restartPython()"
   ]
  },
  {
   "cell_type": "code",
   "execution_count": 0,
   "metadata": {
    "application/vnd.databricks.v1+cell": {
     "cellMetadata": {
      "byteLimit": 2048000,
      "rowLimit": 10000
     },
     "inputWidgets": {},
     "nuid": "5919fa24-636a-4791-bdcd-afb936ea2b45",
     "showTitle": false,
     "tableResultSettingsMap": {},
     "title": ""
    }
   },
   "outputs": [],
   "source": [
    "import openai\n",
    "from pathlib import Path\n",
    "import os\n",
    "from ParsingMemoriaCalculo import tabela_texto_memoria_para_df\n",
    "from pydantic import BaseModel\n",
    "openai.api_type = \"azure\"\n",
    "openai.api_base = \"https://oai-dk.openai.azure.com/\"\n",
    "openai.api_version = \"2023-12-01-preview\"\n",
    "openai.api_key = dbutils.secrets.get('akvdesafiokinea','azure-oai-dk')"
   ]
  },
  {
   "cell_type": "code",
   "execution_count": 0,
   "metadata": {
    "application/vnd.databricks.v1+cell": {
     "cellMetadata": {},
     "collapsed": true,
     "inputWidgets": {},
     "nuid": "1cd1a874-2c8c-40c3-9320-f03b75a13c1b",
     "showTitle": false,
     "tableResultSettingsMap": {},
     "title": ""
    }
   },
   "outputs": [],
   "source": [
    "#acho que da pra melhorar o prompt\\n\",\n",
    "    \"\\n\",\n",
    "    \"ex_dic = {\\n\",\n",
    "    \"    'ativo': 'UNEG11',\\n\",\n",
    "    \"    'pior_rating_permitido': 2, \\n\",\n",
    "    \"    'rating_do_ativo': 6,\\n\",\n",
    "    \"    'posicao_ativo': 118787475.0,\\n\",\n",
    "    \"    'descricao_regra': 'Vedação - Ativos de Crédito Privado c/ Rating Diferente de A'\\n\",\n",
    "    \"}\\n\",\n",
    "    \"\\n\",\n",
    "    \"ex_regra = \\\"\\\"\\\"\\n\",\n",
    "    \"Descrição da Regra:\\n\",\n",
    "    \"1. Tipo de ativo: Crédito Privado.\\n\",\n",
    "    \"2. A regra proíbe ativos com rating diferente de A.\\n\",\n",
    "    \"3. O rating do ativo fornecido é 6, o que viola a regra.\\n\",\n",
    "    \"4. O ativo em questão é 'UNEG11', e sua posição é 118787475.0.\\n\",\n",
    "    \"\\\"\\\"\\\"\\n\",\n",
    "    \"resposta = gerar_restricao(ex_regra,ex_dic)\\n\",\n",
    "    \"print(resposta)\\n\"\n",
    "   ]\n",
    "  },\n",
    "  {\n",
    "   \"cell_type\": \"code\",\n",
    "   \"execution_count\": 0,\n",
    "   \"metadata\": {\n",
    "    \"application/vnd.databricks.v1+cell\": {\n",
    "     \"cellMetadata\": {\n",
    "      \"byteLimit\": 2048000,\n",
    "      \"rowLimit\": 10000\n",
    "     },\n",
    "     \"inputWidgets\": {},\n",
    "     \"nuid\": \"324fd083-2f0f-44bb-a82b-7b61817fc6b9\",\n",
    "     \"showTitle\": false,\n",
    "     \"tableResultSettingsMap\": {},\n",
    "     \"title\": \"\"\n",
    "    }\n",
    "   },\n",
    "   \"outputs\": [],\n",
    "   \"source\": [\n",
    "    \"#podemos pensar também em como fazer um prompt que permita receber varias instruções e retorne restrições diferentes para cada uma delas \\n\",\n",
    "    \"def gerar_restricao(mensagem_regra, dados_ativos):\\n\",\n",
    "    \"    \\\"\\\"\\\"\\n\",\n",
    "    \"    Função que gera restrições com base na regra e dados dos ativos.\\n\",\n",
    "    \"    \\n\",\n",
    "    \"    Parâmetros:\\n\",\n",
    "    \"    - mensagem_regra (str): Descrição da regra a ser aplicada.\\n\",\n",
    "    \"    - dados_ativos (dict): Dicionário com os dados do ativo e da regra.\\n\",\n",
    "    \"    \\n\",\n",
    "    \"    Retorno:\\n\",\n",
    "    \"    - (str): Mensagem que descreve a restrição gerada.\\n\",\n",
    "    \"    \\\"\\\"\\\"\\n\",\n",
    "    \"    ativo = dados_ativos['ativo']\\n\",\n",
    "    \"    rating_ativo = dados_ativos['rating_do_ativo']\\n\",\n",
    "    \"    rating_permitido = dados_ativos['pior_rating_permitido']\\n\",\n",
    "    \"    descricao_regra = dados_ativos.get('descricao_regra', 'Regra não especificada')\\n\",\n",
    "    \"\\n\",\n",
    "    \"    if rating_ativo > rating_permitido:\\n\",\n",
    "    \"        resposta = f\\\"O ativo '{ativo}' não cumpre a regra '{descricao_regra}', pois seu rating ({rating_ativo}) excede o limite permitido ({rating_permitido}).\\\"\\n\",\n",
    "    \"    else:\\n\",\n",
    "    \"        resposta = f\\\"O ativo '{ativo}' está em conformidade com a regra '{descricao_regra}'.\\\"\\n\",\n",
    "    \"\\n\",\n",
    "    \"    return resposta\""
   ]
  },
  {
   "cell_type": "code",
   "execution_count": 0,
   "metadata": {
    "application/vnd.databricks.v1+cell": {
     "cellMetadata": {
      "byteLimit": 2048000,
      "rowLimit": 10000
     },
     "inputWidgets": {},
     "nuid": "2dfd3915-fa18-4e0f-a713-b04ec12d93ef",
     "showTitle": true,
     "tableResultSettingsMap": {},
     "title": "Exemplo Geração de Restrição Regra L677"
    }
   },
   "outputs": [],
   "source": [
    "#Função para Gerar Restrição\n",
    "class FormatoResposta(BaseModel):\n",
    "    codigo: str   \n",
    "    tipo: str\n",
    "\n",
    "def gerar_restricao():\n",
    "    dir_atual = Path(os.getcwd())\n",
    "    path_final = dir_atual.absolute().parent / Path(\"ScriptsSQL\") / Path(\"Nexxus_desenquadramento.sql\")\n",
    "    with open (path_final, 'r') as file:\n",
    "        sql_script = file.read()\n",
    "    df = spark.sql(sql_script).toPandas()\n",
    "    parseados = []\n",
    "    for i,row in df.iterrows():\n",
    "        parseados.append(tabela_texto_memoria_para_df(row['MemoriaCalculo']))\n",
    "    exemplo = df.loc[1]\n",
    "    exemplo_memoria = parseados[1]\n",
    "    exemplo_memoria = exemplo_memoria[['NOME','POSIÇÃO']].groupby('NOME').sum().reset_index() #Talvez precise do titulo\n",
    "    fundo = exemplo['IdFundo']\n",
    "    valor_base = exemplo['SaldoBaseCalculo']\n",
    "    exposicao = exemplo['ValorExposicao']\n",
    "    valor_objeto = exemplo['SaldoObjeto']\n",
    "    l_min = exemplo['LimiteMin']\n",
    "    l_max = exemplo['LimiteMax']\n",
    "    descricao = exemplo['DescricaoDetalhada']\n",
    "    #Pegar ativo pela memória de cálculo -> Usar ativo e fundo para localizar qual posição na régua original vai ser afetada pela restrição\n",
    "    message_text = [\n",
    "                {\"role\":\"system\",\n",
    "                \"content\":\n",
    "                    \"\"\"\n",
    "                    Você deve gerar uma restrição no estilo scipy no formato:\n",
    "                    def restricao(x):\n",
    "                        return x\n",
    "                    Considere \n",
    "                    Lembre-se que x é um valor monetário igual valor objeto e não um percentual, sua restrição deve considerar o calculo. Como também considerar os limites mínimos e máximos.\n",
    "                    Também retorne um texto escrito \"eq\" ou \"ineq\" a depender do tipo de restrição que estiver usando.  \n",
    "                \"\"\"\n",
    "                },\n",
    "                {\"role\":\"user\",\"content\":f\"Descrição: {descricao}; Limite Mínimo: {l_min}; Limite Máximo: {l_max}; Valor Base: {valor_base}; Valor Objeto: {valor_objeto}, Valor Exposição: {exposicao}\"}\n",
    "               ]\n",
    "    \n",
    "    completion = openai.ChatCompletion.create(\n",
    "        engine=\"gpt35turbo16k\",\n",
    "        messages = message_text,\n",
    "        temperature=0,\n",
    "        max_tokens=1200,\n",
    "        top_p=0.8,\n",
    "        frequency_penalty=0,\n",
    "        presence_penalty=0,\n",
    "        stop=None,\n",
    "        )\n",
    "\n",
    "    return completion.to_dict()['choices'][0]['message']['content']"
   ]
  },
  {
   "cell_type": "code",
   "execution_count": 0,
   "metadata": {
    "application/vnd.databricks.v1+cell": {
     "cellMetadata": {
      "byteLimit": 2048000,
      "rowLimit": 10000
     },
     "inputWidgets": {},
     "nuid": "43cc4236-2bb3-4ab2-9da2-faf12e1c046b",
     "showTitle": false,
     "tableResultSettingsMap": {},
     "title": ""
    }
   },
   "outputs": [],
   "source": [
    "teste = gerar_restricao()\n",
    "print(teste)"
   ]
  },
  {
   "cell_type": "code",
   "execution_count": 0,
   "metadata": {
    "application/vnd.databricks.v1+cell": {
     "cellMetadata": {
      "byteLimit": 2048000,
      "implicitDf": true,
      "rowLimit": 10000
     },
     "inputWidgets": {},
     "nuid": "b062725d-044d-4bc0-8981-227abb227ece",
     "showTitle": false,
     "tableResultSettingsMap": {},
     "title": ""
    }
   },
   "outputs": [],
   "source": [
    "%sql\n",
    "select * from desafio_kinea.boletagem_cp.nxenq_resultadoenquadramentohist where status = 1 "
   ]
  },
  {
   "cell_type": "code",
   "execution_count": 0,
   "metadata": {
    "application/vnd.databricks.v1+cell": {
     "cellMetadata": {
      "byteLimit": 2048000,
      "implicitDf": true,
      "rowLimit": 10000
     },
     "inputWidgets": {},
     "nuid": "1e7d7e28-ae05-4834-b8dc-0ba5e5b25069",
     "showTitle": false,
     "tableResultSettingsMap": {},
     "title": ""
    }
   },
   "outputs": [],
   "source": [
    "%sql\n",
    "select * from desafio_kinea.boletagem_cp.nxenq_regras where IdRegra = 636\n"
   ]
  }
 ],
 "metadata": {
  "application/vnd.databricks.v1+notebook": {
   "computePreferences": null,
   "dashboards": [],
   "environmentMetadata": {
    "base_environment": "",
    "environment_version": "2"
   },
   "language": "python",
   "notebookMetadata": {
    "mostRecentlyExecutedCommandWithImplicitDF": {
     "commandId": 6582187128788151,
     "dataframes": [
      "_sqldf"
     ]
    },
    "pythonIndentUnit": 4
   },
   "notebookName": "Integração GPT",
   "widgets": {}
  },
  "language_info": {
   "name": "python"
  }
 },
 "nbformat": 4,
 "nbformat_minor": 0
}
