{
 "cells": [
  {
   "cell_type": "code",
   "execution_count": 0,
   "metadata": {
    "application/vnd.databricks.v1+cell": {
     "cellMetadata": {
      "byteLimit": 2048000,
      "rowLimit": 10000
     },
     "inputWidgets": {},
     "nuid": "dae12b2e-65cb-43a5-aa90-206b94807f2e",
     "showTitle": false,
     "tableResultSettingsMap": {},
     "title": ""
    },
    "jupyter": {
     "outputs_hidden": true
    }
   },
   "outputs": [],
   "source": [
    "!pip install openai==0.28"
   ]
  },
  {
   "cell_type": "code",
   "execution_count": 0,
   "metadata": {
    "application/vnd.databricks.v1+cell": {
     "cellMetadata": {
      "byteLimit": 2048000,
      "rowLimit": 10000
     },
     "inputWidgets": {},
     "nuid": "00076c6a-644e-4489-8057-71f657456e38",
     "showTitle": false,
     "tableResultSettingsMap": {},
     "title": ""
    }
   },
   "outputs": [],
   "source": [
    "dbutils.library.restartPython()"
   ]
  },
  {
   "cell_type": "code",
   "execution_count": 0,
   "metadata": {
    "application/vnd.databricks.v1+cell": {
     "cellMetadata": {
      "byteLimit": 2048000,
      "rowLimit": 10000
     },
     "inputWidgets": {},
     "nuid": "5919fa24-636a-4791-bdcd-afb936ea2b45",
     "showTitle": false,
     "tableResultSettingsMap": {},
     "title": ""
    }
   },
   "outputs": [],
   "source": [
    "import openai\n",
    "openai.api_type = \"azure\"\n",
    "openai.api_base = \"https://oai-dk.openai.azure.com/\"\n",
    "openai.api_version = \"2023-12-01-preview\"\n",
    "openai.api_key = dbutils.secrets.get('akvdesafiokinea','azure-oai-dk')"
   ]
  },
  {
   "cell_type": "code",
   "execution_count": 0,
   "metadata": {
    "application/vnd.databricks.v1+cell": {
     "cellMetadata": {
      "byteLimit": 2048000,
      "rowLimit": 10000
     },
     "inputWidgets": {},
     "nuid": "2dfd3915-fa18-4e0f-a713-b04ec12d93ef",
     "showTitle": false,
     "tableResultSettingsMap": {},
     "title": ""
    }
   },
   "outputs": [],
   "source": [
    "#Função para Gerar Restrição\n",
    "def gerar_restricao(dic):\n",
    "    fundo = dic['IdFundo']\n",
    "    valor_base = dic['SaldoBaseCalculo']\n",
    "    exposicao = dic['ValorExposicao']\n",
    "    valor_objeto = dic['SaldoObjeto']\n",
    "    l_min = dic['LimiteMin']\n",
    "    l_max = dic['LimiteMax']\n",
    "    descricao = dic['DescricaoDetalhada']\n",
    "    #Pegar ativo pela memória de cálculo -> Usar ativo e fundo para localizar qual posição na régua original vai ser afetada pela restrição\n",
    "    message_text = [\n",
    "                {\"role\":\"system\",\n",
    "                \"content\":\n",
    "                    \"\"\"\n",
    "                    Você receberá uma descrição de uma regra que foi descumprida, também receberá os limites mínimos e máximos referentes a está mesma regra. Assim como o valor base que pode ser o Patrimônio Líquido do fundo e o valor objeto que é o valor que está tentando ser alocado naquele fundo, o valor exposição é calculado em torno do valor objeto e do valor base e ele representa um percentual que foi restrito pela regra. Seu objetivo é gerar uma função de restrição no estilo scipy no formato:\n",
    "                    def restricao(x):\n",
    "                        return x\n",
    "                    Lembre-se que x é um valor monetário igual valor objeto e não um percentual, sua restrição deve considerar o calculo. Como também considerar os limites mínimos e máximos.\n",
    "                    Também retorne um texto escrito \"eq\" ou \"ineq\" a depender do tipo de restrição que estiver usando.  \n",
    "                \"\"\"\n",
    "                },\n",
    "                {\"role\":\"user\",\"content\":f\"Descrição: {descricao}; Limite Mínimo: {l_min}; Limite Máximo: {l_max}; Valor Base: {valor_base}; Valor Objeto: {valor_objeto}, Valor Exposição: {exposicao}\"}\n",
    "               ]\n",
    "    \n",
    "    completion = openai.ChatCompletion.create(\n",
    "        engine=\"gpt35turbo16k\",\n",
    "        messages = message_text,\n",
    "        temperature=0,\n",
    "        max_tokens=1200,\n",
    "        top_p=0.8,\n",
    "        frequency_penalty=0,\n",
    "        presence_penalty=0,\n",
    "        stop=None)\n",
    "\n",
    "    return completion.to_dict()['choices'][0]['message']['content']"
   ]
  },
  {
   "cell_type": "code",
   "execution_count": 0,
   "metadata": {
    "application/vnd.databricks.v1+cell": {
     "cellMetadata": {
      "byteLimit": 2048000,
      "rowLimit": 10000
     },
     "inputWidgets": {},
     "nuid": "28e51984-7343-4812-9b90-8713d7e702d1",
     "showTitle": false,
     "tableResultSettingsMap": {},
     "title": ""
    }
   },
   "outputs": [],
   "source": [
    "df_teste = spark.sql(\"\"\"\n",
    "                        select IdFundo,DataHoraVersao,h.IdRegra,SaldoBaseCalculo,ValorExposicao,SaldoObjeto,LimiteMin,LimiteMax,DescricaoDetalhada,h.Status,ComplementoId \n",
    "                        from desafio_kinea.boletagem_cp.nxenq_resultadoenquadramentohist as h LEFT JOIN desafio_kinea.boletagem_cp.nxenq_regras as r \n",
    "                        ON  SUBSTRING(h.IdRegra,2,LEN(h.IdRegra)) = r.IdRegra\n",
    "                        where h.DataHoraVersao = '2025-02-06T11:48:25.000+00:00' and status = 1\n",
    "                     \"\"\")\n",
    "exemplo = df_teste.toPandas().iloc[5]\n",
    "resposta = gerar_restricao(exemplo)\n",
    "print(resposta)"
   ]
  },
  {
   "cell_type": "code",
   "execution_count": 0,
   "metadata": {
    "application/vnd.databricks.v1+cell": {
     "cellMetadata": {
      "byteLimit": 2048000,
      "rowLimit": 10000
     },
     "inputWidgets": {},
     "nuid": "afce1f9b-8537-4b3d-87ee-920a118bd7f3",
     "showTitle": false,
     "tableResultSettingsMap": {},
     "title": ""
    }
   },
   "outputs": [],
   "source": [
    "ex_dic= {'ativo': 'UNEG11', 'pior_rating_permitido': 2, 'rating do ativo': 6, 'posicao_ativo': 118787475.0} #A partir do Parser\n",
    "ex_regra = \"Vedação - Ativos de Crédito Privado c/ Rating Diferente de A\" #A partir de nxenq_regras.Descricao\n",
    "\n",
    "resposta = gerar_restricao(ex_regra,ex_dic)\n",
    "print(resposta)\n"
   ]
  },
  {
   "cell_type": "code",
   "execution_count": 0,
   "metadata": {
    "application/vnd.databricks.v1+cell": {
     "cellMetadata": {
      "byteLimit": 2048000,
      "implicitDf": true,
      "rowLimit": 10000
     },
     "inputWidgets": {},
     "nuid": "b062725d-044d-4bc0-8981-227abb227ece",
     "showTitle": false,
     "tableResultSettingsMap": {},
     "title": ""
    }
   },
   "outputs": [],
   "source": [
    "%sql\n",
    "select * from desafio_kinea.boletagem_cp.nxenq_resultadoenquadramentohist where status = 1 and DataHoraVersao = '2025-02-07T11:22:56.000+00:00'"
   ]
  }
 ],
 "metadata": {
  "application/vnd.databricks.v1+notebook": {
   "computePreferences": null,
   "dashboards": [],
   "environmentMetadata": {
    "base_environment": "",
    "environment_version": "2"
   },
   "language": "python",
   "notebookMetadata": {
    "mostRecentlyExecutedCommandWithImplicitDF": {
     "commandId": 7942455793927056,
     "dataframes": [
      "_sqldf"
     ]
    },
    "pythonIndentUnit": 4
   },
   "notebookName": "Integração GPT",
   "widgets": {}
  },
  "language_info": {
   "name": "python"
  }
 },
 "nbformat": 4,
 "nbformat_minor": 0
}
