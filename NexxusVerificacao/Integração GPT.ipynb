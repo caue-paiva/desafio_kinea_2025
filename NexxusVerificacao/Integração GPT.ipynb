{
 "cells": [
  {
   "cell_type": "code",
   "execution_count": 0,
   "metadata": {
    "application/vnd.databricks.v1+cell": {
     "cellMetadata": {
      "byteLimit": 2048000,
      "rowLimit": 10000
     },
     "inputWidgets": {},
     "nuid": "dae12b2e-65cb-43a5-aa90-206b94807f2e",
     "showTitle": true,
     "tableResultSettingsMap": {},
     "title": "Instalando OpenAI"
    },
    "jupyter": {
     "outputs_hidden": true
    }
   },
   "outputs": [],
   "source": [
    "!pip install openai==0.28"
   ]
  },
  {
   "cell_type": "code",
   "execution_count": 0,
   "metadata": {
    "application/vnd.databricks.v1+cell": {
     "cellMetadata": {
      "byteLimit": 2048000,
      "rowLimit": 10000
     },
     "inputWidgets": {},
     "nuid": "00076c6a-644e-4489-8057-71f657456e38",
     "showTitle": true,
     "tableResultSettingsMap": {},
     "title": "Reiniciando Ambiente"
    },
    "jupyter": {
     "source_hidden": true
    }
   },
   "outputs": [],
   "source": [
    "dbutils.library.restartPython()"
   ]
  },
  {
   "cell_type": "code",
   "execution_count": 0,
   "metadata": {
    "application/vnd.databricks.v1+cell": {
     "cellMetadata": {
      "byteLimit": 2048000,
      "rowLimit": 10000
     },
     "inputWidgets": {},
     "nuid": "5919fa24-636a-4791-bdcd-afb936ea2b45",
     "showTitle": true,
     "tableResultSettingsMap": {},
     "title": "Importações"
    }
   },
   "outputs": [],
   "source": [
    "import openai\n",
    "from pathlib import Path\n",
    "import os\n",
    "import pandas as pd\n",
    "from ParsingMemoriaCalculo import tabela_texto_memoria_para_df\n",
    "openai.api_type = \"azure\"\n",
    "openai.api_base = \"https://oai-dk.openai.azure.com/\"\n",
    "openai.api_version = \"2023-12-01-preview\"\n",
    "openai.api_key = dbutils.secrets.get('akvdesafiokinea','azure-oai-dk')"
   ]
  },
  {
   "cell_type": "code",
   "execution_count": 0,
   "metadata": {
    "application/vnd.databricks.v1+cell": {
     "cellMetadata": {
      "byteLimit": 2048000,
      "rowLimit": 10000
     },
     "inputWidgets": {},
     "nuid": "7a0f22db-c9cc-4ced-aac1-d7ea1be0ba6a",
     "showTitle": true,
     "tableResultSettingsMap": {},
     "title": "Testes API versão nova"
    },
    "jupyter": {
     "outputs_hidden": true,
     "source_hidden": true
    }
   },
   "outputs": [],
   "source": [
    "client = openai.OpenAI(api_key=dbutils.secrets.get('akvdesafiokinea','azure-oai-dk'))\n",
    "chat_completion = client.chat.completions.create(\n",
    "    messages=[\n",
    "        {\n",
    "            \"role\": \"user\",\n",
    "            \"content\": \"Say this is a test\",\n",
    "        }\n",
    "    ],\n",
    "    model=\"gpt-4o\",\n",
    ")"
   ]
  },
  {
   "cell_type": "code",
   "execution_count": 0,
   "metadata": {
    "application/vnd.databricks.v1+cell": {
     "cellMetadata": {
      "byteLimit": 2048000,
      "rowLimit": 10000
     },
     "inputWidgets": {},
     "nuid": "268ca862-74fc-482c-b98c-b5985267c6a7",
     "showTitle": true,
     "tableResultSettingsMap": {},
     "title": "Função para pegar posições do ativo na régua"
    },
    "jupyter": {
     "outputs_hidden": true,
     "source_hidden": true
    }
   },
   "outputs": [],
   "source": [
    "def posicoes(fundo,ativos):\n",
    "    #Resgatar Régua Completa\n",
    "    regua = pd.read_csv(\"/Volumes/desafio_kinea/boletagem_cp/files/InputNexxus/input_nexxus.csv\",sep=',').drop('Unnamed: 0', axis=1)\n",
    "    print(regua)\n",
    "    posicoes = regua[(regua['fundo'] == fundo)  & (regua['ativo'].isin(ativos))].index\n",
    "    return posicoes\n"
   ]
  },
  {
   "cell_type": "code",
   "execution_count": 0,
   "metadata": {
    "application/vnd.databricks.v1+cell": {
     "cellMetadata": {
      "byteLimit": 2048000,
      "rowLimit": 10000
     },
     "inputWidgets": {},
     "nuid": "2dfd3915-fa18-4e0f-a713-b04ec12d93ef",
     "showTitle": true,
     "tableResultSettingsMap": {},
     "title": "Função para Gerar Restrição"
    }
   },
   "outputs": [],
   "source": [
    "#Função para Gerar Restrição\n",
    "def gerar_restricao(descricao,ativos,saldo_base,exposicao,l_max,l_min):   \n",
    "    contexto_gpt = '''\n",
    "        Você irá receber a descrição de uma regra, um conjunto posições de ativos que são considerados para o cálculo dessa regra, um saldo base, limite minimo e máximo em relação a esse saldo base e a porcentagem que não por essa restrição. Lembre-se de considerar se a porcentagem está acima do limite_maximo ou abaixo do limite minimo para tomar a decisão de como escrever o código\n",
    "        A partir disso você deve gerar um código de restrição no formato utilizado pelo scipy.minimize.\n",
    "        \n",
    "        Exemplo 1:\n",
    "            Descrição: Art. 45. Cumulativamente aos limites de concentração por emissor, a classe de cotas deve observar os seguintes limites de concentração por modalidade de ativo financeiro, sem prejuízo das normas aplicáveis ao seu tipo: I - ate 20% (vinte por cento) de ativos de renda fixa;\n",
    "            Posição Ativos: [0,1,4,5,6]\n",
    "            Saldo Base: 500000\n",
    "            Limite Mínimo: 0\n",
    "            Limite Máximo: 0.2\n",
    "            Porcentagem:0.25\n",
    "            def restricao(x):\n",
    "                ativos_considerados = [x[0],x[1],x[4],x[5],x[6]...]\n",
    "                return  0.2 * 500000 -  sum(ativos_considerados)\n",
    "        Exemplo 2: \n",
    "            Descrição: Regulamento - POLÍTICA DE INVESTIMENTO - O objetivo do FUNDO é aplicar, no mínimo, 80% (oitenta por cento) de seus recursos em ativos financeiros de renda fixa relacionados diretamente, ou sintetizados via derivativos, ao fator de risco que dá nome à classe, observado que a rentabilidade do FUNDO será impactada pelos custos e despesas do FUNDO, inclusive taxa de administração.\n",
    "            Posição Ativos: [0,1,4,5,6]\n",
    "            Saldo Base: 500000\n",
    "            Limite Mínimo: 0.8\n",
    "            Limite Máximo: 1\n",
    "            Porcentagem: 0.68\n",
    "            def restricao(x):\n",
    "                ativos_considerados = [x[0],x[1],x[4],x[5],x[6]...]\n",
    "                return sum(ativos_considerados) - 0.8 * 500000    \n",
    "    '''\n",
    "    message_text = [\n",
    "                {\"role\":\"system\",\"content\":contexto_gpt},\n",
    "                {\"role\":\"user\",\"content\":f\"Descrição: {descricao}\\n Posições Ativos: {ativos} \\n Saldo Base: {saldo_base} \\n Limite Mínimo {l_min}  \\n Limite Máximo: {l_max} \\n Porcentagem: {exposicao}\"}\n",
    "               ]\n",
    "    \n",
    "    completion = openai.ChatCompletion.create(\n",
    "        engine=\"gpt35turbo16k\",\n",
    "        messages = message_text,\n",
    "        temperature=0.0,\n",
    "        max_tokens=1200,\n",
    "        top_p=0.95,\n",
    "        frequency_penalty=0.0,\n",
    "        presence_penalty=0.0,\n",
    "        stop=None,\n",
    "        )\n",
    "\n",
    "    return completion.to_dict()['choices'][0]['message']['content']\n",
    "\n"
   ]
  },
  {
   "cell_type": "code",
   "execution_count": 0,
   "metadata": {
    "application/vnd.databricks.v1+cell": {
     "cellMetadata": {
      "byteLimit": 2048000,
      "rowLimit": 10000
     },
     "inputWidgets": {},
     "nuid": "8b224a66-8ceb-4d6c-b826-b9b83f43903b",
     "showTitle": true,
     "tableResultSettingsMap": {},
     "title": "Teste Regra L636"
    }
   },
   "outputs": [],
   "source": [
    "#Testando Função Regra L636\n",
    "df_teste = spark.sql(\"select IdRegra, SaldoBaseCalculo,SaldoObjeto,LimiteMin,LimiteMax,ValorExposicao from desafio_kinea.boletagem_cp.nxenq_resultadoenquadramentohist where IdFundo = 'CP4' and IdRegra = 'L636' and DataHoraVersao = '2025-02-07T11:22:56.000+00:00'\").toPandas()\n",
    "\n",
    "df_teste['DescricaoDetalhada'] = spark.sql(\"select DescricaoDetalhada from desafio_kinea.boletagem_cp.nxenq_regras where IdRegra = 636\").toPandas()['DescricaoDetalhada'][0]\n",
    "\n",
    "posicao_ativos = [0,2,5,8,9] #Iremos conseguir a partir da memória de cálculo \n",
    "\n",
    "\n",
    "resposta = gerar_restricao(df_teste['DescricaoDetalhada'][0],posicao_ativos,df_teste['SaldoBaseCalculo'][0],df_teste['LimiteMin'][0],df_teste['LimiteMax'][0],df_teste['ValorExposicao'][0])\n",
    "print(resposta)"
   ]
  },
  {
   "cell_type": "code",
   "execution_count": 0,
   "metadata": {
    "application/vnd.databricks.v1+cell": {
     "cellMetadata": {
      "byteLimit": 2048000,
      "rowLimit": 10000
     },
     "inputWidgets": {},
     "nuid": "bcc540d3-f85d-42e8-ad37-f550cb494645",
     "showTitle": true,
     "tableResultSettingsMap": {},
     "title": "Teste Regra C153"
    }
   },
   "outputs": [],
   "source": [
    "#Testando Função Regra L153\n",
    "df_teste = spark.sql(\"select IdRegra, SaldoBaseCalculo,SaldoObjeto,LimiteMin,LimiteMax,ValorExposicao from desafio_kinea.boletagem_cp.nxenq_resultadoenquadramentohist where IdFundo = 'CP8' and IdRegra = 'CD153' and status='1' and DataHoraVersao = '2025-02-10T11:12:37.000+00:00'\").toPandas()\n",
    "\n",
    "df_teste['DescricaoDetalhada'] = spark.sql(\"select DescricaoDetalhada from desafio_kinea.boletagem_cp.nxenq_regrasporconcentracao where IdRegra = 153\").toPandas()['DescricaoDetalhada'][0]\n",
    "\n",
    "posicao_ativos = [2,6] #Iremos conseguir a partir do ComplementoID\n",
    "\n",
    "resposta = gerar_restricao(df_teste['DescricaoDetalhada'][0],posicao_ativos,df_teste['SaldoBaseCalculo'][0],df_teste['LimiteMin'][0],df_teste['LimiteMax'][0],df_teste['ValorExposicao'][0])\n",
    "print(resposta)"
   ]
  },
  {
   "cell_type": "code",
   "execution_count": 0,
   "metadata": {
    "application/vnd.databricks.v1+cell": {
     "cellMetadata": {
      "byteLimit": 2048000,
      "implicitDf": true,
      "rowLimit": 10000
     },
     "inputWidgets": {},
     "nuid": "b062725d-044d-4bc0-8981-227abb227ece",
     "showTitle": true,
     "tableResultSettingsMap": {},
     "title": "Historico"
    },
    "jupyter": {
     "outputs_hidden": true,
     "source_hidden": true
    }
   },
   "outputs": [],
   "source": [
    "%sql\n",
    "select * from desafio_kinea.boletagem_cp.nxenq_resultadoenquadramentohist where IdFundo = 'CP8' and IdRegra = 'CD153'  and DataHoraVersao = '2025-02-10T11:12:37.000+00:00' and status = 1"
   ]
  },
  {
   "cell_type": "code",
   "execution_count": 0,
   "metadata": {
    "application/vnd.databricks.v1+cell": {
     "cellMetadata": {
      "byteLimit": 2048000,
      "implicitDf": true,
      "rowLimit": 10000
     },
     "collapsed": true,
     "inputWidgets": {},
     "nuid": "c96020e2-bf9b-45f4-80c7-edd6c023b23f",
     "showTitle": true,
     "tableResultSettingsMap": {},
     "title": "Regras C"
    },
    "jupyter": {
     "source_hidden": true
    }
   },
   "outputs": [],
   "source": [
    "%sql\n",
    "select * from desafio_kinea.boletagem_cp.nxenq_regrasporconcentracao "
   ]
  },
  {
   "cell_type": "code",
   "execution_count": 0,
   "metadata": {
    "application/vnd.databricks.v1+cell": {
     "cellMetadata": {
      "byteLimit": 2048000,
      "implicitDf": true,
      "rowLimit": 10000
     },
     "collapsed": true,
     "inputWidgets": {},
     "nuid": "468c8f96-0b66-4dcf-b3fb-bb9726cdec3e",
     "showTitle": true,
     "tableResultSettingsMap": {},
     "title": "Regras L"
    },
    "jupyter": {
     "source_hidden": true
    }
   },
   "outputs": [],
   "source": [
    "%sql\n",
    "select * from desafio_kinea.boletagem_cp.nxenq_regras"
   ]
  },
  {
   "cell_type": "code",
   "execution_count": 0,
   "metadata": {
    "application/vnd.databricks.v1+cell": {
     "cellMetadata": {
      "byteLimit": 2048000,
      "implicitDf": true,
      "rowLimit": 10000
     },
     "inputWidgets": {},
     "nuid": "3f752b5c-184d-4abe-ba30-20b12fc05d6d",
     "showTitle": true,
     "tableResultSettingsMap": {},
     "title": "Memoria Calculo"
    },
    "jupyter": {
     "outputs_hidden": true,
     "source_hidden": true
    }
   },
   "outputs": [],
   "source": [
    "%sql\n",
    "select * from desafio_kinea.boletagem_cp.nxenq_memoriacalculo where DataHoraVersao = '2025-02-10T11:12:37.000+00:00' and IdFundo = 'CP8' "
   ]
  }
 ],
 "metadata": {
  "application/vnd.databricks.v1+notebook": {
   "computePreferences": null,
   "dashboards": [],
   "environmentMetadata": {
    "base_environment": "",
    "environment_version": "2"
   },
   "language": "python",
   "notebookMetadata": {
    "mostRecentlyExecutedCommandWithImplicitDF": {
     "commandId": 6109646230407033,
     "dataframes": [
      "_sqldf"
     ]
    },
    "pythonIndentUnit": 4
   },
   "notebookName": "Integração GPT",
   "widgets": {}
  },
  "language_info": {
   "name": "python"
  }
 },
 "nbformat": 4,
 "nbformat_minor": 0
}
