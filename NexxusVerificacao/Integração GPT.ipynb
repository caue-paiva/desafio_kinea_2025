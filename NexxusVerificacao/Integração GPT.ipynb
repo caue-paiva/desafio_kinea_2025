{
 "cells": [
  {
   "cell_type": "code",
   "execution_count": 0,
   "metadata": {
    "application/vnd.databricks.v1+cell": {
     "cellMetadata": {
      "byteLimit": 2048000,
      "rowLimit": 10000
     },
     "inputWidgets": {},
     "nuid": "dae12b2e-65cb-43a5-aa90-206b94807f2e",
     "showTitle": false,
     "tableResultSettingsMap": {},
     "title": ""
    },
    "jupyter": {
     "outputs_hidden": true
    }
   },
   "outputs": [],
   "source": [
    "!pip install openai==0.28"
   ]
  },
  {
   "cell_type": "code",
   "execution_count": 0,
   "metadata": {
    "application/vnd.databricks.v1+cell": {
     "cellMetadata": {
      "byteLimit": 2048000,
      "rowLimit": 10000
     },
     "inputWidgets": {},
     "nuid": "00076c6a-644e-4489-8057-71f657456e38",
     "showTitle": false,
     "tableResultSettingsMap": {},
     "title": ""
    }
   },
   "outputs": [],
   "source": [
    "dbutils.library.restartPython()"
   ]
  },
  {
   "cell_type": "code",
   "execution_count": 0,
   "metadata": {
    "application/vnd.databricks.v1+cell": {
     "cellMetadata": {
      "byteLimit": 2048000,
      "rowLimit": 10000
     },
     "inputWidgets": {},
     "nuid": "5919fa24-636a-4791-bdcd-afb936ea2b45",
     "showTitle": false,
     "tableResultSettingsMap": {},
     "title": ""
    }
   },
   "outputs": [],
   "source": [
    "import openai\n",
    "openai.api_type = \"azure\"\n",
    "openai.api_base = \"https://oai-dk.openai.azure.com/\"\n",
    "openai.api_version = \"2023-12-01-preview\"\n",
    "openai.api_key = dbutils.secrets.get('akvdesafiokinea','azure-oai-dk')"
   ]
  },
  {
   "cell_type": "code",
   "execution_count": 0,
   "metadata": {
    "application/vnd.databricks.v1+cell": {
     "cellMetadata": {
      "byteLimit": 2048000,
      "rowLimit": 10000
     },
     "inputWidgets": {},
     "nuid": "2dfd3915-fa18-4e0f-a713-b04ec12d93ef",
     "showTitle": false,
     "tableResultSettingsMap": {},
     "title": ""
    }
   },
   "outputs": [],
   "source": [
    "#Função para Gerar Restrição\n",
    "def gerar_restricao(regra,dic):\n",
    "    message_text = [\n",
    "                {\"role\":\"system\",\n",
    "                \"content\":\n",
    "                    \"\"\"\n",
    "                    Você receberá o texto em relação a uma regra e um dicionário de valores em torno daquela regra. Sua resposta deve ser uma função de restrição no estilo scipy no formato:\n",
    "                    def restricao(x):\n",
    "                        return x\n",
    "                    e o tipo de restrição \"ineq\" para inequações e \"eq\" para equações\n",
    "                \"\"\"\n",
    "                },\n",
    "                {\"role\":\"user\",\"content\":f\"Texto para a regra: {regra}, JSON com Resultados: {dic}\"}\n",
    "               ]\n",
    "    \n",
    "    completion = openai.ChatCompletion.create(\n",
    "        engine=\"gpt35turbo16k\",\n",
    "        messages = message_text,\n",
    "        temperature=0,\n",
    "        max_tokens=1200,\n",
    "        top_p=0.80,\n",
    "        frequency_penalty=0,\n",
    "        presence_penalty=0,\n",
    "        stop=None)\n",
    "\n",
    "    return completion.to_dict()['choices'][0]['message']['content']"
   ]
  },
  {
   "cell_type": "code",
   "execution_count": 0,
   "metadata": {
    "application/vnd.databricks.v1+cell": {
     "cellMetadata": {
      "byteLimit": 2048000,
      "rowLimit": 10000
     },
     "inputWidgets": {},
     "nuid": "afce1f9b-8537-4b3d-87ee-920a118bd7f3",
     "showTitle": false,
     "tableResultSettingsMap": {},
     "title": ""
    }
   },
   "outputs": [],
   "source": [
    "ex_dic= {'ativo': 'UNEG11', 'pior_rating_permitido': 2, 'rating do ativo': 6, 'posicao_ativo': 118787475.0} #A partir do Parser\n",
    "ex_regra = \"Vedação - Ativos de Crédito Privado c/ Rating Diferente de A\" #A partir de nxenq_regras.Descricao\n",
    "\n",
    "resposta = gerar_restricao(ex_regra,ex_dic)\n",
    "print(resposta)\n"
   ]
  },
  {
   "cell_type": "code",
   "execution_count": 0,
   "metadata": {
    "application/vnd.databricks.v1+cell": {
     "cellMetadata": {
      "byteLimit": 2048000,
      "rowLimit": 10000
     },
     "inputWidgets": {},
     "nuid": "b062725d-044d-4bc0-8981-227abb227ece",
     "showTitle": false,
     "tableResultSettingsMap": {},
     "title": ""
    }
   },
   "outputs": [],
   "source": [
    "#acho que da pra melhorar o prompt\n",
    "\n",
    "ex_dic = {\n",
    "    'ativo': 'UNEG11',\n",
    "    'pior_rating_permitido': 2, \n",
    "    'rating_do_ativo': 6,\n",
    "    'posicao_ativo': 118787475.0,\n",
    "    'descricao_regra': 'Vedação - Ativos de Crédito Privado c/ Rating Diferente de A'\n",
    "}\n",
    "\n",
    "ex_regra = \"\"\"\n",
    "Descrição da Regra:\n",
    "1. Tipo de ativo: Crédito Privado.\n",
    "2. A regra proíbe ativos com rating diferente de A.\n",
    "3. O rating do ativo fornecido é 6, o que viola a regra.\n",
    "4. O ativo em questão é 'UNEG11', e sua posição é 118787475.0.\n",
    "\"\"\"\n",
    "resposta = gerar_restricao(ex_regra,ex_dic)\n",
    "print(resposta)\n"
   ]
  },
  {
   "cell_type": "code",
   "execution_count": 0,
   "metadata": {
    "application/vnd.databricks.v1+cell": {
     "cellMetadata": {
      "byteLimit": 2048000,
      "rowLimit": 10000
     },
     "inputWidgets": {},
     "nuid": "324fd083-2f0f-44bb-a82b-7b61817fc6b9",
     "showTitle": false,
     "tableResultSettingsMap": {},
     "title": ""
    }
   },
   "outputs": [],
   "source": [
    "#podemos pensar também em como fazer um prompt que permita receber varias instruções e retorne restrições diferentes para cada uma delas \n",
    "def gerar_restricao(mensagem_regra, dados_ativos):\n",
    "    \"\"\"\n",
    "    Função que gera restrições com base na regra e dados dos ativos.\n",
    "    \n",
    "    Parâmetros:\n",
    "    - mensagem_regra (str): Descrição da regra a ser aplicada.\n",
    "    - dados_ativos (dict): Dicionário com os dados do ativo e da regra.\n",
    "    \n",
    "    Retorno:\n",
    "    - (str): Mensagem que descreve a restrição gerada.\n",
    "    \"\"\"\n",
    "    ativo = dados_ativos['ativo']\n",
    "    rating_ativo = dados_ativos['rating_do_ativo']\n",
    "    rating_permitido = dados_ativos['pior_rating_permitido']\n",
    "    descricao_regra = dados_ativos.get('descricao_regra', 'Regra não especificada')\n",
    "\n",
    "    if rating_ativo > rating_permitido:\n",
    "        resposta = f\"O ativo '{ativo}' não cumpre a regra '{descricao_regra}', pois seu rating ({rating_ativo}) excede o limite permitido ({rating_permitido}).\"\n",
    "    else:\n",
    "        resposta = f\"O ativo '{ativo}' está em conformidade com a regra '{descricao_regra}'.\"\n",
    "\n",
    "    return resposta"
   ]
  }
 ],
 "metadata": {
  "application/vnd.databricks.v1+notebook": {
   "computePreferences": null,
   "dashboards": [],
   "environmentMetadata": {
    "base_environment": "",
    "environment_version": "2"
   },
   "language": "python",
   "notebookMetadata": {
    "pythonIndentUnit": 4
   },
   "notebookName": "Integração GPT",
   "widgets": {}
  },
  "language_info": {
   "name": "python"
  }
 },
 "nbformat": 4,
 "nbformat_minor": 0
}
